{
 "cells": [
  {
   "cell_type": "code",
   "execution_count": 1,
   "metadata": {
    "colab": {
     "base_uri": "https://localhost:8080/"
    },
    "executionInfo": {
     "elapsed": 26439,
     "status": "ok",
     "timestamp": 1737033292573,
     "user": {
      "displayName": "Farouk Lounes",
      "userId": "07672851101273458894"
     },
     "user_tz": -60
    },
    "id": "JHBCZQO2Gjzp",
    "outputId": "0a3cafe0-fb6b-430b-b70a-0b8198e5cbb6"
   },
   "outputs": [
    {
     "name": "stdout",
     "output_type": "stream",
     "text": [
      "Requirement already satisfied: streamlit in c:\\users\\loual\\appdata\\local\\programs\\python\\python311\\lib\\site-packages (1.41.1)\n",
      "Requirement already satisfied: altair<6,>=4.0 in c:\\users\\loual\\appdata\\local\\programs\\python\\python311\\lib\\site-packages (from streamlit) (5.5.0)\n",
      "Requirement already satisfied: blinker<2,>=1.0.0 in c:\\users\\loual\\appdata\\local\\programs\\python\\python311\\lib\\site-packages (from streamlit) (1.9.0)\n",
      "Requirement already satisfied: cachetools<6,>=4.0 in c:\\users\\loual\\appdata\\local\\programs\\python\\python311\\lib\\site-packages (from streamlit) (5.3.0)\n",
      "Requirement already satisfied: click<9,>=7.0 in c:\\users\\loual\\appdata\\local\\programs\\python\\python311\\lib\\site-packages (from streamlit) (8.1.3)\n",
      "Requirement already satisfied: numpy<3,>=1.23 in c:\\users\\loual\\appdata\\local\\programs\\python\\python311\\lib\\site-packages (from streamlit) (1.23.5)\n",
      "Requirement already satisfied: packaging<25,>=20 in c:\\users\\loual\\appdata\\local\\programs\\python\\python311\\lib\\site-packages (from streamlit) (24.2)\n",
      "Requirement already satisfied: pandas<3,>=1.4.0 in c:\\users\\loual\\appdata\\local\\programs\\python\\python311\\lib\\site-packages (from streamlit) (2.0.0)\n",
      "Requirement already satisfied: pillow<12,>=7.1.0 in c:\\users\\loual\\appdata\\local\\programs\\python\\python311\\lib\\site-packages (from streamlit) (9.3.0)\n",
      "Requirement already satisfied: protobuf<6,>=3.20 in c:\\users\\loual\\appdata\\local\\programs\\python\\python311\\lib\\site-packages (from streamlit) (4.22.1)\n",
      "Requirement already satisfied: pyarrow>=7.0 in c:\\users\\loual\\appdata\\local\\programs\\python\\python311\\lib\\site-packages (from streamlit) (19.0.0)\n",
      "Requirement already satisfied: requests<3,>=2.27 in c:\\users\\loual\\appdata\\local\\programs\\python\\python311\\lib\\site-packages (from streamlit) (2.28.2)\n",
      "Requirement already satisfied: rich<14,>=10.14.0 in c:\\users\\loual\\appdata\\local\\programs\\python\\python311\\lib\\site-packages (from streamlit) (13.9.4)\n",
      "Requirement already satisfied: tenacity<10,>=8.1.0 in c:\\users\\loual\\appdata\\local\\programs\\python\\python311\\lib\\site-packages (from streamlit) (9.0.0)\n",
      "Requirement already satisfied: toml<2,>=0.10.1 in c:\\users\\loual\\appdata\\local\\programs\\python\\python311\\lib\\site-packages (from streamlit) (0.10.2)\n",
      "Requirement already satisfied: typing-extensions<5,>=4.3.0 in c:\\users\\loual\\appdata\\local\\programs\\python\\python311\\lib\\site-packages (from streamlit) (4.12.2)\n",
      "Requirement already satisfied: watchdog<7,>=2.1.5 in c:\\users\\loual\\appdata\\local\\programs\\python\\python311\\lib\\site-packages (from streamlit) (6.0.0)\n",
      "Requirement already satisfied: gitpython!=3.1.19,<4,>=3.0.7 in c:\\users\\loual\\appdata\\local\\programs\\python\\python311\\lib\\site-packages (from streamlit) (3.1.44)\n",
      "Requirement already satisfied: pydeck<1,>=0.8.0b4 in c:\\users\\loual\\appdata\\local\\programs\\python\\python311\\lib\\site-packages (from streamlit) (0.9.1)\n",
      "Requirement already satisfied: tornado<7,>=6.0.3 in c:\\users\\loual\\appdata\\local\\programs\\python\\python311\\lib\\site-packages (from streamlit) (6.2)\n",
      "Requirement already satisfied: jinja2 in c:\\users\\loual\\appdata\\local\\programs\\python\\python311\\lib\\site-packages (from altair<6,>=4.0->streamlit) (3.1.2)\n",
      "Requirement already satisfied: jsonschema>=3.0 in c:\\users\\loual\\appdata\\local\\programs\\python\\python311\\lib\\site-packages (from altair<6,>=4.0->streamlit) (4.17.3)\n",
      "Requirement already satisfied: narwhals>=1.14.2 in c:\\users\\loual\\appdata\\local\\programs\\python\\python311\\lib\\site-packages (from altair<6,>=4.0->streamlit) (1.22.0)\n",
      "Requirement already satisfied: colorama in c:\\users\\loual\\appdata\\local\\programs\\python\\python311\\lib\\site-packages (from click<9,>=7.0->streamlit) (0.4.6)\n",
      "Requirement already satisfied: gitdb<5,>=4.0.1 in c:\\users\\loual\\appdata\\local\\programs\\python\\python311\\lib\\site-packages (from gitpython!=3.1.19,<4,>=3.0.7->streamlit) (4.0.12)\n",
      "Requirement already satisfied: python-dateutil>=2.8.2 in c:\\users\\loual\\appdata\\local\\programs\\python\\python311\\lib\\site-packages (from pandas<3,>=1.4.0->streamlit) (2.8.2)\n",
      "Requirement already satisfied: pytz>=2020.1 in c:\\users\\loual\\appdata\\local\\programs\\python\\python311\\lib\\site-packages (from pandas<3,>=1.4.0->streamlit) (2023.3)\n",
      "Requirement already satisfied: tzdata>=2022.1 in c:\\users\\loual\\appdata\\local\\programs\\python\\python311\\lib\\site-packages (from pandas<3,>=1.4.0->streamlit) (2023.3)\n",
      "Requirement already satisfied: charset-normalizer<4,>=2 in c:\\users\\loual\\appdata\\local\\programs\\python\\python311\\lib\\site-packages (from requests<3,>=2.27->streamlit) (3.0.1)\n",
      "Requirement already satisfied: idna<4,>=2.5 in c:\\users\\loual\\appdata\\local\\programs\\python\\python311\\lib\\site-packages (from requests<3,>=2.27->streamlit) (3.4)\n",
      "Requirement already satisfied: urllib3<1.27,>=1.21.1 in c:\\users\\loual\\appdata\\local\\programs\\python\\python311\\lib\\site-packages (from requests<3,>=2.27->streamlit) (1.26.14)\n",
      "Requirement already satisfied: certifi>=2017.4.17 in c:\\users\\loual\\appdata\\local\\programs\\python\\python311\\lib\\site-packages (from requests<3,>=2.27->streamlit) (2022.12.7)\n",
      "Requirement already satisfied: markdown-it-py>=2.2.0 in c:\\users\\loual\\appdata\\local\\programs\\python\\python311\\lib\\site-packages (from rich<14,>=10.14.0->streamlit) (3.0.0)\n",
      "Requirement already satisfied: pygments<3.0.0,>=2.13.0 in c:\\users\\loual\\appdata\\local\\programs\\python\\python311\\lib\\site-packages (from rich<14,>=10.14.0->streamlit) (2.13.0)\n",
      "Requirement already satisfied: smmap<6,>=3.0.1 in c:\\users\\loual\\appdata\\local\\programs\\python\\python311\\lib\\site-packages (from gitdb<5,>=4.0.1->gitpython!=3.1.19,<4,>=3.0.7->streamlit) (5.0.2)\n",
      "Requirement already satisfied: MarkupSafe>=2.0 in c:\\users\\loual\\appdata\\local\\programs\\python\\python311\\lib\\site-packages (from jinja2->altair<6,>=4.0->streamlit) (2.1.1)\n",
      "Requirement already satisfied: attrs>=17.4.0 in c:\\users\\loual\\appdata\\local\\programs\\python\\python311\\lib\\site-packages (from jsonschema>=3.0->altair<6,>=4.0->streamlit) (22.1.0)\n",
      "Requirement already satisfied: pyrsistent!=0.17.0,!=0.17.1,!=0.17.2,>=0.14.0 in c:\\users\\loual\\appdata\\local\\programs\\python\\python311\\lib\\site-packages (from jsonschema>=3.0->altair<6,>=4.0->streamlit) (0.19.2)\n",
      "Requirement already satisfied: mdurl~=0.1 in c:\\users\\loual\\appdata\\local\\programs\\python\\python311\\lib\\site-packages (from markdown-it-py>=2.2.0->rich<14,>=10.14.0->streamlit) (0.1.2)\n",
      "Requirement already satisfied: six>=1.5 in c:\\users\\loual\\appdata\\local\\programs\\python\\python311\\lib\\site-packages (from python-dateutil>=2.8.2->pandas<3,>=1.4.0->streamlit) (1.16.0)\n"
     ]
    },
    {
     "name": "stderr",
     "output_type": "stream",
     "text": [
      "\n",
      "[notice] A new release of pip available: 22.3.1 -> 24.3.1\n",
      "[notice] To update, run: python.exe -m pip install --upgrade pip\n"
     ]
    },
    {
     "name": "stdout",
     "output_type": "stream",
     "text": [
      "Requirement already satisfied: gradio in c:\\users\\loual\\appdata\\local\\programs\\python\\python311\\lib\\site-packages (5.12.0)\n",
      "Requirement already satisfied: aiofiles<24.0,>=22.0 in c:\\users\\loual\\appdata\\local\\programs\\python\\python311\\lib\\site-packages (from gradio) (23.2.1)\n",
      "Requirement already satisfied: anyio<5.0,>=3.0 in c:\\users\\loual\\appdata\\local\\programs\\python\\python311\\lib\\site-packages (from gradio) (3.6.2)\n",
      "Requirement already satisfied: fastapi<1.0,>=0.115.2 in c:\\users\\loual\\appdata\\local\\programs\\python\\python311\\lib\\site-packages (from gradio) (0.115.6)\n",
      "Requirement already satisfied: ffmpy in c:\\users\\loual\\appdata\\local\\programs\\python\\python311\\lib\\site-packages (from gradio) (0.5.0)\n",
      "Requirement already satisfied: gradio-client==1.5.4 in c:\\users\\loual\\appdata\\local\\programs\\python\\python311\\lib\\site-packages (from gradio) (1.5.4)\n",
      "Requirement already satisfied: httpx>=0.24.1 in c:\\users\\loual\\appdata\\local\\programs\\python\\python311\\lib\\site-packages (from gradio) (0.28.1)\n",
      "Requirement already satisfied: huggingface-hub>=0.25.1 in c:\\users\\loual\\appdata\\local\\programs\\python\\python311\\lib\\site-packages (from gradio) (0.27.1)\n",
      "Requirement already satisfied: jinja2<4.0 in c:\\users\\loual\\appdata\\local\\programs\\python\\python311\\lib\\site-packages (from gradio) (3.1.2)\n",
      "Requirement already satisfied: markupsafe~=2.0 in c:\\users\\loual\\appdata\\local\\programs\\python\\python311\\lib\\site-packages (from gradio) (2.1.1)\n",
      "Requirement already satisfied: numpy<3.0,>=1.0 in c:\\users\\loual\\appdata\\local\\programs\\python\\python311\\lib\\site-packages (from gradio) (1.23.5)\n",
      "Requirement already satisfied: orjson~=3.0 in c:\\users\\loual\\appdata\\local\\programs\\python\\python311\\lib\\site-packages (from gradio) (3.10.14)\n",
      "Requirement already satisfied: packaging in c:\\users\\loual\\appdata\\local\\programs\\python\\python311\\lib\\site-packages (from gradio) (24.2)\n",
      "Requirement already satisfied: pandas<3.0,>=1.0 in c:\\users\\loual\\appdata\\local\\programs\\python\\python311\\lib\\site-packages (from gradio) (2.0.0)\n",
      "Requirement already satisfied: pillow<12.0,>=8.0 in c:\\users\\loual\\appdata\\local\\programs\\python\\python311\\lib\\site-packages (from gradio) (9.3.0)\n",
      "Requirement already satisfied: pydantic>=2.0 in c:\\users\\loual\\appdata\\local\\programs\\python\\python311\\lib\\site-packages (from gradio) (2.10.5)\n",
      "Requirement already satisfied: pydub in c:\\users\\loual\\appdata\\local\\programs\\python\\python311\\lib\\site-packages (from gradio) (0.25.1)\n",
      "Requirement already satisfied: python-multipart>=0.0.18 in c:\\users\\loual\\appdata\\local\\programs\\python\\python311\\lib\\site-packages (from gradio) (0.0.20)\n",
      "Requirement already satisfied: pyyaml<7.0,>=5.0 in c:\\users\\loual\\appdata\\local\\programs\\python\\python311\\lib\\site-packages (from gradio) (6.0)\n",
      "Requirement already satisfied: ruff>=0.2.2 in c:\\users\\loual\\appdata\\local\\programs\\python\\python311\\lib\\site-packages (from gradio) (0.9.2)\n",
      "Requirement already satisfied: safehttpx<0.2.0,>=0.1.6 in c:\\users\\loual\\appdata\\local\\programs\\python\\python311\\lib\\site-packages (from gradio) (0.1.6)\n",
      "Requirement already satisfied: semantic-version~=2.0 in c:\\users\\loual\\appdata\\local\\programs\\python\\python311\\lib\\site-packages (from gradio) (2.10.0)\n",
      "Requirement already satisfied: starlette<1.0,>=0.40.0 in c:\\users\\loual\\appdata\\local\\programs\\python\\python311\\lib\\site-packages (from gradio) (0.41.3)\n",
      "Requirement already satisfied: tomlkit<0.14.0,>=0.12.0 in c:\\users\\loual\\appdata\\local\\programs\\python\\python311\\lib\\site-packages (from gradio) (0.13.2)\n",
      "Requirement already satisfied: typer<1.0,>=0.12 in c:\\users\\loual\\appdata\\local\\programs\\python\\python311\\lib\\site-packages (from gradio) (0.15.1)\n",
      "Requirement already satisfied: typing-extensions~=4.0 in c:\\users\\loual\\appdata\\local\\programs\\python\\python311\\lib\\site-packages (from gradio) (4.12.2)\n",
      "Requirement already satisfied: uvicorn>=0.14.0 in c:\\users\\loual\\appdata\\local\\programs\\python\\python311\\lib\\site-packages (from gradio) (0.34.0)\n",
      "Requirement already satisfied: fsspec in c:\\users\\loual\\appdata\\local\\programs\\python\\python311\\lib\\site-packages (from gradio-client==1.5.4->gradio) (2024.9.0)\n",
      "Requirement already satisfied: websockets<15.0,>=10.0 in c:\\users\\loual\\appdata\\local\\programs\\python\\python311\\lib\\site-packages (from gradio-client==1.5.4->gradio) (14.1)\n",
      "Requirement already satisfied: idna>=2.8 in c:\\users\\loual\\appdata\\local\\programs\\python\\python311\\lib\\site-packages (from anyio<5.0,>=3.0->gradio) (3.4)\n",
      "Requirement already satisfied: sniffio>=1.1 in c:\\users\\loual\\appdata\\local\\programs\\python\\python311\\lib\\site-packages (from anyio<5.0,>=3.0->gradio) (1.3.0)\n",
      "Requirement already satisfied: certifi in c:\\users\\loual\\appdata\\local\\programs\\python\\python311\\lib\\site-packages (from httpx>=0.24.1->gradio) (2022.12.7)\n",
      "Requirement already satisfied: httpcore==1.* in c:\\users\\loual\\appdata\\local\\programs\\python\\python311\\lib\\site-packages (from httpx>=0.24.1->gradio) (1.0.7)\n",
      "Requirement already satisfied: h11<0.15,>=0.13 in c:\\users\\loual\\appdata\\local\\programs\\python\\python311\\lib\\site-packages (from httpcore==1.*->httpx>=0.24.1->gradio) (0.14.0)\n",
      "Requirement already satisfied: filelock in c:\\users\\loual\\appdata\\local\\programs\\python\\python311\\lib\\site-packages (from huggingface-hub>=0.25.1->gradio) (3.16.1)\n",
      "Requirement already satisfied: requests in c:\\users\\loual\\appdata\\local\\programs\\python\\python311\\lib\\site-packages (from huggingface-hub>=0.25.1->gradio) (2.28.2)\n",
      "Requirement already satisfied: tqdm>=4.42.1 in c:\\users\\loual\\appdata\\local\\programs\\python\\python311\\lib\\site-packages (from huggingface-hub>=0.25.1->gradio) (4.67.1)\n",
      "Requirement already satisfied: python-dateutil>=2.8.2 in c:\\users\\loual\\appdata\\local\\programs\\python\\python311\\lib\\site-packages (from pandas<3.0,>=1.0->gradio) (2.8.2)\n",
      "Requirement already satisfied: pytz>=2020.1 in c:\\users\\loual\\appdata\\local\\programs\\python\\python311\\lib\\site-packages (from pandas<3.0,>=1.0->gradio) (2023.3)\n",
      "Requirement already satisfied: tzdata>=2022.1 in c:\\users\\loual\\appdata\\local\\programs\\python\\python311\\lib\\site-packages (from pandas<3.0,>=1.0->gradio) (2023.3)\n",
      "Requirement already satisfied: annotated-types>=0.6.0 in c:\\users\\loual\\appdata\\local\\programs\\python\\python311\\lib\\site-packages (from pydantic>=2.0->gradio) (0.7.0)\n",
      "Requirement already satisfied: pydantic-core==2.27.2 in c:\\users\\loual\\appdata\\local\\programs\\python\\python311\\lib\\site-packages (from pydantic>=2.0->gradio) (2.27.2)\n",
      "Requirement already satisfied: click>=8.0.0 in c:\\users\\loual\\appdata\\local\\programs\\python\\python311\\lib\\site-packages (from typer<1.0,>=0.12->gradio) (8.1.3)\n",
      "Requirement already satisfied: shellingham>=1.3.0 in c:\\users\\loual\\appdata\\local\\programs\\python\\python311\\lib\\site-packages (from typer<1.0,>=0.12->gradio) (1.5.4)\n",
      "Requirement already satisfied: rich>=10.11.0 in c:\\users\\loual\\appdata\\local\\programs\\python\\python311\\lib\\site-packages (from typer<1.0,>=0.12->gradio) (13.9.4)\n",
      "Requirement already satisfied: colorama in c:\\users\\loual\\appdata\\local\\programs\\python\\python311\\lib\\site-packages (from click>=8.0.0->typer<1.0,>=0.12->gradio) (0.4.6)\n",
      "Requirement already satisfied: six>=1.5 in c:\\users\\loual\\appdata\\local\\programs\\python\\python311\\lib\\site-packages (from python-dateutil>=2.8.2->pandas<3.0,>=1.0->gradio) (1.16.0)\n",
      "Requirement already satisfied: markdown-it-py>=2.2.0 in c:\\users\\loual\\appdata\\local\\programs\\python\\python311\\lib\\site-packages (from rich>=10.11.0->typer<1.0,>=0.12->gradio) (3.0.0)\n",
      "Requirement already satisfied: pygments<3.0.0,>=2.13.0 in c:\\users\\loual\\appdata\\local\\programs\\python\\python311\\lib\\site-packages (from rich>=10.11.0->typer<1.0,>=0.12->gradio) (2.13.0)\n",
      "Requirement already satisfied: charset-normalizer<4,>=2 in c:\\users\\loual\\appdata\\local\\programs\\python\\python311\\lib\\site-packages (from requests->huggingface-hub>=0.25.1->gradio) (3.0.1)\n",
      "Requirement already satisfied: urllib3<1.27,>=1.21.1 in c:\\users\\loual\\appdata\\local\\programs\\python\\python311\\lib\\site-packages (from requests->huggingface-hub>=0.25.1->gradio) (1.26.14)\n",
      "Requirement already satisfied: mdurl~=0.1 in c:\\users\\loual\\appdata\\local\\programs\\python\\python311\\lib\\site-packages (from markdown-it-py>=2.2.0->rich>=10.11.0->typer<1.0,>=0.12->gradio) (0.1.2)\n"
     ]
    },
    {
     "name": "stderr",
     "output_type": "stream",
     "text": [
      "\n",
      "[notice] A new release of pip available: 22.3.1 -> 24.3.1\n",
      "[notice] To update, run: python.exe -m pip install --upgrade pip\n"
     ]
    },
    {
     "name": "stdout",
     "output_type": "stream",
     "text": [
      "Requirement already satisfied: squarify in c:\\users\\loual\\appdata\\local\\programs\\python\\python311\\lib\\site-packages (0.4.4)"
     ]
    },
    {
     "name": "stderr",
     "output_type": "stream",
     "text": [
      "\n",
      "[notice] A new release of pip available: 22.3.1 -> 24.3.1\n",
      "[notice] To update, run: python.exe -m pip install --upgrade pip\n"
     ]
    },
    {
     "name": "stdout",
     "output_type": "stream",
     "text": [
      "\n",
      "Requirement already satisfied: plotly in c:\\users\\loual\\appdata\\local\\programs\\python\\python311\\lib\\site-packages (5.24.1)"
     ]
    },
    {
     "name": "stderr",
     "output_type": "stream",
     "text": [
      "\n",
      "[notice] A new release of pip available: 22.3.1 -> 24.3.1\n",
      "[notice] To update, run: python.exe -m pip install --upgrade pip\n"
     ]
    },
    {
     "name": "stdout",
     "output_type": "stream",
     "text": [
      "\n",
      "Requirement already satisfied: tenacity>=6.2.0 in c:\\users\\loual\\appdata\\local\\programs\\python\\python311\\lib\\site-packages (from plotly) (9.0.0)\n",
      "Requirement already satisfied: packaging in c:\\users\\loual\\appdata\\local\\programs\\python\\python311\\lib\\site-packages (from plotly) (24.2)\n",
      "Requirement already satisfied: gradio in c:\\users\\loual\\appdata\\local\\programs\\python\\python311\\lib\\site-packages (5.12.0)\n",
      "Requirement already satisfied: aiofiles<24.0,>=22.0 in c:\\users\\loual\\appdata\\local\\programs\\python\\python311\\lib\\site-packages (from gradio) (23.2.1)\n",
      "Requirement already satisfied: anyio<5.0,>=3.0 in c:\\users\\loual\\appdata\\local\\programs\\python\\python311\\lib\\site-packages (from gradio) (3.6.2)\n",
      "Requirement already satisfied: fastapi<1.0,>=0.115.2 in c:\\users\\loual\\appdata\\local\\programs\\python\\python311\\lib\\site-packages (from gradio) (0.115.6)\n",
      "Requirement already satisfied: ffmpy in c:\\users\\loual\\appdata\\local\\programs\\python\\python311\\lib\\site-packages (from gradio) (0.5.0)\n",
      "Requirement already satisfied: gradio-client==1.5.4 in c:\\users\\loual\\appdata\\local\\programs\\python\\python311\\lib\\site-packages (from gradio) (1.5.4)\n",
      "Requirement already satisfied: httpx>=0.24.1 in c:\\users\\loual\\appdata\\local\\programs\\python\\python311\\lib\\site-packages (from gradio) (0.28.1)\n",
      "Requirement already satisfied: huggingface-hub>=0.25.1 in c:\\users\\loual\\appdata\\local\\programs\\python\\python311\\lib\\site-packages (from gradio) (0.27.1)\n",
      "Requirement already satisfied: jinja2<4.0 in c:\\users\\loual\\appdata\\local\\programs\\python\\python311\\lib\\site-packages (from gradio) (3.1.2)\n",
      "Requirement already satisfied: markupsafe~=2.0 in c:\\users\\loual\\appdata\\local\\programs\\python\\python311\\lib\\site-packages (from gradio) (2.1.1)\n",
      "Requirement already satisfied: numpy<3.0,>=1.0 in c:\\users\\loual\\appdata\\local\\programs\\python\\python311\\lib\\site-packages (from gradio) (1.23.5)\n",
      "Requirement already satisfied: orjson~=3.0 in c:\\users\\loual\\appdata\\local\\programs\\python\\python311\\lib\\site-packages (from gradio) (3.10.14)\n",
      "Requirement already satisfied: packaging in c:\\users\\loual\\appdata\\local\\programs\\python\\python311\\lib\\site-packages (from gradio) (24.2)\n",
      "Requirement already satisfied: pandas<3.0,>=1.0 in c:\\users\\loual\\appdata\\local\\programs\\python\\python311\\lib\\site-packages (from gradio) (2.0.0)\n",
      "Requirement already satisfied: pillow<12.0,>=8.0 in c:\\users\\loual\\appdata\\local\\programs\\python\\python311\\lib\\site-packages (from gradio) (9.3.0)\n",
      "Requirement already satisfied: pydantic>=2.0 in c:\\users\\loual\\appdata\\local\\programs\\python\\python311\\lib\\site-packages (from gradio) (2.10.5)\n",
      "Requirement already satisfied: pydub in c:\\users\\loual\\appdata\\local\\programs\\python\\python311\\lib\\site-packages (from gradio) (0.25.1)\n",
      "Requirement already satisfied: python-multipart>=0.0.18 in c:\\users\\loual\\appdata\\local\\programs\\python\\python311\\lib\\site-packages (from gradio) (0.0.20)\n",
      "Requirement already satisfied: pyyaml<7.0,>=5.0 in c:\\users\\loual\\appdata\\local\\programs\\python\\python311\\lib\\site-packages (from gradio) (6.0)\n",
      "Requirement already satisfied: ruff>=0.2.2 in c:\\users\\loual\\appdata\\local\\programs\\python\\python311\\lib\\site-packages (from gradio) (0.9.2)\n",
      "Requirement already satisfied: safehttpx<0.2.0,>=0.1.6 in c:\\users\\loual\\appdata\\local\\programs\\python\\python311\\lib\\site-packages (from gradio) (0.1.6)\n",
      "Requirement already satisfied: semantic-version~=2.0 in c:\\users\\loual\\appdata\\local\\programs\\python\\python311\\lib\\site-packages (from gradio) (2.10.0)\n",
      "Requirement already satisfied: starlette<1.0,>=0.40.0 in c:\\users\\loual\\appdata\\local\\programs\\python\\python311\\lib\\site-packages (from gradio) (0.41.3)\n",
      "Requirement already satisfied: tomlkit<0.14.0,>=0.12.0 in c:\\users\\loual\\appdata\\local\\programs\\python\\python311\\lib\\site-packages (from gradio) (0.13.2)\n",
      "Requirement already satisfied: typer<1.0,>=0.12 in c:\\users\\loual\\appdata\\local\\programs\\python\\python311\\lib\\site-packages (from gradio) (0.15.1)\n",
      "Requirement already satisfied: typing-extensions~=4.0 in c:\\users\\loual\\appdata\\local\\programs\\python\\python311\\lib\\site-packages (from gradio) (4.12.2)\n",
      "Requirement already satisfied: uvicorn>=0.14.0 in c:\\users\\loual\\appdata\\local\\programs\\python\\python311\\lib\\site-packages (from gradio) (0.34.0)\n",
      "Requirement already satisfied: fsspec in c:\\users\\loual\\appdata\\local\\programs\\python\\python311\\lib\\site-packages (from gradio-client==1.5.4->gradio) (2024.9.0)\n",
      "Requirement already satisfied: websockets<15.0,>=10.0 in c:\\users\\loual\\appdata\\local\\programs\\python\\python311\\lib\\site-packages (from gradio-client==1.5.4->gradio) (14.1)\n",
      "Requirement already satisfied: idna>=2.8 in c:\\users\\loual\\appdata\\local\\programs\\python\\python311\\lib\\site-packages (from anyio<5.0,>=3.0->gradio) (3.4)\n",
      "Requirement already satisfied: sniffio>=1.1 in c:\\users\\loual\\appdata\\local\\programs\\python\\python311\\lib\\site-packages (from anyio<5.0,>=3.0->gradio) (1.3.0)\n",
      "Requirement already satisfied: certifi in c:\\users\\loual\\appdata\\local\\programs\\python\\python311\\lib\\site-packages (from httpx>=0.24.1->gradio) (2022.12.7)\n",
      "Requirement already satisfied: httpcore==1.* in c:\\users\\loual\\appdata\\local\\programs\\python\\python311\\lib\\site-packages (from httpx>=0.24.1->gradio) (1.0.7)\n",
      "Requirement already satisfied: h11<0.15,>=0.13 in c:\\users\\loual\\appdata\\local\\programs\\python\\python311\\lib\\site-packages (from httpcore==1.*->httpx>=0.24.1->gradio) (0.14.0)\n",
      "Requirement already satisfied: filelock in c:\\users\\loual\\appdata\\local\\programs\\python\\python311\\lib\\site-packages (from huggingface-hub>=0.25.1->gradio) (3.16.1)\n",
      "Requirement already satisfied: requests in c:\\users\\loual\\appdata\\local\\programs\\python\\python311\\lib\\site-packages (from huggingface-hub>=0.25.1->gradio) (2.28.2)\n",
      "Requirement already satisfied: tqdm>=4.42.1 in c:\\users\\loual\\appdata\\local\\programs\\python\\python311\\lib\\site-packages (from huggingface-hub>=0.25.1->gradio) (4.67.1)\n",
      "Requirement already satisfied: python-dateutil>=2.8.2 in c:\\users\\loual\\appdata\\local\\programs\\python\\python311\\lib\\site-packages (from pandas<3.0,>=1.0->gradio) (2.8.2)\n",
      "Requirement already satisfied: pytz>=2020.1 in c:\\users\\loual\\appdata\\local\\programs\\python\\python311\\lib\\site-packages (from pandas<3.0,>=1.0->gradio) (2023.3)\n",
      "Requirement already satisfied: tzdata>=2022.1 in c:\\users\\loual\\appdata\\local\\programs\\python\\python311\\lib\\site-packages (from pandas<3.0,>=1.0->gradio) (2023.3)\n",
      "Requirement already satisfied: annotated-types>=0.6.0 in c:\\users\\loual\\appdata\\local\\programs\\python\\python311\\lib\\site-packages (from pydantic>=2.0->gradio) (0.7.0)\n",
      "Requirement already satisfied: pydantic-core==2.27.2 in c:\\users\\loual\\appdata\\local\\programs\\python\\python311\\lib\\site-packages (from pydantic>=2.0->gradio) (2.27.2)\n",
      "Requirement already satisfied: click>=8.0.0 in c:\\users\\loual\\appdata\\local\\programs\\python\\python311\\lib\\site-packages (from typer<1.0,>=0.12->gradio) (8.1.3)\n",
      "Requirement already satisfied: shellingham>=1.3.0 in c:\\users\\loual\\appdata\\local\\programs\\python\\python311\\lib\\site-packages (from typer<1.0,>=0.12->gradio) (1.5.4)\n",
      "Requirement already satisfied: rich>=10.11.0 in c:\\users\\loual\\appdata\\local\\programs\\python\\python311\\lib\\site-packages (from typer<1.0,>=0.12->gradio) (13.9.4)\n",
      "Requirement already satisfied: colorama in c:\\users\\loual\\appdata\\local\\programs\\python\\python311\\lib\\site-packages (from click>=8.0.0->typer<1.0,>=0.12->gradio) (0.4.6)\n",
      "Requirement already satisfied: six>=1.5 in c:\\users\\loual\\appdata\\local\\programs\\python\\python311\\lib\\site-packages (from python-dateutil>=2.8.2->pandas<3.0,>=1.0->gradio) (1.16.0)\n",
      "Requirement already satisfied: markdown-it-py>=2.2.0 in c:\\users\\loual\\appdata\\local\\programs\\python\\python311\\lib\\site-packages (from rich>=10.11.0->typer<1.0,>=0.12->gradio) (3.0.0)\n",
      "Requirement already satisfied: pygments<3.0.0,>=2.13.0 in c:\\users\\loual\\appdata\\local\\programs\\python\\python311\\lib\\site-packages (from rich>=10.11.0->typer<1.0,>=0.12->gradio) (2.13.0)\n",
      "Requirement already satisfied: charset-normalizer<4,>=2 in c:\\users\\loual\\appdata\\local\\programs\\python\\python311\\lib\\site-packages (from requests->huggingface-hub>=0.25.1->gradio) (3.0.1)\n",
      "Requirement already satisfied: urllib3<1.27,>=1.21.1 in c:\\users\\loual\\appdata\\local\\programs\\python\\python311\\lib\\site-packages (from requests->huggingface-hub>=0.25.1->gradio) (1.26.14)\n",
      "Requirement already satisfied: mdurl~=0.1 in c:\\users\\loual\\appdata\\local\\programs\\python\\python311\\lib\\site-packages (from markdown-it-py>=2.2.0->rich>=10.11.0->typer<1.0,>=0.12->gradio) (0.1.2)\n"
     ]
    },
    {
     "name": "stderr",
     "output_type": "stream",
     "text": [
      "\n",
      "[notice] A new release of pip available: 22.3.1 -> 24.3.1\n",
      "[notice] To update, run: python.exe -m pip install --upgrade pip\n"
     ]
    }
   ],
   "source": [
    "!pip install streamlit\n",
    "!pip install gradio\n",
    "!pip install squarify\n",
    "!pip install plotly\n",
    "!pip install --upgrade gradio"
   ]
  },
  {
   "cell_type": "code",
   "execution_count": 2,
   "metadata": {},
   "outputs": [
    {
     "name": "stdout",
     "output_type": "stream",
     "text": [
      "Requirement already satisfied: seaborn in c:\\users\\loual\\appdata\\local\\programs\\python\\python311\\lib\\site-packages (0.13.2)\n",
      "Requirement already satisfied: numpy!=1.24.0,>=1.20 in c:\\users\\loual\\appdata\\local\\programs\\python\\python311\\lib\\site-packages (from seaborn) (1.23.5)\n",
      "Requirement already satisfied: pandas>=1.2 in c:\\users\\loual\\appdata\\local\\programs\\python\\python311\\lib\\site-packages (from seaborn) (2.0.0)\n",
      "Requirement already satisfied: matplotlib!=3.6.1,>=3.4 in c:\\users\\loual\\appdata\\local\\programs\\python\\python311\\lib\\site-packages (from seaborn) (3.6.2)\n",
      "Requirement already satisfied: contourpy>=1.0.1 in c:\\users\\loual\\appdata\\local\\programs\\python\\python311\\lib\\site-packages (from matplotlib!=3.6.1,>=3.4->seaborn) (1.0.6)\n",
      "Requirement already satisfied: cycler>=0.10 in c:\\users\\loual\\appdata\\local\\programs\\python\\python311\\lib\\site-packages (from matplotlib!=3.6.1,>=3.4->seaborn) (0.11.0)\n",
      "Requirement already satisfied: fonttools>=4.22.0 in c:\\users\\loual\\appdata\\local\\programs\\python\\python311\\lib\\site-packages (from matplotlib!=3.6.1,>=3.4->seaborn) (4.38.0)\n",
      "Requirement already satisfied: kiwisolver>=1.0.1 in c:\\users\\loual\\appdata\\local\\programs\\python\\python311\\lib\\site-packages (from matplotlib!=3.6.1,>=3.4->seaborn) (1.4.4)\n",
      "Requirement already satisfied: packaging>=20.0 in c:\\users\\loual\\appdata\\local\\programs\\python\\python311\\lib\\site-packages (from matplotlib!=3.6.1,>=3.4->seaborn) (24.2)\n",
      "Requirement already satisfied: pillow>=6.2.0 in c:\\users\\loual\\appdata\\local\\programs\\python\\python311\\lib\\site-packages (from matplotlib!=3.6.1,>=3.4->seaborn) (9.3.0)\n",
      "Requirement already satisfied: pyparsing>=2.2.1 in c:\\users\\loual\\appdata\\local\\programs\\python\\python311\\lib\\site-packages (from matplotlib!=3.6.1,>=3.4->seaborn) (3.0.9)\n",
      "Requirement already satisfied: python-dateutil>=2.7 in c:\\users\\loual\\appdata\\local\\programs\\python\\python311\\lib\\site-packages (from matplotlib!=3.6.1,>=3.4->seaborn) (2.8.2)\n",
      "Requirement already satisfied: pytz>=2020.1 in c:\\users\\loual\\appdata\\local\\programs\\python\\python311\\lib\\site-packages (from pandas>=1.2->seaborn) (2023.3)\n",
      "Requirement already satisfied: tzdata>=2022.1 in c:\\users\\loual\\appdata\\local\\programs\\python\\python311\\lib\\site-packages (from pandas>=1.2->seaborn) (2023.3)\n",
      "Requirement already satisfied: six>=1.5 in c:\\users\\loual\\appdata\\local\\programs\\python\\python311\\lib\\site-packages (from python-dateutil>=2.7->matplotlib!=3.6.1,>=3.4->seaborn) (1.16.0)\n"
     ]
    },
    {
     "name": "stderr",
     "output_type": "stream",
     "text": [
      "\n",
      "[notice] A new release of pip available: 22.3.1 -> 24.3.1\n",
      "[notice] To update, run: python.exe -m pip install --upgrade pip\n"
     ]
    }
   ],
   "source": [
    "!pip install seaborn"
   ]
  },
  {
   "cell_type": "code",
   "execution_count": 3,
   "metadata": {
    "executionInfo": {
     "elapsed": 20501,
     "status": "ok",
     "timestamp": 1737033318020,
     "user": {
      "displayName": "Farouk Lounes",
      "userId": "07672851101273458894"
     },
     "user_tz": -60
    },
    "id": "4yy5mxiYNVLN"
   },
   "outputs": [],
   "source": [
    "#from google.colab import drive\n",
    "import matplotlib.pyplot as plt\n",
    "import os\n",
    "import pandas as pd\n",
    "import gradio as gr\n",
    "import io\n",
    "import seaborn as sns\n",
    "import squarify\n",
    "import plotly.express as px"
   ]
  },
  {
   "cell_type": "code",
   "execution_count": 4,
   "metadata": {
    "colab": {
     "base_uri": "https://localhost:8080/",
     "height": 1000
    },
    "executionInfo": {
     "elapsed": 966,
     "status": "ok",
     "timestamp": 1737033332865,
     "user": {
      "displayName": "Farouk Lounes",
      "userId": "07672851101273458894"
     },
     "user_tz": -60
    },
    "id": "l0qecMjoNt_9",
    "outputId": "0cfa8097-3f1b-462d-e7e4-b6e69f32a35c"
   },
   "outputs": [
    {
     "name": "stdout",
     "output_type": "stream",
     "text": [
      "Aperçu des données nettoyées :\n",
      "     Chaines  1990  1991  1992  1993  1994  1995  1996  1997  1998  ...   \n",
      "0   France 2   182   194   187   185   185   190   180   197   201  ...  \\\n",
      "1   France 3   193   191   191   189   192   205   209   194   207  ...   \n",
      "2   France 4     0     0     0     0     0     0     0     0     0  ...   \n",
      "3   France 5     0     0     0     0     0     0     0     0     0  ...   \n",
      "4  France Ô3     0     0     0     0     0     0     0     0     0  ...   \n",
      "\n",
      "    2014   2015   2016   2017   2018   2019   2020   2021   2022   2023  \n",
      "0  153.0  130.0   99.0   93.0   98.0  119.0  176.0  127.0   92.0   91.0  \n",
      "1  181.0  185.0  178.0  149.0  128.0  106.0  153.0  150.0  132.0  112.0  \n",
      "2  149.0  150.0  145.0  153.0  130.0  115.0   91.0   24.0   28.0   22.0  \n",
      "3    6.0    2.0   27.0   24.0   31.0   71.0   68.0   52.0   35.0   38.0  \n",
      "4   50.0   50.0   51.0   51.0   46.0   34.0   14.0    NaN    NaN    NaN  \n",
      "\n",
      "[5 rows x 35 columns]\n",
      "\n",
      "Statistiques descriptives :\n",
      "             1990       1991        1992        1993        1994        1995   \n",
      "count   26.000000   26.00000   26.000000   26.000000   26.000000   26.000000  \\\n",
      "mean    96.692308   98.00000   96.192308  104.846154  110.230769  112.807692   \n",
      "std    167.287482  169.16288  159.919985  169.802637  179.287994  186.382836   \n",
      "min      0.000000    0.00000    0.000000    0.000000    0.000000    0.000000   \n",
      "25%      0.000000    0.00000    0.000000    0.000000    0.000000    0.000000   \n",
      "50%      0.000000    0.00000    0.000000    0.000000    0.000000    0.000000   \n",
      "75%    178.750000  182.75000  182.000000  183.250000  189.500000  189.750000   \n",
      "max    548.000000  541.00000  445.000000  550.000000  622.000000  684.000000   \n",
      "\n",
      "             1996        1997        1998        1999  ...        2014   \n",
      "count   26.000000   26.000000   26.000000   26.000000  ...   25.000000  \\\n",
      "mean   114.269231  114.192308  117.653846  117.692308  ...  166.600000   \n",
      "std    189.385228  187.203850  194.083269  194.318042  ...  197.491772   \n",
      "min      0.000000    0.000000    0.000000    0.000000  ...    1.000000   \n",
      "25%      0.000000    0.000000    0.000000    0.000000  ...   52.000000   \n",
      "50%      0.000000    0.000000    0.000000    0.000000  ...  130.000000   \n",
      "75%    186.750000  193.000000  198.250000  195.750000  ...  153.000000   \n",
      "max    703.000000  693.000000  727.000000  727.000000  ...  958.000000   \n",
      "\n",
      "             2015        2016        2017        2018        2019        2020   \n",
      "count   25.000000   25.000000   24.000000   24.000000   23.000000   24.000000  \\\n",
      "mean   167.480000  166.600000  165.000000  164.625000  169.434783  172.583333   \n",
      "std    188.185219  201.535357  186.794702  193.397723  193.784751  209.007576   \n",
      "min      1.000000    1.000000    4.000000    1.000000    5.000000    2.000000   \n",
      "25%    102.000000   72.000000   82.500000   72.750000   76.500000   68.750000   \n",
      "50%    127.000000  118.000000  120.000000  116.500000  112.000000  107.000000   \n",
      "75%    153.000000  145.000000  144.500000  131.500000  120.500000  155.250000   \n",
      "max    909.000000  953.000000  887.000000  884.000000  846.000000  925.000000   \n",
      "\n",
      "             2021        2022        2023  \n",
      "count   22.000000   22.000000   22.000000  \n",
      "mean   174.363636  157.772727  153.818182  \n",
      "std    187.217100  164.725437  153.994012  \n",
      "min     15.000000    5.000000    3.000000  \n",
      "25%     74.250000   61.250000   63.000000  \n",
      "50%    123.000000  120.500000  117.000000  \n",
      "75%    148.000000  143.500000  139.750000  \n",
      "max    809.000000  713.000000  648.000000  \n",
      "\n",
      "[8 rows x 34 columns]\n"
     ]
    },
    {
     "data": {
      "image/png": "[encoded data removed]",
      "text/plain": [
       "<Figure size 1000x600 with 1 Axes>"
      ]
     },
     "metadata": {},
     "output_type": "display_data"
    },
    {
     "name": "stdout",
     "output_type": "stream",
     "text": [
      "\n",
      "Valeurs manquantes par colonne :\n",
      "Chaines    0\n",
      "1990       0\n",
      "1991       0\n",
      "1992       0\n",
      "1993       0\n",
      "1994       0\n",
      "1995       0\n",
      "1996       0\n",
      "1997       0\n",
      "1998       0\n",
      "1999       0\n",
      "2000       0\n",
      "2001       0\n",
      "2002       0\n",
      "2003       0\n",
      "2004       0\n",
      "2005       1\n",
      "2006       1\n",
      "2007       1\n",
      "2008       1\n",
      "2009       1\n",
      "2010       1\n",
      "2011       1\n",
      "2012       1\n",
      "2013       1\n",
      "2014       1\n",
      "2015       1\n",
      "2016       1\n",
      "2017       2\n",
      "2018       2\n",
      "2019       3\n",
      "2020       2\n",
      "2021       4\n",
      "2022       4\n",
      "2023       4\n",
      "dtype: int64\n"
     ]
    }
   ],
   "source": [
    "# Charger les données\n",
    "file_path = '../Data/DonneesCreees/Films_part1.csv'\n",
    "data = pd.read_csv(file_path)\n",
    "\n",
    "# Renommer la première colonne pour plus de clarté\n",
    "data.rename(columns={data.columns[0]: \"Chaines\"}, inplace=True)\n",
    "\n",
    "# Remplacer les tirets (\"-\") par des valeurs manquantes (0) et convertir en numérique si possible\n",
    "data.replace(\"-\", 0, inplace=True)\n",
    "for col in data.columns[1:]:\n",
    "    data[col] = pd.to_numeric(data[col], errors='coerce')\n",
    "\n",
    "\n",
    "# Aperçu des données nettoyées\n",
    "print(\"Aperçu des données nettoyées :\")\n",
    "print(data.head())\n",
    "\n",
    "# Statistiques descriptives\n",
    "print(\"\\nStatistiques descriptives :\")\n",
    "print(data.describe())\n",
    "\n",
    "# Visualisation des tendances globales\n",
    "data_mean = data.iloc[:, 1:].mean()  # Moyennes annuelles pour chaque année\n",
    "\n",
    "# Graphique des moyennes annuelles\n",
    "plt.figure(figsize=(10, 6))\n",
    "plt.plot(data.columns[1:], data_mean, marker='o')\n",
    "plt.title(\"Tendances moyennes des valeurs annuelles\")\n",
    "plt.xlabel(\"Année\")\n",
    "plt.ylabel(\"Moyenne\")\n",
    "plt.grid()\n",
    "plt.show()\n",
    "\n",
    "# Identification des valeurs manquantes\n",
    "missing_data = data.isnull().sum()\n",
    "\n",
    "# Affichage des colonnes avec le plus de valeurs manquantes\n",
    "print(\"\\nValeurs manquantes par colonne :\")\n",
    "print(missing_data)\n",
    "\n",
    "data = data.dropna()\n"
   ]
  },
  {
   "cell_type": "code",
   "execution_count": 5,
   "metadata": {
    "colab": {
     "base_uri": "https://localhost:8080/",
     "height": 1000
    },
    "executionInfo": {
     "elapsed": 1343,
     "status": "ok",
     "timestamp": 1737033346947,
     "user": {
      "displayName": "Farouk Lounes",
      "userId": "07672851101273458894"
     },
     "user_tz": -60
    },
    "id": "sq98KBlxNuBo",
    "outputId": "60245a02-da11-48bd-8e04-6a40627bd39d"
   },
   "outputs": [
    {
     "data": {
      "image/png": "[encoded data removed]",
      "text/plain": [
       "<Figure size 1000x600 with 1 Axes>"
      ]
     },
     "metadata": {},
     "output_type": "display_data"
    },
    {
     "data": {
      "image/png": "[encoded data removed]",
      "text/plain": [
       "<Figure size 1000x600 with 1 Axes>"
      ]
     },
     "metadata": {},
     "output_type": "display_data"
    },
    {
     "data": {
      "image/png": "[encoded data removed]",
      "text/plain": [
       "<Figure size 1000x600 with 1 Axes>"
      ]
     },
     "metadata": {},
     "output_type": "display_data"
    },
    {
     "name": "stdout",
     "output_type": "stream",
     "text": [
      "\n",
      "Valeurs manquantes par colonne (originales) :\n",
      "Chaines    0\n",
      "1990       0\n",
      "1991       0\n",
      "1992       0\n",
      "1993       0\n",
      "1994       0\n",
      "1995       0\n",
      "1996       0\n",
      "1997       0\n",
      "1998       0\n",
      "1999       0\n",
      "2000       0\n",
      "2001       0\n",
      "2002       0\n",
      "2003       0\n",
      "2004       0\n",
      "2005       0\n",
      "2006       0\n",
      "2007       0\n",
      "2008       0\n",
      "2009       0\n",
      "2010       0\n",
      "2011       0\n",
      "2012       0\n",
      "2013       0\n",
      "2014       0\n",
      "2015       0\n",
      "2016       0\n",
      "2017       0\n",
      "2018       0\n",
      "2019       0\n",
      "2020       0\n",
      "2021       0\n",
      "2022       0\n",
      "2023       0\n",
      "dtype: int64\n"
     ]
    }
   ],
   "source": [
    "# 1. Remplacer les valeurs manquantes par la moyenne de chaque colonne\n",
    "data_mean_filled = data.copy()\n",
    "for col in data_mean_filled.columns[1:]:\n",
    "    data_mean_filled[col].fillna(data_mean_filled[col].mean(), inplace=True)\n",
    "\n",
    "# 2. Remplacer les valeurs manquantes par la médiane de chaque colonne\n",
    "data_median_filled = data.copy()\n",
    "for col in data_median_filled.columns[1:]:\n",
    "    data_median_filled[col].fillna(data_median_filled[col].median(), inplace=True)\n",
    "\n",
    "# 3. Interpolation des valeurs manquantes\n",
    "data_interpolated = data.copy()\n",
    "data_interpolated.interpolate(method='linear', axis=0, inplace=True)\n",
    "\n",
    "# Visualisation des tendances après chaque méthode\n",
    "def plot_data(dataframe, title):\n",
    "    data_mean = dataframe.iloc[:, 1:].mean()  # Moyennes annuelles pour chaque année\n",
    "    plt.figure(figsize=(10, 6))\n",
    "    plt.plot(dataframe.columns[1:], data_mean, marker='o')\n",
    "    plt.title(title)\n",
    "    plt.xlabel(\"Année\")\n",
    "    plt.ylabel(\"Moyenne\")\n",
    "    plt.grid()\n",
    "    plt.show()\n",
    "\n",
    "# Graphiques\n",
    "plot_data(data_mean_filled, \"Tendances avec valeurs manquantes remplacées par la moyenne\")\n",
    "plot_data(data_median_filled, \"Tendances avec valeurs manquantes remplacées par la médiane\")\n",
    "plot_data(data_interpolated, \"Tendances avec interpolation linéaire\")\n",
    "\n",
    "# Comparer les données originales\n",
    "print(\"\\nValeurs manquantes par colonne (originales) :\")\n",
    "print(data.isnull().sum())"
   ]
  },
  {
   "cell_type": "markdown",
   "metadata": {
    "id": "MLH6nUJvOZx1"
   },
   "source": [
    "c'etait juste pour verifier et en plus on remarque qu'on a presque le meme graphe pour les differente methde au final on laisse ou bien on remplace les (-) par des 0 et supprimer\n",
    "les lignes ou on a beaucoup  des nd"
   ]
  },
  {
   "cell_type": "code",
   "execution_count": 6,
   "metadata": {
    "colab": {
     "base_uri": "https://localhost:8080/",
     "height": 646
    },
    "executionInfo": {
     "elapsed": 1810,
     "status": "ok",
     "timestamp": 1737033355960,
     "user": {
      "displayName": "Farouk Lounes",
      "userId": "07672851101273458894"
     },
     "user_tz": -60
    },
    "id": "3eRtLqEiO50x",
    "outputId": "a7ce8a93-fc5f-4eec-c9a4-ea1f803820f7"
   },
   "outputs": [
    {
     "name": "stdout",
     "output_type": "stream",
     "text": [
      "* Running on local URL:  http://127.0.0.1:7861\n",
      "\n",
      "To create a public link, set `share=True` in `launch()`.\n"
     ]
    },
    {
     "data": {
      "text/html": [
       "<div><iframe src=\"http://127.0.0.1:7861/\" width=\"100%\" height=\"500\" allow=\"autoplay; camera; microphone; clipboard-read; clipboard-write;\" frameborder=\"0\" allowfullscreen></iframe></div>"
      ],
      "text/plain": [
       "<IPython.core.display.HTML object>"
      ]
     },
     "metadata": {},
     "output_type": "display_data"
    },
    {
     "data": {
      "text/plain": []
     },
     "execution_count": 6,
     "metadata": {},
     "output_type": "execute_result"
    }
   ],
   "source": [
    "# Fonction pour afficher le DataFrame\n",
    "def afficher_dataframe():\n",
    "    return data\n",
    "\n",
    "# Créer l'interface Gradio\n",
    "iface = gr.Interface(\n",
    "    fn=afficher_dataframe,        # Fonction à appeler\n",
    "    inputs=None,                  # Pas d'entrées nécessaires\n",
    "    outputs=gr.Dataframe(label=\"Fichier Films_part1\"),  # Composant de sortie\n",
    "    title=\"Affichage du fichier Films_part1\",\n",
    "    description=\"Cette interface affiche les données du fichier Films_part1.csv.\"\n",
    ")\n",
    "\n",
    "# Lancer l'interface\n",
    "iface.launch()"
   ]
  },
  {
   "cell_type": "code",
   "execution_count": 7,
   "metadata": {
    "colab": {
     "base_uri": "https://localhost:8080/",
     "height": 698
    },
    "executionInfo": {
     "elapsed": 18664,
     "status": "ok",
     "timestamp": 1737033385816,
     "user": {
      "displayName": "Farouk Lounes",
      "userId": "07672851101273458894"
     },
     "user_tz": -60
    },
    "id": "5TtUc-K6PIOp",
    "outputId": "8361bec8-c498-4971-99b8-886e2ba21e8b"
   },
   "outputs": [
    {
     "name": "stdout",
     "output_type": "stream",
     "text": [
      "* Running on local URL:  http://127.0.0.1:7862\n",
      "\n",
      "To create a public link, set `share=True` in `launch()`.\n"
     ]
    },
    {
     "data": {
      "text/html": [
       "<div><iframe src=\"http://127.0.0.1:7862/\" width=\"100%\" height=\"500\" allow=\"autoplay; camera; microphone; clipboard-read; clipboard-write;\" frameborder=\"0\" allowfullscreen></iframe></div>"
      ],
      "text/plain": [
       "<IPython.core.display.HTML object>"
      ]
     },
     "metadata": {},
     "output_type": "display_data"
    },
    {
     "data": {
      "text/plain": []
     },
     "execution_count": 7,
     "metadata": {},
     "output_type": "execute_result"
    }
   ],
   "source": [
    "liste_chaines = data[\"Chaines\"].unique().tolist()\n",
    "\n",
    "def generer_graphique(chaine_selection):\n",
    "    if not chaine_selection:\n",
    "        return \"Veuillez sélectionner au moins une chaîne.\", None\n",
    "\n",
    "    # Filtrer les données pour les chaînes sélectionnées\n",
    "    data_filtered = data[data['Chaines'].isin(chaine_selection)]\n",
    "\n",
    "    # Vérifier si le filtre retourne des données\n",
    "    if data_filtered.empty:\n",
    "        return \"Aucune donnée après filtrage\", None\n",
    "\n",
    "    # Transposer les données pour obtenir les années en index\n",
    "    data_melted = data_filtered.melt(id_vars=[\"Chaines\"], var_name=\"Année\", value_name=\"Valeur\")\n",
    "    data_melted.dropna(subset=[\"Valeur\"], inplace=True)\n",
    "\n",
    "    # Convertir les années en numérique\n",
    "    data_melted[\"Année\"] = pd.to_numeric(data_melted[\"Année\"], errors=\"coerce\")\n",
    "\n",
    "    # Filtrer les années non valides (par exemple, valeurs supérieures à 2025 ou inférieures à 1900)\n",
    "    data_melted = data_melted[(data_melted[\"Année\"] >= 1900) & (data_melted[\"Année\"] <= 2025)]\n",
    "\n",
    "    if data_melted.empty:\n",
    "        return \"Aucune donnée disponible après nettoyage des années.\", None\n",
    "\n",
    "    # Création du graphique\n",
    "    fig, ax = plt.subplots(figsize=(12, 8))  # Augmenter la taille pour la lisibilité\n",
    "    graph_data_found = False  # Flag pour vérifier si des données valides existent\n",
    "\n",
    "    for chaine in chaine_selection:\n",
    "        # Filtrer les données pour chaque chaîne\n",
    "        filtered_data = data_melted[data_melted[\"Chaines\"] == chaine]\n",
    "\n",
    "        # Supprimer les valeurs nulles ou égales à zéro en début de série\n",
    "        filtered_data = filtered_data[filtered_data[\"Valeur\"] > 0]\n",
    "        if filtered_data.empty:\n",
    "            continue  # Passer cette chaîne si aucune donnée n'est disponible après nettoyage\n",
    "\n",
    "        # Trier par année pour assurer la continuité\n",
    "        filtered_data = filtered_data.sort_values(\"Année\")\n",
    "\n",
    "        # Tracer la courbe pour cette chaîne\n",
    "        ax.plot(\n",
    "            filtered_data[\"Année\"],\n",
    "            filtered_data[\"Valeur\"],\n",
    "            marker=\"o\",\n",
    "            label=chaine\n",
    "        )\n",
    "        graph_data_found = True  # Marquer que des données ont été trouvées\n",
    "\n",
    "    # Vérifier si au moins une courbe a été ajoutée au graphique\n",
    "    if not graph_data_found:\n",
    "        return \"Aucune donnée disponible pour générer le graphique.\", None\n",
    "\n",
    "    # Personnaliser les axes et le titre\n",
    "    ax.set_title(\"Évolution des données par chaîne\")\n",
    "    ax.set_xlabel(\"Année\")\n",
    "    ax.set_ylabel(\"Valeur\")\n",
    "    ax.grid(True, linestyle='--', alpha=0.6)  # Ajouter une grille pour la lisibilité\n",
    "\n",
    "    # Ajouter une légende décalée\n",
    "    ax.legend(title=\"Chaîne\", bbox_to_anchor=(1.05, 1), loc='upper left')  # Légende à droite\n",
    "    plt.xticks(rotation=45)  # Rotation des années pour éviter le chevauchement\n",
    "    plt.tight_layout()  # Ajuster les marges pour éviter les débordements\n",
    "\n",
    "    # Retourner le graphique et un aperçu des données filtrées\n",
    "    return fig, data_filtered.head(10)\n",
    "\n",
    "# Interface Gradio\n",
    "with gr.Blocks() as demo:\n",
    "    chaine_input = gr.CheckboxGroup(\n",
    "        label=\"Sélectionnez la/les chaîne(s) :\",\n",
    "        choices=liste_chaines,\n",
    "        value=liste_chaines  # Par défaut, toutes les chaînes\n",
    "    )\n",
    "    btn = gr.Button(\"Générer le graphique\")\n",
    "\n",
    "    # gr.Plot() pour un graphique Matplotlib\n",
    "    output_graph = gr.Plot()\n",
    "    output_table = gr.DataFrame(label=\"Aperçu des données filtrées\")\n",
    "\n",
    "    btn.click(\n",
    "        fn=generer_graphique,\n",
    "        inputs=[chaine_input],\n",
    "        outputs=[output_graph, output_table]\n",
    "    )\n",
    "\n",
    "demo.launch()\n"
   ]
  },
  {
   "cell_type": "markdown",
   "metadata": {
    "id": "6nsfnyAoSOrT"
   },
   "source": [
    "Ce graphique représente l'évolution des nombres de films difuser pour différentes chaînes de télévision sur une période allant de 1990 à 2023.\n",
    "Chaque chaîne est représentée par une courbe d'une couleur spécifique.\n",
    "TF1 domine largement les autres chaînes avec des valeurs atteignant presque 1000 avant de diminuer après 2010.\n",
    "France 2 a des valeurs stables autour de 400 jusqu’en 2010, puis une baisse progressive.\n",
    "France 3 reste stable, autour de 200-300, mais décline légèrement après 2010.\n",
    "France 4 reste dans des valeurs basses.\n",
    "Canal+ connaît une certaine stabilité mais reste en deçà des chaînes publiques.\n",
    "C8, W9, TMC:\n",
    "Les chaînes apparues après les années 2000 montrent une croissance modeste et se stabilisent autour de 100-200.\n",
    "Les courbes pour les \"sous-total chaînes nationales publiques\" et \"sous-total chaînes nationales payantes\" agrègent les données des groupes correspondants, permettant une vue d'ensemble.\n",
    "Observations générales :\n",
    "TF1 reste la chaîne dominante jusqu'à un déclin marqué après 2015.\n",
    "Les chaînes publiques comme France 2 et France 3 connaissent une baisse d’audience après 2010.\n",
    "Les chaînes plus récentes, comme C8, W9, et les autres, prennent une part de marché croissante, sans dépasser les chaînes historiques.\n",
    "Ce graphique illustre donc bien les changements dans la consommation télévisuelle en France sur 30 ans, avec une montée en puissance des chaînes privées et une diversification de l'offre, mais ce qu'on remarque c'est que apres 2020 la cosommation télévisuelle a diminué."
   ]
  },
  {
   "cell_type": "code",
   "execution_count": 8,
   "metadata": {
    "colab": {
     "base_uri": "https://localhost:8080/",
     "height": 680
    },
    "executionInfo": {
     "elapsed": 19136,
     "status": "ok",
     "timestamp": 1737033404949,
     "user": {
      "displayName": "Farouk Lounes",
      "userId": "07672851101273458894"
     },
     "user_tz": -60
    },
    "id": "BrdthJa1R_OZ",
    "outputId": "e34583b4-2580-4c3e-88a5-6f7e8906f1dc"
   },
   "outputs": [
    {
     "name": "stdout",
     "output_type": "stream",
     "text": [
      "* Running on local URL:  http://127.0.0.1:7863\n",
      "\n",
      "To create a public link, set `share=True` in `launch()`.\n"
     ]
    },
    {
     "data": {
      "text/html": [
       "<div><iframe src=\"http://127.0.0.1:7863/\" width=\"100%\" height=\"500\" allow=\"autoplay; camera; microphone; clipboard-read; clipboard-write;\" frameborder=\"0\" allowfullscreen></iframe></div>"
      ],
      "text/plain": [
       "<IPython.core.display.HTML object>"
      ]
     },
     "metadata": {},
     "output_type": "display_data"
    },
    {
     "data": {
      "text/plain": []
     },
     "execution_count": 8,
     "metadata": {},
     "output_type": "execute_result"
    }
   ],
   "source": [
    "# Transformer les données pour l'analyse (Melt)\n",
    "data_melted = data.melt(id_vars=[\"Chaines\"], var_name=\"Annee\", value_name=\"Valeur\")\n",
    "data_melted[\"Annee\"] = pd.to_numeric(data_melted[\"Annee\"], errors='coerce')\n",
    "data_melted[\"Valeur\"] = pd.to_numeric(data_melted[\"Valeur\"], errors='coerce')\n",
    "# Supprimer les années ou valeurs invalides\n",
    "data_melted = data_melted[(data_melted[\"Annee\"] >= 1900) & (data_melted[\"Annee\"] <= 2025)]\n",
    "data_melted = data_melted[data_melted[\"Valeur\"] > 0]\n",
    "\n",
    "# Fonction pour créer l'histogramme\n",
    "def generer_histogramme(chaine_selection):\n",
    "    \"\"\"\n",
    "    Filtre les chaînes sélectionnées et génère un histogramme du total des valeurs par année.\n",
    "    \"\"\"\n",
    "    # Filtrer les chaînes sélectionnées\n",
    "    filtered_data = data_melted[data_melted[\"Chaines\"].isin(chaine_selection)]\n",
    "\n",
    "    if filtered_data.empty:\n",
    "        return \"Aucune donnée après filtrage.\", None\n",
    "\n",
    "    # Groupement des données par année et chaîne\n",
    "    grouped = filtered_data.groupby([\"Annee\", \"Chaines\"])[\"Valeur\"].sum().reset_index()\n",
    "\n",
    "    # Pivot pour faciliter l'affichage sous forme de barres\n",
    "    pivot = grouped.pivot(index=\"Annee\", columns=\"Chaines\", values=\"Valeur\").fillna(0)\n",
    "\n",
    "    # Création de l'histogramme\n",
    "    fig, ax = plt.subplots(figsize=(12, 8))\n",
    "    bar_width = 0.2\n",
    "    x = range(len(pivot.index))\n",
    "\n",
    "    # Palette de couleurs\n",
    "    colors = plt.colormaps['tab10'].colors\n",
    "\n",
    "    for i, chaine in enumerate(pivot.columns):\n",
    "        ax.bar([p + bar_width * i for p in x], pivot[chaine], width=bar_width, label=chaine, color=colors[i % len(colors)])\n",
    "\n",
    "    # Personnaliser le graphique\n",
    "    ax.set_title(\"Valeurs totales par année et par chaîne\")\n",
    "    ax.set_xlabel(\"Année\")\n",
    "    ax.set_ylabel(\"Valeur\")\n",
    "    ax.set_xticks([p + bar_width * (len(pivot.columns) / 2) for p in x])\n",
    "    ax.set_xticklabels(pivot.index, rotation=45)\n",
    "    ax.legend(title=\"Chaîne\")\n",
    "    plt.tight_layout()\n",
    "    # Ajouter une légende décalée\n",
    "    ax.legend(title=\"Chaîne\", bbox_to_anchor=(1.05, 1), loc='upper left')  # Légende à droite\n",
    "    plt.xticks(rotation=45)  # Rotation des années pour éviter le chevauchement\n",
    "    plt.tight_layout()  # Ajuster les marges pour éviter les débordements\n",
    "\n",
    "    # Retourner le graphique\n",
    "    return fig, filtered_data.head(10)\n",
    "\n",
    "# Interface Gradio\n",
    "with gr.Blocks() as demo:\n",
    "    gr.Markdown(\"## Histogramme : Analyse des données par chaîne et année\")\n",
    "\n",
    "    # Input pour les chaînes\n",
    "    chaine_input = gr.CheckboxGroup(\n",
    "        label=\"Sélectionnez les chaînes :\",\n",
    "        choices=data[\"Chaines\"].unique().tolist(),\n",
    "        value=data[\"Chaines\"].unique().tolist()  # Par défaut, toutes les chaînes\n",
    "    )\n",
    "\n",
    "    # Bouton\n",
    "    btn = gr.Button(\"Générer l'histogramme\")\n",
    "\n",
    "    # Sorties\n",
    "    output_graph = gr.Plot()\n",
    "    output_table = gr.DataFrame(label=\"Aperçu des données filtrées\")\n",
    "\n",
    "    # Action du bouton\n",
    "    btn.click(\n",
    "        fn=generer_histogramme,\n",
    "        inputs=[chaine_input],\n",
    "        outputs=[output_graph, output_table]\n",
    "    )\n",
    "\n",
    "# Lancer l'application\n",
    "demo.launch()\n"
   ]
  },
  {
   "cell_type": "code",
   "execution_count": 9,
   "metadata": {
    "colab": {
     "base_uri": "https://localhost:8080/",
     "height": 680
    },
    "executionInfo": {
     "elapsed": 15547,
     "status": "ok",
     "timestamp": 1737033427098,
     "user": {
      "displayName": "Farouk Lounes",
      "userId": "07672851101273458894"
     },
     "user_tz": -60
    },
    "id": "TFqA6gbLTrGO",
    "outputId": "3246a18b-985f-48d1-a949-e9d84c109a04"
   },
   "outputs": [
    {
     "name": "stdout",
     "output_type": "stream",
     "text": [
      "* Running on local URL:  http://127.0.0.1:7864\n",
      "\n",
      "To create a public link, set `share=True` in `launch()`.\n"
     ]
    },
    {
     "data": {
      "text/html": [
       "<div><iframe src=\"http://127.0.0.1:7864/\" width=\"100%\" height=\"500\" allow=\"autoplay; camera; microphone; clipboard-read; clipboard-write;\" frameborder=\"0\" allowfullscreen></iframe></div>"
      ],
      "text/plain": [
       "<IPython.core.display.HTML object>"
      ]
     },
     "metadata": {},
     "output_type": "display_data"
    },
    {
     "data": {
      "text/plain": []
     },
     "execution_count": 9,
     "metadata": {},
     "output_type": "execute_result"
    }
   ],
   "source": [
    "def generer_camembert(chaine_selection):\n",
    "    # Filtrer les chaînes sélectionnées\n",
    "    df_filtered = data[data[\"Chaines\"].isin(chaine_selection)]\n",
    "\n",
    "    # Calculer la somme totale des temps par chaîne (somme de toutes les colonnes numériques sauf 'Chaines')\n",
    "    grouped = df_filtered.set_index(\"Chaines\").sum(axis=1).reset_index()\n",
    "    grouped.columns = [\"Chaines\", \"Temps_total\"]\n",
    "\n",
    "    # Vérifier si les données filtrées sont disponibles\n",
    "    total_temps = grouped[\"Temps_total\"].sum()\n",
    "    if total_temps == 0:\n",
    "        return \"Aucune donnée disponible après filtrage.\", None\n",
    "\n",
    "    # Calculer le pourcentage de chaque chaîne\n",
    "    grouped[\"Pourcentage\"] = (grouped[\"Temps_total\"] / total_temps) * 100\n",
    "\n",
    "    # Séparer les chaînes avec >= 5% et < 5%\n",
    "    grandes = grouped[grouped[\"Pourcentage\"] >= 5]\n",
    "    petites = grouped[grouped[\"Pourcentage\"] < 5]\n",
    "\n",
    "    # Si il y a des petites chaînes, les regrouper dans \"Autres\"\n",
    "    if not petites.empty:\n",
    "        autres = pd.DataFrame({\n",
    "            \"Chaines\": [\"Autres\"],\n",
    "            \"Temps_total\": [petites[\"Temps_total\"].sum()],\n",
    "            \"Pourcentage\": [petites[\"Pourcentage\"].sum()]\n",
    "        })\n",
    "        grouped_final = pd.concat([grandes, autres], ignore_index=True)\n",
    "    else:\n",
    "        grouped_final = grandes.copy()\n",
    "\n",
    "    # Création du diagramme camembert sans labels directs\n",
    "    fig, ax = plt.subplots(figsize=(10, 8))  # Augmenter la taille de la figure pour une meilleure lisibilité\n",
    "    couleurs = plt.get_cmap('tab10').colors  # Utilisation du colormap 'tab10'\n",
    "\n",
    "    # Générer le camembert sans labels\n",
    "    wedges, texts, autotexts = ax.pie(\n",
    "        grouped_final[\"Temps_total\"],\n",
    "        labels=None,  # Supprimer les labels sur le camembert\n",
    "        autopct=lambda pct: f'{pct:.1f}%' if pct >= 5 else '',\n",
    "        startangle=140,\n",
    "        colors=couleurs[:len(grouped_final)],\n",
    "        labeldistance=1.1,  # Position des labels\n",
    "        pctdistance=0.85    # Position des pourcentages\n",
    "    )\n",
    "\n",
    "    # Ajouter une légende pour toutes les chaînes, y compris \"Autres\"\n",
    "    ax.legend(\n",
    "        wedges,\n",
    "        grouped_final[\"Chaines\"],\n",
    "        title=\"Chaines\",\n",
    "        loc=\"center left\",\n",
    "        bbox_to_anchor=(1, 0, 0.5, 1)\n",
    "    )\n",
    "\n",
    "    ax.set_title(\"Répartition des Films Diffusés par Chaîne\")\n",
    "    ax.axis('equal')  # Assure un camembert circulaire\n",
    "\n",
    "    plt.tight_layout()\n",
    "\n",
    "    # Retourner le graphique et un aperçu des données filtrées et regroupées\n",
    "    return fig, grouped_final.head(10)\n",
    "\n",
    "# Création de l'interface Gradio\n",
    "with gr.Blocks() as demo:\n",
    "    gr.Markdown(\"## Dashboard : Répartition des Temps Totaux par Chaîne (Camembert)\")\n",
    "\n",
    "    # Sélection des chaînes\n",
    "    chaine_input = gr.CheckboxGroup(\n",
    "        label=\"Sélectionnez les chaînes :\",\n",
    "        choices=sorted(data[\"Chaines\"].unique().tolist()),\n",
    "        value=sorted(data[\"Chaines\"].unique().tolist())  # Sélection par défaut = toutes\n",
    "    )\n",
    "\n",
    "    # Bouton pour générer le camembert\n",
    "    btn = gr.Button(\"Générer le camembert\")\n",
    "\n",
    "    # Sorties\n",
    "    output_graph = gr.Plot()\n",
    "    output_table = gr.DataFrame(label=\"Aperçu des Données Filtrées et Regroupées\")\n",
    "\n",
    "    # Action du bouton\n",
    "    btn.click(\n",
    "        fn=generer_camembert,\n",
    "        inputs=[chaine_input],\n",
    "        outputs=[output_graph, output_table]\n",
    "    )\n",
    "\n",
    "demo.launch()\n"
   ]
  },
  {
   "cell_type": "markdown",
   "metadata": {
    "id": "ZS_CSd0nWS77"
   },
   "source": [
    "En résumé, la catégorie \"Autres\" regroupe des chaînes qui, individuellement, n'ont pas un impact majeur, mais collectivement, elles jouent un rôle crucial en couvrant environ un tiers de la répartition des films diffusés. Cela met en avant l'importance de ces chaînes \"minoritaires\" dans l'offre cinématographique globale.\n",
    "Sous-total des chaînes publiques (23,8 %)\n",
    "\n",
    "Les chaînes publiques (comme France Télévisions) jouent un rôle important dans la diffusion de films depuis leur création, ce qui reflète leur mission culturelle et éducative.\n",
    "Sous-total des chaînes payantes (13,3 %)\n",
    "\n",
    "Ce pourcentage, incluant des chaînes comme Canal+, montre leur importance dans l'industrie du cinéma depuis leur lancement. Canal+ est particulièrement connu pour ses accords avec l'industrie cinématographique française et internationale.\n",
    "Canal+ (13,3 %)\n",
    "\n",
    "Canal+, créée en 1984, a été un acteur majeur dans la diffusion de films grâce à ses partenariats avec des studios de cinéma, garantissant des exclusivités sur des films récents.\n",
    "Arte (9,9 %)\n",
    "\n",
    "Créée en 1992, Arte se concentre sur le cinéma d'auteur et les films indépendants, ce qui explique sa part importante malgré son positionnement de niche.\n",
    "France 3 (6,2 %)\n",
    "\n",
    "En tant que chaîne publique existant depuis 1975, France 3 a contribué à la diffusion de films, mais sa programmation se concentre davantage sur des contenus locaux et des séries.\n",
    "TF1 (5,2 %)\n",
    "\n",
    "Première chaîne privée en France (lancée en 1975), TF1 diffuse des films, mais cette activité est moins centrale par rapport à d'autres types de programmes (divertissements et séries)."
   ]
  },
  {
   "cell_type": "code",
   "execution_count": 10,
   "metadata": {
    "colab": {
     "base_uri": "https://localhost:8080/",
     "height": 680
    },
    "executionInfo": {
     "elapsed": 19360,
     "status": "ok",
     "timestamp": 1737033451191,
     "user": {
      "displayName": "Farouk Lounes",
      "userId": "07672851101273458894"
     },
     "user_tz": -60
    },
    "id": "cTdP4EZ9W2Tt",
    "outputId": "1b4b68cb-7f08-4968-e3cd-f6f1efa91ccd"
   },
   "outputs": [
    {
     "name": "stdout",
     "output_type": "stream",
     "text": [
      "* Running on local URL:  http://127.0.0.1:7865\n",
      "\n",
      "To create a public link, set `share=True` in `launch()`.\n"
     ]
    },
    {
     "data": {
      "text/html": [
       "<div><iframe src=\"http://127.0.0.1:7865/\" width=\"100%\" height=\"500\" allow=\"autoplay; camera; microphone; clipboard-read; clipboard-write;\" frameborder=\"0\" allowfullscreen></iframe></div>"
      ],
      "text/plain": [
       "<IPython.core.display.HTML object>"
      ]
     },
     "metadata": {},
     "output_type": "display_data"
    }
   ],
   "source": [
    "def generer_heatmap(chaine_selection):\n",
    "    # Filtrer les chaînes sélectionnées\n",
    "    data_filtered = data[data[\"Chaines\"].isin(chaine_selection)]\n",
    "\n",
    "    # Vérifier si des données sont disponibles après filtrage\n",
    "    if data_filtered.empty:\n",
    "        return \"Aucune donnée disponible après filtrage.\", None\n",
    "\n",
    "    # Transposer les données pour obtenir les années en colonnes\n",
    "    data_melted = data_filtered.melt(id_vars=[\"Chaines\"], var_name=\"Année\", value_name=\"Films\")\n",
    "\n",
    "    # Convertir les colonnes en numériques\n",
    "    data_melted[\"Année\"] = pd.to_numeric(data_melted[\"Année\"], errors='coerce')\n",
    "    data_melted[\"Films\"] = pd.to_numeric(data_melted[\"Films\"], errors='coerce')\n",
    "\n",
    "    # Supprimer les années ou valeurs invalides\n",
    "    data_melted = data_melted[(data_melted[\"Année\"] >= 1900) & (data_melted[\"Année\"] <= 2025)]\n",
    "    data_melted = data_melted.dropna()\n",
    "\n",
    "    # Vérifier si des données sont disponibles après nettoyage\n",
    "    if data_melted.empty:\n",
    "        return \"Aucune donnée disponible après nettoyage.\", None\n",
    "\n",
    "    # Calculer le pourcentage de films par chaîne pour chaque année\n",
    "    data_melted['Total_Année'] = data_melted.groupby('Année')['Films'].transform('sum')\n",
    "    data_melted['Pourcentage'] = (data_melted['Films'] / data_melted['Total_Année']) * 100\n",
    "\n",
    "    # Identifier les chaînes à regrouper dans \"Autres\" (moins de 5% par année)\n",
    "    data_melted['Chaines_Final'] = data_melted.apply(\n",
    "        lambda row: row['Chaines'] if row['Pourcentage'] >= 5 else 'Autres', axis=1\n",
    "    )\n",
    "\n",
    "    # Regrouper les données\n",
    "    grouped = data_melted.groupby(['Année', 'Chaines_Final'])['Films'].sum().reset_index()\n",
    "\n",
    "    # Pivot pour la heatmap\n",
    "    df_pivot = grouped.pivot(index='Année', columns='Chaines_Final', values='Films').fillna(0)\n",
    "\n",
    "    # Optionnel : Trier les années\n",
    "    df_pivot = df_pivot.sort_index()\n",
    "\n",
    "    # Création de la heatmap\n",
    "    fig, ax = plt.subplots(figsize=(14, 10))  # Taille ajustée pour une meilleure lisibilité\n",
    "    sns.heatmap(df_pivot, annot=True, fmt=\".1f\", cmap=\"YlGnBu\", ax=ax)\n",
    "\n",
    "    # Configuration du graphique\n",
    "    ax.set_title(\"Heatmap du Nombre de Films Diffusés par Année et par Chaîne\", fontsize=16)\n",
    "    ax.set_xlabel(\"Chaîne\", fontsize=14)\n",
    "    ax.set_ylabel(\"Année\", fontsize=14)\n",
    "    plt.xticks(rotation=45)\n",
    "    plt.yticks(rotation=0)\n",
    "    plt.tight_layout()\n",
    "\n",
    "    # Retourner le graphique et un aperçu des données filtrées et regroupées\n",
    "    return fig, df_pivot.head(10).reset_index()\n",
    "\n",
    "# --------------------------\n",
    "# Création de l'interface Gradio pour la Heatmap\n",
    "# --------------------------\n",
    "\n",
    "with gr.Blocks() as demo:\n",
    "    gr.Markdown(\"## Heatmap : Nombre de Films Diffusés par Année et par Chaîne\")\n",
    "\n",
    "    # Sélection des chaînes\n",
    "    chaine_input = gr.CheckboxGroup(\n",
    "        label=\"Sélectionnez les chaînes :\",\n",
    "        choices=sorted(liste_chaines),\n",
    "        value=sorted(liste_chaines)  # Sélection par défaut = toutes les chaînes\n",
    "    )\n",
    "\n",
    "    # Bouton pour générer la heatmap\n",
    "    btn = gr.Button(\"Générer la heatmap\")\n",
    "\n",
    "    # Sorties\n",
    "    output_graph = gr.Plot()\n",
    "    output_table = gr.DataFrame(label=\"Aperçu des Données Filtrées et Regroupées\")\n",
    "\n",
    "    # Action du bouton\n",
    "    btn.click(\n",
    "        fn=generer_heatmap,\n",
    "        inputs=[chaine_input],\n",
    "        outputs=[output_graph, output_table]\n",
    "    )\n",
    "\n",
    "# Lancer l'application\n",
    "if __name__ == \"__main__\":\n",
    "    demo.launch()\n"
   ]
  },
  {
   "cell_type": "code",
   "execution_count": 11,
   "metadata": {
    "colab": {
     "base_uri": "https://localhost:8080/",
     "height": 767
    },
    "executionInfo": {
     "elapsed": 23298,
     "status": "ok",
     "timestamp": 1737033477879,
     "user": {
      "displayName": "Farouk Lounes",
      "userId": "07672851101273458894"
     },
     "user_tz": -60
    },
    "id": "QvyYVBxrXHGC",
    "outputId": "8e78757d-bc5f-479b-d5fa-bcf008ff129d"
   },
   "outputs": [
    {
     "name": "stdout",
     "output_type": "stream",
     "text": [
      "* Running on local URL:  http://127.0.0.1:7866\n",
      "\n",
      "To create a public link, set `share=True` in `launch()`.\n"
     ]
    },
    {
     "data": {
      "text/html": [
       "<div><iframe src=\"http://127.0.0.1:7866/\" width=\"100%\" height=\"500\" allow=\"autoplay; camera; microphone; clipboard-read; clipboard-write;\" frameborder=\"0\" allowfullscreen></iframe></div>"
      ],
      "text/plain": [
       "<IPython.core.display.HTML object>"
      ]
     },
     "metadata": {},
     "output_type": "display_data"
    },
    {
     "data": {
      "text/plain": []
     },
     "execution_count": 11,
     "metadata": {},
     "output_type": "execute_result"
    }
   ],
   "source": [
    "# Liste des chaînes (à définir en fonction de votre DataFrame)\n",
    "liste_chaines = data[\"Chaines\"].unique().tolist()\n",
    "\n",
    "# Fonction pour générer le boxplot sans regroupement \"Autres\"\n",
    "def generer_boxplot(chaine_selection):\n",
    "    # Filtrer les chaînes sélectionnées\n",
    "    data_filtered = data[data[\"Chaines\"].isin(chaine_selection)]\n",
    "\n",
    "    # Vérifier si des données sont disponibles après filtrage\n",
    "    if data_filtered.empty:\n",
    "        return \"Aucune donnée disponible après filtrage.\", None\n",
    "\n",
    "    # Transposer les données pour obtenir les années en colonnes\n",
    "    data_melted = data_filtered.melt(id_vars=[\"Chaines\"], var_name=\"Année\", value_name=\"Films\")\n",
    "\n",
    "    # Convertir les colonnes en numériques\n",
    "    data_melted[\"Année\"] = pd.to_numeric(data_melted[\"Année\"], errors='coerce')\n",
    "    data_melted[\"Films\"] = pd.to_numeric(data_melted[\"Films\"], errors='coerce')\n",
    "\n",
    "    # Supprimer les années ou valeurs invalides\n",
    "    data_melted = data_melted[(data_melted[\"Année\"] >= 1900) & (data_melted[\"Année\"] <= 2025)]\n",
    "    data_melted = data_melted.dropna()\n",
    "\n",
    "    # Vérifier si des données sont disponibles après nettoyage\n",
    "    if data_melted.empty:\n",
    "        return \"Aucune donnée disponible après nettoyage.\", None\n",
    "\n",
    "    # Calculer le total de films par année\n",
    "    data_melted['Total_Année'] = data_melted.groupby('Année')['Films'].transform('sum')\n",
    "\n",
    "    # Calculer le pourcentage de films par chaîne pour chaque année\n",
    "    data_melted['Pourcentage'] = (data_melted['Films'] / data_melted['Total_Année']) * 100\n",
    "\n",
    "    # Pivot des données pour le boxplot\n",
    "    df_pivot = data_melted.pivot(index='Année', columns='Chaines', values='Pourcentage').fillna(0)\n",
    "\n",
    "    # Melt pour obtenir un DataFrame long adapté au boxplot\n",
    "    data_boxplot = df_pivot.reset_index().melt(id_vars='Année', var_name='Chaines', value_name='Pourcentage')\n",
    "\n",
    "    # Supprimer les entrées avec 0%\n",
    "    data_boxplot = data_boxplot[data_boxplot['Pourcentage'] > 0]\n",
    "\n",
    "    # Création du boxplot\n",
    "    fig, ax = plt.subplots(figsize=(14, 10))  # Taille ajustée pour une meilleure lisibilité\n",
    "    sns.boxplot(x=\"Chaines\", y=\"Pourcentage\", data=data_boxplot, palette=\"Set3\", ax=ax)\n",
    "\n",
    "    # Configuration du graphique\n",
    "    ax.set_title(\"Distribution des Pourcentages de Films Diffusés par Chaîne\", fontsize=16)\n",
    "    ax.set_xlabel(\"Chaîne\", fontsize=14)\n",
    "    ax.set_ylabel(\"Pourcentage de Films Diffusés (%)\", fontsize=14)\n",
    "    plt.xticks(rotation=45)\n",
    "    plt.tight_layout()\n",
    "\n",
    "    # Retourner le graphique et un aperçu des données filtrées et regroupées\n",
    "    return fig, data_filtered.head(10)\n",
    "\n",
    "# Création de l'interface Gradio pour le Boxplot\n",
    "with gr.Blocks() as demo:\n",
    "    gr.Markdown(\"## Box Plot : Distribution des Pourcentages de Films Diffusés par Chaîne\")\n",
    "\n",
    "    # Sélection des chaînes\n",
    "    chaine_input = gr.CheckboxGroup(\n",
    "        label=\"Sélectionnez les chaînes :\",\n",
    "        choices=sorted(liste_chaines),\n",
    "        value=sorted(liste_chaines)  # Sélection par défaut = toutes les chaînes\n",
    "    )\n",
    "\n",
    "    # Bouton pour générer le boxplot\n",
    "    btn = gr.Button(\"Générer le boxplot\")\n",
    "\n",
    "    # Sorties\n",
    "    output_graph = gr.Plot()\n",
    "    output_table = gr.DataFrame(label=\"Aperçu des Données Filtrées et Regroupées\")\n",
    "\n",
    "    # Action du bouton\n",
    "    btn.click(\n",
    "        fn=generer_boxplot,\n",
    "        inputs=[chaine_input],\n",
    "        outputs=[output_graph, output_table]\n",
    "    )\n",
    "\n",
    "# Lancer l'application\n",
    "demo.launch()\n"
   ]
  },
  {
   "cell_type": "markdown",
   "metadata": {
    "id": "gQ4kDpLLYgD9"
   },
   "source": [
    "Sous-total chaînes nationales publiques :\n",
    "La boîte est large, avec des pourcentages souvent élevés. Elle atteint un maximum important proche de 25 %, ce qui montre une forte contribution dans les films diffusés.\n",
    "Sous-total chaînes nationales payantes :\n",
    "ces chaînes sont également importantes dans la diffusion de films. La distribution est large, et les pourcentages sont souvent supérieurs à ceux des chaînes individuelles.\n",
    "France 3 et France 2 :\n",
    "Les pourcentages sont significatifs, centrés entre 5 % et 15 %. Cela reflète leur rôle majeur dans la diffusion cinématographique.\n",
    "Canal+ :\n",
    "Une chaîne très importante pour les films, avec une distribution étendue et une médiane élevée (autour de 10 %).\n",
    "Arte :\n",
    "Sa contribution est modeste (autour de 5 %), ce qui est cohérent avec son focus sur les films indépendants et d’auteur.\n",
    "TF1 et M6 :\n",
    "Des contributions plus faibles (environ 2-5 %) par rapport aux chaînes publiques et Canal+.\n",
    "NRJ12, W9, TMC, TFX :\n",
    "Des chaînes secondaires avec des pourcentages beaucoup plus faibles, souvent inférieurs à 5 %.\n",
    "Sous-totaux:\n",
    "Les sous-totaux regroupent plusieurs chaînes, ce qui explique leur dominance dans les pourcentages totaux.\n",
    "Points particuliers\n",
    "Certaines chaînes (comme Gulli, France 5) montrent des valeurs isolées, représentant des années ou des moments où elles ont diffusé beaucoup plus ou beaucoup moins de films que leur tendance habituelle.\n",
    "Variabilité :\n",
    "Les chaînes comme Canal+, France 3, et les sous-totaux montrent une forte variabilité dans leurs pourcentages de diffusion, probablement en fonction de leurs orientations programmatiques annuelles.\n",
    "En résumé\n",
    "Les chaînes publiques et payantes (représentées dans les sous-totaux) sont des acteurs majeurs dans la diffusion de films.\n",
    "Certaines chaînes comme Canal+ et France 3 se démarquent individuellement avec des contributions importantes.\n",
    "Les chaînes secondaires ont un impact plus limité, mais leur regroupement (\"Autres\") montre qu'elles jouent collectivement un rôle non négligeable."
   ]
  },
  {
   "cell_type": "code",
   "execution_count": 12,
   "metadata": {
    "colab": {
     "base_uri": "https://localhost:8080/",
     "height": 715
    },
    "executionInfo": {
     "elapsed": 11360,
     "status": "ok",
     "timestamp": 1737033497867,
     "user": {
      "displayName": "Farouk Lounes",
      "userId": "07672851101273458894"
     },
     "user_tz": -60
    },
    "id": "H9NNWTqUZ0xG",
    "outputId": "e39cb6d3-8d8d-43c6-ab44-35eaf677ac5c"
   },
   "outputs": [
    {
     "name": "stdout",
     "output_type": "stream",
     "text": [
      "* Running on local URL:  http://127.0.0.1:7867\n",
      "\n",
      "To create a public link, set `share=True` in `launch()`.\n"
     ]
    },
    {
     "data": {
      "text/html": [
       "<div><iframe src=\"http://127.0.0.1:7867/\" width=\"100%\" height=\"500\" allow=\"autoplay; camera; microphone; clipboard-read; clipboard-write;\" frameborder=\"0\" allowfullscreen></iframe></div>"
      ],
      "text/plain": [
       "<IPython.core.display.HTML object>"
      ]
     },
     "metadata": {},
     "output_type": "display_data"
    },
    {
     "data": {
      "text/plain": []
     },
     "execution_count": 12,
     "metadata": {},
     "output_type": "execute_result"
    }
   ],
   "source": [
    "# Fonction pour générer le treemap avec pourcentages\n",
    "def generer_treemap(chaine_selection):\n",
    "    # Filtrer les chaînes sélectionnées\n",
    "    data_filtered = data[data[\"Chaines\"].isin(chaine_selection)]\n",
    "\n",
    "    # Vérifier si des données sont disponibles après filtrage\n",
    "    if data_filtered.empty:\n",
    "        return \"Aucune donnée disponible après filtrage.\", None\n",
    "\n",
    "    # Transposer les données pour obtenir les années en colonnes\n",
    "    data_melted_filtered = data_filtered.melt(id_vars=[\"Chaines\"], var_name=\"Année\", value_name=\"NbEmissions\")\n",
    "    data_melted_filtered[\"Année\"] = pd.to_numeric(data_melted_filtered[\"Année\"], errors='coerce')\n",
    "    data_melted_filtered[\"NbEmissions\"] = pd.to_numeric(data_melted_filtered[\"NbEmissions\"], errors='coerce')\n",
    "\n",
    "    # Supprimer les années ou valeurs invalides\n",
    "    data_melted_filtered = data_melted_filtered.dropna()\n",
    "    data_melted_filtered = data_melted_filtered[(data_melted_filtered[\"Année\"] >= 1900) & (data_melted_filtered[\"Année\"] <= 2025)]\n",
    "\n",
    "    # Vérifier si des données sont disponibles après nettoyage\n",
    "    if data_melted_filtered.empty:\n",
    "        return \"Aucune donnée disponible après nettoyage.\", None\n",
    "\n",
    "    # Agrégation par chaîne\n",
    "    grouped = data_melted_filtered.groupby(\"Chaines\")[\"NbEmissions\"].sum().reset_index()\n",
    "    grouped[\"Temps_heures\"] = grouped[\"NbEmissions\"] / 3600.0\n",
    "\n",
    "    # Calculer le total général des films diffusés\n",
    "    total_heures = grouped[\"Temps_heures\"].sum()\n",
    "\n",
    "    # Calculer le pourcentage de chaque chaîne\n",
    "    grouped[\"Pourcentage\"] = (grouped[\"Temps_heures\"] / total_heures) * 100\n",
    "\n",
    "    # Trier les chaînes par pourcentage décroissant\n",
    "    grouped = grouped.sort_values(by=\"Pourcentage\", ascending=False)\n",
    "\n",
    "    # Création du treemap en utilisant les pourcentages\n",
    "    fig, ax = plt.subplots(figsize=(14, 10))\n",
    "\n",
    "    # Définir les couleurs en utilisant un colormap\n",
    "    cmap = plt.cm.get_cmap('tab20')\n",
    "    couleurs = [cmap(i) for i in range(len(grouped))]\n",
    "\n",
    "    # Formater les labels pour inclure le pourcentage\n",
    "    labels = grouped[\"Chaines\"] + grouped[\"Pourcentage\"].map(lambda x: f'\\n{x:.1f}%')\n",
    "\n",
    "    squarify.plot(\n",
    "        sizes=grouped[\"Pourcentage\"],\n",
    "        label=labels,\n",
    "        alpha=0.8,\n",
    "        color=couleurs,\n",
    "        text_kwargs={'fontsize':12}\n",
    "    )\n",
    "\n",
    "    plt.title(\"Treemap du Pourcentage de Films Diffusés par Chaîne\", fontsize=16)\n",
    "    plt.axis('off')  # Désactive les axes pour une meilleure visualisation\n",
    "    plt.tight_layout()\n",
    "\n",
    "    # Retourner le graphique et un aperçu des données filtrées\n",
    "    return fig, grouped.head(10)\n",
    "\n",
    "# Création de l'interface Gradio pour le Treemap\n",
    "with gr.Blocks() as demo:\n",
    "    gr.Markdown(\"## Treemap : Pourcentage de Films Diffusés par Chaîne\")\n",
    "\n",
    "    # Sélection des chaînes\n",
    "    chaine_input = gr.CheckboxGroup(\n",
    "        label=\"Sélectionnez les chaînes :\",\n",
    "        choices=sorted(liste_chaines),\n",
    "        value=sorted(liste_chaines)  # Sélection par défaut = toutes les chaînes\n",
    "    )\n",
    "\n",
    "    # Bouton pour générer le treemap\n",
    "    btn = gr.Button(\"Générer le treemap\")\n",
    "\n",
    "    # Sorties\n",
    "    output_graph = gr.Plot()\n",
    "    output_table = gr.DataFrame(label=\"Aperçu des données filtrées et regroupées\")\n",
    "\n",
    "    # Action du bouton\n",
    "    btn.click(\n",
    "        fn=generer_treemap,\n",
    "        inputs=[chaine_input],\n",
    "        outputs=[output_graph, output_table]\n",
    "    )\n",
    "\n",
    "# Lancer l'application\n",
    "demo.launch()\n"
   ]
  },
  {
   "cell_type": "markdown",
   "metadata": {
    "id": "cXTiCZ1gajn-"
   },
   "source": [
    "La treemap met en évidence une répartition inégale des films diffusés :\n",
    "\n",
    "Les chaînes publiques et Canal+ dominent le paysage.\n",
    "Les chaînes secondaires (TMC, TFX, C8...) jouent un rôle complémentaire mais fragmenté.\n",
    "Arte se distingue par une part importante pour une chaîne thématique."
   ]
  },
  {
   "cell_type": "code",
   "execution_count": 13,
   "metadata": {
    "colab": {
     "base_uri": "https://localhost:8080/",
     "height": 680
    },
    "executionInfo": {
     "elapsed": 25978,
     "status": "ok",
     "timestamp": 1737033532923,
     "user": {
      "displayName": "Farouk Lounes",
      "userId": "07672851101273458894"
     },
     "user_tz": -60
    },
    "id": "HIjvK1V9bCYf",
    "outputId": "ca883e71-a5d7-452a-e7e0-7e0699c30110"
   },
   "outputs": [
    {
     "name": "stdout",
     "output_type": "stream",
     "text": [
      "* Running on local URL:  http://127.0.0.1:7868\n",
      "\n",
      "To create a public link, set `share=True` in `launch()`.\n"
     ]
    },
    {
     "data": {
      "text/html": [
       "<div><iframe src=\"http://127.0.0.1:7868/\" width=\"100%\" height=\"500\" allow=\"autoplay; camera; microphone; clipboard-read; clipboard-write;\" frameborder=\"0\" allowfullscreen></iframe></div>"
      ],
      "text/plain": [
       "<IPython.core.display.HTML object>"
      ]
     },
     "metadata": {},
     "output_type": "display_data"
    },
    {
     "data": {
      "text/plain": []
     },
     "execution_count": 13,
     "metadata": {},
     "output_type": "execute_result"
    }
   ],
   "source": [
    "#Charger et préparer les données\n",
    "def charger_preparer_donnees(file_path, origine):\n",
    "    try:\n",
    "        # Charger les données\n",
    "        data = pd.read_csv(file_path)\n",
    "\n",
    "        # Renommer la première colonne en 'Chaines'\n",
    "        data.rename(columns={data.columns[0]: \"Chaines\"}, inplace=True)\n",
    "\n",
    "        # Remplacer les tirets par 0 et convertir en numérique\n",
    "        data.replace(\"-\", 0, inplace=True)\n",
    "        for col in data.columns[1:]:\n",
    "            data[col] = pd.to_numeric(data[col], errors='coerce')\n",
    "\n",
    "        # Supprimer les lignes avec des valeurs manquantes\n",
    "        data = data.dropna()\n",
    "\n",
    "        # Transformer les données en format long\n",
    "        data_melted = data.melt(id_vars=[\"Chaines\"], var_name=\"Année\", value_name=\"NbEmissions\")\n",
    "        data_melted[\"Année\"] = pd.to_numeric(data_melted[\"Année\"], errors='coerce')\n",
    "        data_melted[\"NbEmissions\"] = pd.to_numeric(data_melted[\"NbEmissions\"], errors='coerce')\n",
    "\n",
    "        # Supprimer les années ou valeurs invalides\n",
    "        data_melted = data_melted.dropna()\n",
    "        data_melted = data_melted[(data_melted[\"Année\"] >= 1990) & (data_melted[\"Année\"] <= 2023)]\n",
    "\n",
    "        # Ajouter la colonne 'Origine'\n",
    "        data_melted[\"Origine\"] = origine\n",
    "\n",
    "        return data_melted\n",
    "    except Exception as e:\n",
    "        print(f\"Erreur lors du chargement des données de {origine}: {e}\")\n",
    "        return pd.DataFrame()\n",
    "\n",
    "# Charger les données françaises et américaines\n",
    "data_fr = charger_preparer_donnees('../Data/DonneesCreees/Films_Fr.csv', 'Français')\n",
    "data_am = charger_preparer_donnees('../Data/DonneesCreees/Films_Am.csv', 'Américain')\n",
    "\n",
    "# Vérifier si les données sont chargées correctement\n",
    "if data_fr.empty or data_am.empty:\n",
    "    raise ValueError(\"Les données n'ont pas été chargées correctement. Vérifiez vos fichiers CSV.\")\n",
    "\n",
    "# Fusionner les données\n",
    "data_combined = pd.concat([data_fr, data_am], ignore_index=True)\n",
    "\n",
    "# Extraire la liste des chaînes uniques pour Gradio\n",
    "liste_chaines = sorted(data_combined[\"Chaines\"].unique().tolist())\n",
    "\n",
    "# Fonction pour générer les visualisations comparatives\n",
    "def generer_comparaison(chaine_selection, annee_debut, annee_fin):\n",
    "\n",
    "    # Limiter le nombre de chaînes sélectionnées\n",
    "    max_chaines = 10\n",
    "    if len(chaine_selection) > max_chaines:\n",
    "        chaine_selection = chaine_selection[:max_chaines]\n",
    "        warning_message = f\"Limité aux {max_chaines} premières chaînes sélectionnées.\"\n",
    "    else:\n",
    "        warning_message = \"\"\n",
    "\n",
    "    # Filtrer les chaînes sélectionnées et la plage d'années\n",
    "    data_filtre = data_combined[\n",
    "        (data_combined[\"Chaines\"].isin(chaine_selection)) &\n",
    "        (data_combined[\"Année\"] >= annee_debut) &\n",
    "        (data_combined[\"Année\"] <= annee_fin)\n",
    "    ]\n",
    "\n",
    "    # Vérifier si des données sont disponibles\n",
    "    if data_filtre.empty:\n",
    "        # Retourner des graphiques avec messages d'erreur\n",
    "        fig_bar = px.bar(title=\"Aucune donnée disponible pour les sélections effectuées.\")\n",
    "        fig_line = px.line(title=\"Aucune donnée disponible pour les sélections effectuées.\")\n",
    "        fig_bubble = px.scatter(title=\"Aucune donnée disponible pour les sélections effectuées.\")\n",
    "        return fig_bar, fig_line, fig_bubble, pd.DataFrame()\n",
    "\n",
    "    # Agrégation par Année, Chaines et Origine\n",
    "    grouped = data_filtre.groupby([\"Année\", \"Chaines\", \"Origine\"])[\"NbEmissions\"].sum().reset_index()\n",
    "\n",
    "    # Création d'un graphique en barres groupées\n",
    "    fig_bar = px.bar(\n",
    "        grouped,\n",
    "        x=\"Chaines\",\n",
    "        y=\"NbEmissions\",\n",
    "        color=\"Origine\",\n",
    "        barmode=\"group\",\n",
    "        title=f\"Comparaison du Nombre de Films Diffusés par Chaîne {warning_message}\",\n",
    "        labels={\"NbEmissions\": \"Nombre de Films\", \"Chaines\": \"Chaînes\"},\n",
    "        height=600\n",
    "    )\n",
    "\n",
    "    # Création d'un line chart pour les tendances\n",
    "    fig_line = px.line(\n",
    "        grouped,\n",
    "        x=\"Année\",\n",
    "        y=\"NbEmissions\",\n",
    "        color=\"Origine\",\n",
    "        markers=True,\n",
    "        title=f\"Tendances du Nombre de Films Diffusés par Chaîne {warning_message}\",\n",
    "        labels={\"NbEmissions\": \"Nombre de Films\", \"Année\": \"Année\"},\n",
    "        height=600\n",
    "    )\n",
    "\n",
    "    # Création d'un bubble chart\n",
    "    fig_bubble = px.scatter(\n",
    "        grouped,\n",
    "        x=\"Année\",\n",
    "        y=\"NbEmissions\",\n",
    "        size=\"NbEmissions\",\n",
    "        color=\"Origine\",\n",
    "        hover_name=\"Chaines\",\n",
    "        title=f\"Bubble Chart : Nombre de Films Diffusés par Année et par Chaîne {warning_message}\",\n",
    "        labels={\"NbEmissions\": \"Nombre de Films\", \"Année\": \"Année\"},\n",
    "        size_max=60,\n",
    "        height=600\n",
    "    )\n",
    "\n",
    "    # Retourner les graphiques et un aperçu des données filtrées\n",
    "    return fig_bar, fig_line, fig_bubble, grouped.head(10)\n",
    "# Création de l'interface Gradio\n",
    "with gr.Blocks() as demo:\n",
    "    gr.Markdown(\"# Comparaison des Films Diffusés : Français vs Américain\")\n",
    "    gr.Markdown(\"\"\"\n",
    "    Cette interface vous permet de **comparer le nombre de films diffusés sur les chaînes françaises** entre les **films français** et les **films américains** depuis **1990 jusqu'en 2023**.\n",
    "    \"\"\")\n",
    "\n",
    "    with gr.Row():\n",
    "        with gr.Column():\n",
    "            # Sélection des chaînes avec indication du maximum\n",
    "            chaine_input = gr.CheckboxGroup(\n",
    "                label=\"Sélectionnez les chaînes (Max 10) :\",\n",
    "                choices=liste_chaines,\n",
    "                value=liste_chaines[:10]  # Sélection par défaut = premières 10 chaînes\n",
    "            )\n",
    "\n",
    "            # Sélection de l'année de début\n",
    "            annee_debut_input = gr.Slider(\n",
    "                minimum=1990,\n",
    "                maximum=2023,\n",
    "                step=1,\n",
    "                label=\"Sélectionnez l'année de début :\",\n",
    "                value=1990,\n",
    "                interactive=True\n",
    "            )\n",
    "\n",
    "            # Sélection de l'année de fin\n",
    "            annee_fin_input = gr.Slider(\n",
    "                minimum=1990,\n",
    "                maximum=2023,\n",
    "                step=1,\n",
    "                label=\"Sélectionnez l'année de fin :\",\n",
    "                value=2023,\n",
    "                interactive=True\n",
    "            )\n",
    "\n",
    "            # Bouton pour générer les visualisations\n",
    "            btn = gr.Button(\"Générer les Visualisations\")\n",
    "\n",
    "    with gr.Row():\n",
    "        with gr.TabItem(\"Bar Chart\"):\n",
    "            output_bar = gr.Plot(label=\"Graphique en Barres Groupées\")\n",
    "    with gr.Row():\n",
    "        with gr.TabItem(\"Line Chart\"):\n",
    "            output_line = gr.Plot(label=\"Line Chart des Tendances\")\n",
    "    with gr.Row():\n",
    "        with gr.TabItem(\"Bubble Chart\"):\n",
    "            output_bubble = gr.Plot(label=\"Bubble Chart des Émissions\")\n",
    "\n",
    "            # Aperçu des données filtrées\n",
    "            output_table = gr.DataFrame(label=\"Aperçu des Données Filtrées\")\n",
    "\n",
    "    # Action du bouton\n",
    "    btn.click(\n",
    "        fn=generer_comparaison,\n",
    "        inputs=[chaine_input, annee_debut_input, annee_fin_input],\n",
    "        outputs=[output_bar, output_line, output_bubble, output_table]\n",
    "    )\n",
    "\n",
    "# Lancer l'application\n",
    "demo.launch()\n"
   ]
  },
  {
   "cell_type": "code",
   "execution_count": 15,
   "metadata": {
    "colab": {
     "base_uri": "https://localhost:8080/",
     "height": 1000
    },
    "id": "c11Pg9-ihK-5",
    "outputId": "67c9226b-6d42-4068-b2b6-564f04397bc0"
   },
   "outputs": [
    {
     "name": "stdout",
     "output_type": "stream",
     "text": [
      "* Running on local URL:  http://127.0.0.1:7870\n",
      "* Running on public URL: https://e7b4cc03afc867762b.gradio.live\n",
      "\n",
      "This share link expires in 72 hours. For free permanent hosting and GPU upgrades, run `gradio deploy` from the terminal in the working directory to deploy to Hugging Face Spaces (https://huggingface.co/spaces)\n"
     ]
    },
    {
     "data": {
      "text/html": [
       "<div><iframe src=\"https://e7b4cc03afc867762b.gradio.live\" width=\"100%\" height=\"500\" allow=\"autoplay; camera; microphone; clipboard-read; clipboard-write;\" frameborder=\"0\" allowfullscreen></iframe></div>"
      ],
      "text/plain": [
       "<IPython.core.display.HTML object>"
      ]
     },
     "metadata": {},
     "output_type": "display_data"
    },
    {
     "data": {
      "text/plain": []
     },
     "execution_count": 15,
     "metadata": {},
     "output_type": "execute_result"
    }
   ],
   "source": [
    "import gradio as gr\n",
    "\n",
    "# Interface Gradio\n",
    "with gr.Blocks() as dashboard:\n",
    "    gr.Markdown(\"# Tableau de Bord Simplifié des Films Diffusés\")\n",
    "    gr.Markdown(\"Explorez les tendances et la répartition des films diffusés côte à côte.\")\n",
    "\n",
    "    # Contrôles globaux\n",
    "    with gr.Row():\n",
    "        chaine_input = gr.CheckboxGroup(\n",
    "            label=\"Sélectionnez les chaînes :\",\n",
    "            choices=liste_chaines,\n",
    "            value=liste_chaines[:10]\n",
    "        )\n",
    "    with gr.Row():\n",
    "        annee_debut_input = gr.Slider(\n",
    "            minimum=1990, maximum=2023, step=1,\n",
    "            label=\"Année de début :\", value=1990\n",
    "        )\n",
    "    with gr.Row():\n",
    "        annee_fin_input = gr.Slider(\n",
    "            minimum=1990, maximum=2023, step=1,\n",
    "            label=\"Année de fin :\", value=2023\n",
    "        )\n",
    "\n",
    "    # Bouton pour générer les visualisations\n",
    "    btn = gr.Button(\"Générer le Dashboard\")\n",
    "\n",
    "    # Disposition côte à côte pour les graphiques\n",
    "    with gr.Row():\n",
    "        output_graph = gr.Plot(label=\"Graphique Général\")\n",
    "    with gr.Row():\n",
    "        output_camembert = gr.Plot(label=\"Camembert des Répartitions\")\n",
    "        output_boxplot = gr.Plot(label=\"Boxplot des Pourcentages\")\n",
    "    with gr.Row():\n",
    "        output_bar = gr.Plot(label=\"Graphique en Barres Groupées\")\n",
    "\n",
    "\n",
    "\n",
    "    # Bouton déclencheur - lie les fonctions correspondantes\n",
    "    btn.click(\n",
    "        fn=lambda chaine_selection, annee_debut, annee_fin: (\n",
    "            generer_comparaison(chaine_selection, annee_debut, annee_fin)[0],  # Line Chart\n",
    "            generer_boxplot(chaine_selection)[0],                             # Boxplot\n",
    "            generer_camembert(chaine_selection)[0],                           # Camembert\n",
    "            generer_graphique(chaine_selection)[0],                           # Graphique Général\n",
    "        ),\n",
    "        inputs=[chaine_input, annee_debut_input, annee_fin_input],\n",
    "        outputs=[output_bar, output_boxplot, output_camembert, output_graph]\n",
    "    )\n",
    "\n",
    "dashboard.launch(share=True)\n"
   ]
  },
  {
   "cell_type": "code",
   "execution_count": null,
   "metadata": {
    "id": "4Kj5t8m1f1YN"
   },
   "outputs": [],
   "source": []
  }
 ],
 "metadata": {
  "colab": {
   "authorship_tag": "ABX9TyN/5EKHA8RPmbdQms1vH/fx",
   "provenance": []
  },
  "kernelspec": {
   "display_name": "Python 3",
   "name": "python3"
  },
  "language_info": {
   "codemirror_mode": {
    "name": "ipython",
    "version": 3
   },
   "file_extension": ".py",
   "mimetype": "text/x-python",
   "name": "python",
   "nbconvert_exporter": "python",
   "pygments_lexer": "ipython3",
   "version": "3.11.0"
  }
 },
 "nbformat": 4,
 "nbformat_minor": 0
}
