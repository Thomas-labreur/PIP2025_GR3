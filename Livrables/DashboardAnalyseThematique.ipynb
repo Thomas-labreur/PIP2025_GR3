{
 "cells": [
  {
   "cell_type": "markdown",
   "metadata": {
    "id": "wO85wWe6NHkB"
   },
   "source": [
    "L'objectif de ce notebook est la création d'un notebook portant sur l'analyse de l'évolution des thèmes abordés au cours des JT français.\n",
    "\n",
    "Vincent Lucas, 01/2025"
   ]
  },
  {
   "cell_type": "markdown",
   "metadata": {
    "id": "X8XSo9ay30j0"
   },
   "source": [
    "# Imports"
   ]
  },
  {
   "cell_type": "code",
   "execution_count": null,
   "metadata": {
    "colab": {
     "base_uri": "https://localhost:8080/"
    },
    "collapsed": true,
    "executionInfo": {
     "elapsed": 41740,
     "status": "ok",
     "timestamp": 1737104606774,
     "user": {
      "displayName": "Lucas VINCENT",
      "userId": "04357962428259965641"
     },
     "user_tz": -60
    },
    "id": "vyt3LVs3qiuQ",
    "outputId": "bf9ca426-699c-4d70-b4ae-b51d324015de"
   },
   "outputs": [
    {
     "name": "stdout",
     "output_type": "stream",
     "text": [
      "Requirement already satisfied: streamlit in c:\\users\\loual\\appdata\\local\\programs\\python\\python311\\lib\\site-packages (1.41.1)\n",
      "Requirement already satisfied: altair<6,>=4.0 in c:\\users\\loual\\appdata\\local\\programs\\python\\python311\\lib\\site-packages (from streamlit) (5.5.0)\n",
      "Requirement already satisfied: blinker<2,>=1.0.0 in c:\\users\\loual\\appdata\\local\\programs\\python\\python311\\lib\\site-packages (from streamlit) (1.9.0)\n",
      "Requirement already satisfied: cachetools<6,>=4.0 in c:\\users\\loual\\appdata\\local\\programs\\python\\python311\\lib\\site-packages (from streamlit) (5.3.0)\n",
      "Requirement already satisfied: click<9,>=7.0 in c:\\users\\loual\\appdata\\local\\programs\\python\\python311\\lib\\site-packages (from streamlit) (8.1.3)\n",
      "Requirement already satisfied: numpy<3,>=1.23 in c:\\users\\loual\\appdata\\local\\programs\\python\\python311\\lib\\site-packages (from streamlit) (1.23.5)\n",
      "Requirement already satisfied: packaging<25,>=20 in c:\\users\\loual\\appdata\\local\\programs\\python\\python311\\lib\\site-packages (from streamlit) (24.2)\n",
      "Requirement already satisfied: pandas<3,>=1.4.0 in c:\\users\\loual\\appdata\\local\\programs\\python\\python311\\lib\\site-packages (from streamlit) (2.0.0)\n",
      "Requirement already satisfied: pillow<12,>=7.1.0 in c:\\users\\loual\\appdata\\local\\programs\\python\\python311\\lib\\site-packages (from streamlit) (9.3.0)\n",
      "Requirement already satisfied: protobuf<6,>=3.20 in c:\\users\\loual\\appdata\\local\\programs\\python\\python311\\lib\\site-packages (from streamlit) (4.22.1)\n",
      "Requirement already satisfied: pyarrow>=7.0 in c:\\users\\loual\\appdata\\local\\programs\\python\\python311\\lib\\site-packages (from streamlit) (19.0.0)\n",
      "Requirement already satisfied: requests<3,>=2.27 in c:\\users\\loual\\appdata\\local\\programs\\python\\python311\\lib\\site-packages (from streamlit) (2.28.2)\n",
      "Requirement already satisfied: rich<14,>=10.14.0 in c:\\users\\loual\\appdata\\local\\programs\\python\\python311\\lib\\site-packages (from streamlit) (13.9.4)\n",
      "Requirement already satisfied: tenacity<10,>=8.1.0 in c:\\users\\loual\\appdata\\local\\programs\\python\\python311\\lib\\site-packages (from streamlit) (9.0.0)\n",
      "Requirement already satisfied: toml<2,>=0.10.1 in c:\\users\\loual\\appdata\\local\\programs\\python\\python311\\lib\\site-packages (from streamlit) (0.10.2)\n",
      "Requirement already satisfied: typing-extensions<5,>=4.3.0 in c:\\users\\loual\\appdata\\local\\programs\\python\\python311\\lib\\site-packages (from streamlit) (4.12.2)\n",
      "Requirement already satisfied: watchdog<7,>=2.1.5 in c:\\users\\loual\\appdata\\local\\programs\\python\\python311\\lib\\site-packages (from streamlit) (6.0.0)\n",
      "Requirement already satisfied: gitpython!=3.1.19,<4,>=3.0.7 in c:\\users\\loual\\appdata\\local\\programs\\python\\python311\\lib\\site-packages (from streamlit) (3.1.44)\n",
      "Requirement already satisfied: pydeck<1,>=0.8.0b4 in c:\\users\\loual\\appdata\\local\\programs\\python\\python311\\lib\\site-packages (from streamlit) (0.9.1)\n",
      "Requirement already satisfied: tornado<7,>=6.0.3 in c:\\users\\loual\\appdata\\local\\programs\\python\\python311\\lib\\site-packages (from streamlit) (6.2)\n",
      "Requirement already satisfied: jinja2 in c:\\users\\loual\\appdata\\local\\programs\\python\\python311\\lib\\site-packages (from altair<6,>=4.0->streamlit) (3.1.2)\n",
      "Requirement already satisfied: jsonschema>=3.0 in c:\\users\\loual\\appdata\\local\\programs\\python\\python311\\lib\\site-packages (from altair<6,>=4.0->streamlit) (4.17.3)\n",
      "Requirement already satisfied: narwhals>=1.14.2 in c:\\users\\loual\\appdata\\local\\programs\\python\\python311\\lib\\site-packages (from altair<6,>=4.0->streamlit) (1.22.0)\n",
      "Requirement already satisfied: colorama in c:\\users\\loual\\appdata\\local\\programs\\python\\python311\\lib\\site-packages (from click<9,>=7.0->streamlit) (0.4.6)\n",
      "Requirement already satisfied: gitdb<5,>=4.0.1 in c:\\users\\loual\\appdata\\local\\programs\\python\\python311\\lib\\site-packages (from gitpython!=3.1.19,<4,>=3.0.7->streamlit) (4.0.12)\n",
      "Requirement already satisfied: python-dateutil>=2.8.2 in c:\\users\\loual\\appdata\\local\\programs\\python\\python311\\lib\\site-packages (from pandas<3,>=1.4.0->streamlit) (2.8.2)\n",
      "Requirement already satisfied: pytz>=2020.1 in c:\\users\\loual\\appdata\\local\\programs\\python\\python311\\lib\\site-packages (from pandas<3,>=1.4.0->streamlit) (2023.3)\n",
      "Requirement already satisfied: tzdata>=2022.1 in c:\\users\\loual\\appdata\\local\\programs\\python\\python311\\lib\\site-packages (from pandas<3,>=1.4.0->streamlit) (2023.3)\n",
      "Requirement already satisfied: charset-normalizer<4,>=2 in c:\\users\\loual\\appdata\\local\\programs\\python\\python311\\lib\\site-packages (from requests<3,>=2.27->streamlit) (3.0.1)\n",
      "Requirement already satisfied: idna<4,>=2.5 in c:\\users\\loual\\appdata\\local\\programs\\python\\python311\\lib\\site-packages (from requests<3,>=2.27->streamlit) (3.4)\n",
      "Requirement already satisfied: urllib3<1.27,>=1.21.1 in c:\\users\\loual\\appdata\\local\\programs\\python\\python311\\lib\\site-packages (from requests<3,>=2.27->streamlit) (1.26.14)\n",
      "Requirement already satisfied: certifi>=2017.4.17 in c:\\users\\loual\\appdata\\local\\programs\\python\\python311\\lib\\site-packages (from requests<3,>=2.27->streamlit) (2022.12.7)\n",
      "Requirement already satisfied: markdown-it-py>=2.2.0 in c:\\users\\loual\\appdata\\local\\programs\\python\\python311\\lib\\site-packages (from rich<14,>=10.14.0->streamlit) (3.0.0)\n",
      "Requirement already satisfied: pygments<3.0.0,>=2.13.0 in c:\\users\\loual\\appdata\\local\\programs\\python\\python311\\lib\\site-packages (from rich<14,>=10.14.0->streamlit) (2.13.0)\n",
      "Requirement already satisfied: smmap<6,>=3.0.1 in c:\\users\\loual\\appdata\\local\\programs\\python\\python311\\lib\\site-packages (from gitdb<5,>=4.0.1->gitpython!=3.1.19,<4,>=3.0.7->streamlit) (5.0.2)\n",
      "Requirement already satisfied: MarkupSafe>=2.0 in c:\\users\\loual\\appdata\\local\\programs\\python\\python311\\lib\\site-packages (from jinja2->altair<6,>=4.0->streamlit) (2.1.1)\n",
      "Requirement already satisfied: attrs>=17.4.0 in c:\\users\\loual\\appdata\\local\\programs\\python\\python311\\lib\\site-packages (from jsonschema>=3.0->altair<6,>=4.0->streamlit) (22.1.0)\n",
      "Requirement already satisfied: pyrsistent!=0.17.0,!=0.17.1,!=0.17.2,>=0.14.0 in c:\\users\\loual\\appdata\\local\\programs\\python\\python311\\lib\\site-packages (from jsonschema>=3.0->altair<6,>=4.0->streamlit) (0.19.2)\n",
      "Requirement already satisfied: mdurl~=0.1 in c:\\users\\loual\\appdata\\local\\programs\\python\\python311\\lib\\site-packages (from markdown-it-py>=2.2.0->rich<14,>=10.14.0->streamlit) (0.1.2)\n",
      "Requirement already satisfied: six>=1.5 in c:\\users\\loual\\appdata\\local\\programs\\python\\python311\\lib\\site-packages (from python-dateutil>=2.8.2->pandas<3,>=1.4.0->streamlit) (1.16.0)\n"
     ]
    },
    {
     "name": "stderr",
     "output_type": "stream",
     "text": [
      "\n",
      "[notice] A new release of pip available: 22.3.1 -> 24.3.1\n",
      "[notice] To update, run: python.exe -m pip install --upgrade pip\n"
     ]
    }
   ],
   "source": [
    "!pip install streamlit\n",
    "!pip install gradio\n",
    "!pip install squarify"
   ]
  },
  {
   "cell_type": "code",
   "execution_count": 2,
   "metadata": {
    "executionInfo": {
     "elapsed": 23699,
     "status": "ok",
     "timestamp": 1737104630470,
     "user": {
      "displayName": "Lucas VINCENT",
      "userId": "04357962428259965641"
     },
     "user_tz": -60
    },
    "id": "CqfD2Tzg3z_s"
   },
   "outputs": [],
   "source": [
    "#from google.colab import drive\n",
    "import matplotlib.pyplot as plt\n",
    "import os\n",
    "import pandas as pd\n",
    "import gradio as gr\n",
    "import io\n",
    "import seaborn as sns\n",
    "import squarify\n",
    "import plotly.express as px\n"
   ]
  },
  {
   "cell_type": "markdown",
   "metadata": {
    "id": "9Jb7PBLd4OIM"
   },
   "source": [
    "# Connexion au drive"
   ]
  },
  {
   "cell_type": "code",
   "execution_count": 3,
   "metadata": {
    "colab": {
     "base_uri": "https://localhost:8080/"
    },
    "executionInfo": {
     "elapsed": 62387,
     "status": "ok",
     "timestamp": 1737104692854,
     "user": {
      "displayName": "Lucas VINCENT",
      "userId": "04357962428259965641"
     },
     "user_tz": -60
    },
    "id": "DChKTbNj3f80",
    "outputId": "3ddec085-5b6d-435c-9a16-72d4901fdac3"
   },
   "outputs": [],
   "source": [
    "#drive.mount(\"/content/drive\", force_remount=True)\n",
    "#chemin_donnees = \"/content/drive/MyDrive/PIP2025/Donnees\"\n",
    "chemin_donnees = os.path.join(\"..\", \"Data\")"
   ]
  },
  {
   "cell_type": "markdown",
   "metadata": {
    "id": "nQ6vPZcLCPx4"
   },
   "source": [
    "# Chargement des données"
   ]
  },
  {
   "cell_type": "code",
   "execution_count": 4,
   "metadata": {
    "colab": {
     "base_uri": "https://localhost:8080/",
     "height": 0
    },
    "executionInfo": {
     "elapsed": 1289,
     "status": "ok",
     "timestamp": 1737104694140,
     "user": {
      "displayName": "Lucas VINCENT",
      "userId": "04357962428259965641"
     },
     "user_tz": -60
    },
    "id": "DFPN4_JQCUpA",
    "outputId": "db405463-e1e0-46aa-8ecc-10573566454e"
   },
   "outputs": [
    {
     "data": {
      "text/html": [
       "<div>\n",
       "<style scoped>\n",
       "    .dataframe tbody tr th:only-of-type {\n",
       "        vertical-align: middle;\n",
       "    }\n",
       "\n",
       "    .dataframe tbody tr th {\n",
       "        vertical-align: top;\n",
       "    }\n",
       "\n",
       "    .dataframe thead th {\n",
       "        text-align: right;\n",
       "    }\n",
       "</style>\n",
       "<table border=\"1\" class=\"dataframe\">\n",
       "  <thead>\n",
       "    <tr style=\"text-align: right;\">\n",
       "      <th></th>\n",
       "      <th>Date</th>\n",
       "      <th>Chaine</th>\n",
       "      <th>Theme</th>\n",
       "      <th>NbEmissions</th>\n",
       "      <th>Temps</th>\n",
       "      <th>Annee</th>\n",
       "    </tr>\n",
       "  </thead>\n",
       "  <tbody>\n",
       "    <tr>\n",
       "      <th>0</th>\n",
       "      <td>2000-01-02</td>\n",
       "      <td>France 3</td>\n",
       "      <td>Catastrophes</td>\n",
       "      <td>2</td>\n",
       "      <td>235</td>\n",
       "      <td>2000</td>\n",
       "    </tr>\n",
       "    <tr>\n",
       "      <th>1</th>\n",
       "      <td>2000-01-02</td>\n",
       "      <td>France 3</td>\n",
       "      <td>Culture-loisirs</td>\n",
       "      <td>1</td>\n",
       "      <td>138</td>\n",
       "      <td>2000</td>\n",
       "    </tr>\n",
       "    <tr>\n",
       "      <th>2</th>\n",
       "      <td>2000-01-02</td>\n",
       "      <td>France 3</td>\n",
       "      <td>Environnement</td>\n",
       "      <td>3</td>\n",
       "      <td>306</td>\n",
       "      <td>2000</td>\n",
       "    </tr>\n",
       "    <tr>\n",
       "      <th>3</th>\n",
       "      <td>2000-01-02</td>\n",
       "      <td>France 3</td>\n",
       "      <td>International</td>\n",
       "      <td>2</td>\n",
       "      <td>241</td>\n",
       "      <td>2000</td>\n",
       "    </tr>\n",
       "    <tr>\n",
       "      <th>4</th>\n",
       "      <td>2000-01-02</td>\n",
       "      <td>France 3</td>\n",
       "      <td>Société</td>\n",
       "      <td>2</td>\n",
       "      <td>160</td>\n",
       "      <td>2000</td>\n",
       "    </tr>\n",
       "    <tr>\n",
       "      <th>...</th>\n",
       "      <td>...</td>\n",
       "      <td>...</td>\n",
       "      <td>...</td>\n",
       "      <td>...</td>\n",
       "      <td>...</td>\n",
       "      <td>...</td>\n",
       "    </tr>\n",
       "    <tr>\n",
       "      <th>268419</th>\n",
       "      <td>2020-12-31</td>\n",
       "      <td>M6</td>\n",
       "      <td>Histoire-hommages</td>\n",
       "      <td>1</td>\n",
       "      <td>109</td>\n",
       "      <td>2020</td>\n",
       "    </tr>\n",
       "    <tr>\n",
       "      <th>268420</th>\n",
       "      <td>2020-12-31</td>\n",
       "      <td>M6</td>\n",
       "      <td>International</td>\n",
       "      <td>3</td>\n",
       "      <td>123</td>\n",
       "      <td>2020</td>\n",
       "    </tr>\n",
       "    <tr>\n",
       "      <th>268421</th>\n",
       "      <td>2020-12-31</td>\n",
       "      <td>M6</td>\n",
       "      <td>Politique France</td>\n",
       "      <td>1</td>\n",
       "      <td>46</td>\n",
       "      <td>2020</td>\n",
       "    </tr>\n",
       "    <tr>\n",
       "      <th>268422</th>\n",
       "      <td>2020-12-31</td>\n",
       "      <td>M6</td>\n",
       "      <td>Santé</td>\n",
       "      <td>3</td>\n",
       "      <td>96</td>\n",
       "      <td>2020</td>\n",
       "    </tr>\n",
       "    <tr>\n",
       "      <th>268423</th>\n",
       "      <td>2020-12-31</td>\n",
       "      <td>M6</td>\n",
       "      <td>Société</td>\n",
       "      <td>3</td>\n",
       "      <td>269</td>\n",
       "      <td>2020</td>\n",
       "    </tr>\n",
       "  </tbody>\n",
       "</table>\n",
       "<p>268424 rows × 6 columns</p>\n",
       "</div>"
      ],
      "text/plain": [
       "             Date    Chaine              Theme  NbEmissions  Temps  Annee\n",
       "0      2000-01-02  France 3       Catastrophes            2    235   2000\n",
       "1      2000-01-02  France 3    Culture-loisirs            1    138   2000\n",
       "2      2000-01-02  France 3      Environnement            3    306   2000\n",
       "3      2000-01-02  France 3      International            2    241   2000\n",
       "4      2000-01-02  France 3            Société            2    160   2000\n",
       "...           ...       ...                ...          ...    ...    ...\n",
       "268419 2020-12-31        M6  Histoire-hommages            1    109   2020\n",
       "268420 2020-12-31        M6      International            3    123   2020\n",
       "268421 2020-12-31        M6   Politique France            1     46   2020\n",
       "268422 2020-12-31        M6              Santé            3     96   2020\n",
       "268423 2020-12-31        M6            Société            3    269   2020\n",
       "\n",
       "[268424 rows x 6 columns]"
      ]
     },
     "execution_count": 4,
     "metadata": {},
     "output_type": "execute_result"
    }
   ],
   "source": [
    "path = os.path.join(chemin_donnees, \"Classement thématique des sujets de journeaux télévisés\", \"ina-barometre-jt-tv-donnees-quotidiennes-2000-2020-nbre-sujets-durees-202410.csv\")\n",
    "df = pd.read_csv(\n",
    "    path,\n",
    "    encoding='latin-1',\n",
    "    sep=';',\n",
    "    header=None,\n",
    "    names=[\"Date\", \"Chaine\", \"Vide\", \"Theme\", \"NbEmissions\", \"Temps\"]\n",
    ")\n",
    "df.dropna(axis=1, how='all', inplace=True)\n",
    "df['Date'] = pd.to_datetime(df['Date'], format='%d/%m/%Y')\n",
    "df['Annee'] = df['Date'].dt.year.astype(int)\n",
    "df"
   ]
  },
  {
   "cell_type": "markdown",
   "metadata": {
    "id": "9M4p-rC_3s7p"
   },
   "source": [
    "On génère le pourcentage de temps"
   ]
  },
  {
   "cell_type": "code",
   "execution_count": 5,
   "metadata": {
    "colab": {
     "base_uri": "https://localhost:8080/",
     "height": 0
    },
    "executionInfo": {
     "elapsed": 3,
     "status": "ok",
     "timestamp": 1737104694140,
     "user": {
      "displayName": "Lucas VINCENT",
      "userId": "04357962428259965641"
     },
     "user_tz": -60
    },
    "id": "2DWvdb1R3sSB",
    "outputId": "1cd5d424-7a51-4b99-edea-1ea729631b52"
   },
   "outputs": [
    {
     "data": {
      "text/html": [
       "<div>\n",
       "<style scoped>\n",
       "    .dataframe tbody tr th:only-of-type {\n",
       "        vertical-align: middle;\n",
       "    }\n",
       "\n",
       "    .dataframe tbody tr th {\n",
       "        vertical-align: top;\n",
       "    }\n",
       "\n",
       "    .dataframe thead th {\n",
       "        text-align: right;\n",
       "    }\n",
       "</style>\n",
       "<table border=\"1\" class=\"dataframe\">\n",
       "  <thead>\n",
       "    <tr style=\"text-align: right;\">\n",
       "      <th></th>\n",
       "      <th>Date</th>\n",
       "      <th>Chaine</th>\n",
       "      <th>Theme</th>\n",
       "      <th>NbEmissions</th>\n",
       "      <th>Temps</th>\n",
       "      <th>Annee</th>\n",
       "      <th>Temps_Total_Chaine_Journee</th>\n",
       "      <th>Temps_Pourcentage</th>\n",
       "    </tr>\n",
       "  </thead>\n",
       "  <tbody>\n",
       "    <tr>\n",
       "      <th>0</th>\n",
       "      <td>2000-01-02</td>\n",
       "      <td>France 3</td>\n",
       "      <td>Catastrophes</td>\n",
       "      <td>2</td>\n",
       "      <td>235</td>\n",
       "      <td>2000</td>\n",
       "      <td>1254</td>\n",
       "      <td>18.74</td>\n",
       "    </tr>\n",
       "    <tr>\n",
       "      <th>1</th>\n",
       "      <td>2000-01-02</td>\n",
       "      <td>France 3</td>\n",
       "      <td>Culture-loisirs</td>\n",
       "      <td>1</td>\n",
       "      <td>138</td>\n",
       "      <td>2000</td>\n",
       "      <td>1254</td>\n",
       "      <td>11.00</td>\n",
       "    </tr>\n",
       "    <tr>\n",
       "      <th>2</th>\n",
       "      <td>2000-01-02</td>\n",
       "      <td>France 3</td>\n",
       "      <td>Environnement</td>\n",
       "      <td>3</td>\n",
       "      <td>306</td>\n",
       "      <td>2000</td>\n",
       "      <td>1254</td>\n",
       "      <td>24.40</td>\n",
       "    </tr>\n",
       "    <tr>\n",
       "      <th>3</th>\n",
       "      <td>2000-01-02</td>\n",
       "      <td>France 3</td>\n",
       "      <td>International</td>\n",
       "      <td>2</td>\n",
       "      <td>241</td>\n",
       "      <td>2000</td>\n",
       "      <td>1254</td>\n",
       "      <td>19.22</td>\n",
       "    </tr>\n",
       "    <tr>\n",
       "      <th>4</th>\n",
       "      <td>2000-01-02</td>\n",
       "      <td>France 3</td>\n",
       "      <td>Société</td>\n",
       "      <td>2</td>\n",
       "      <td>160</td>\n",
       "      <td>2000</td>\n",
       "      <td>1254</td>\n",
       "      <td>12.76</td>\n",
       "    </tr>\n",
       "    <tr>\n",
       "      <th>5</th>\n",
       "      <td>2000-01-02</td>\n",
       "      <td>France 3</td>\n",
       "      <td>Sport</td>\n",
       "      <td>2</td>\n",
       "      <td>174</td>\n",
       "      <td>2000</td>\n",
       "      <td>1254</td>\n",
       "      <td>13.88</td>\n",
       "    </tr>\n",
       "    <tr>\n",
       "      <th>6</th>\n",
       "      <td>2000-01-03</td>\n",
       "      <td>France 3</td>\n",
       "      <td>Catastrophes</td>\n",
       "      <td>3</td>\n",
       "      <td>329</td>\n",
       "      <td>2000</td>\n",
       "      <td>1190</td>\n",
       "      <td>27.65</td>\n",
       "    </tr>\n",
       "    <tr>\n",
       "      <th>7</th>\n",
       "      <td>2000-01-03</td>\n",
       "      <td>France 3</td>\n",
       "      <td>Culture-loisirs</td>\n",
       "      <td>1</td>\n",
       "      <td>38</td>\n",
       "      <td>2000</td>\n",
       "      <td>1190</td>\n",
       "      <td>3.19</td>\n",
       "    </tr>\n",
       "    <tr>\n",
       "      <th>8</th>\n",
       "      <td>2000-01-03</td>\n",
       "      <td>France 3</td>\n",
       "      <td>Economie</td>\n",
       "      <td>2</td>\n",
       "      <td>191</td>\n",
       "      <td>2000</td>\n",
       "      <td>1190</td>\n",
       "      <td>16.05</td>\n",
       "    </tr>\n",
       "    <tr>\n",
       "      <th>9</th>\n",
       "      <td>2000-01-03</td>\n",
       "      <td>France 3</td>\n",
       "      <td>Education</td>\n",
       "      <td>2</td>\n",
       "      <td>224</td>\n",
       "      <td>2000</td>\n",
       "      <td>1190</td>\n",
       "      <td>18.82</td>\n",
       "    </tr>\n",
       "    <tr>\n",
       "      <th>10</th>\n",
       "      <td>2000-01-03</td>\n",
       "      <td>France 3</td>\n",
       "      <td>Environnement</td>\n",
       "      <td>1</td>\n",
       "      <td>100</td>\n",
       "      <td>2000</td>\n",
       "      <td>1190</td>\n",
       "      <td>8.40</td>\n",
       "    </tr>\n",
       "    <tr>\n",
       "      <th>11</th>\n",
       "      <td>2000-01-03</td>\n",
       "      <td>France 3</td>\n",
       "      <td>International</td>\n",
       "      <td>1</td>\n",
       "      <td>22</td>\n",
       "      <td>2000</td>\n",
       "      <td>1190</td>\n",
       "      <td>1.85</td>\n",
       "    </tr>\n",
       "    <tr>\n",
       "      <th>12</th>\n",
       "      <td>2000-01-03</td>\n",
       "      <td>France 3</td>\n",
       "      <td>Politique France</td>\n",
       "      <td>1</td>\n",
       "      <td>18</td>\n",
       "      <td>2000</td>\n",
       "      <td>1190</td>\n",
       "      <td>1.51</td>\n",
       "    </tr>\n",
       "    <tr>\n",
       "      <th>13</th>\n",
       "      <td>2000-01-03</td>\n",
       "      <td>France 3</td>\n",
       "      <td>Société</td>\n",
       "      <td>2</td>\n",
       "      <td>205</td>\n",
       "      <td>2000</td>\n",
       "      <td>1190</td>\n",
       "      <td>17.23</td>\n",
       "    </tr>\n",
       "    <tr>\n",
       "      <th>14</th>\n",
       "      <td>2000-01-03</td>\n",
       "      <td>France 3</td>\n",
       "      <td>Sport</td>\n",
       "      <td>1</td>\n",
       "      <td>63</td>\n",
       "      <td>2000</td>\n",
       "      <td>1190</td>\n",
       "      <td>5.29</td>\n",
       "    </tr>\n",
       "    <tr>\n",
       "      <th>15</th>\n",
       "      <td>2000-01-04</td>\n",
       "      <td>France 3</td>\n",
       "      <td>Catastrophes</td>\n",
       "      <td>4</td>\n",
       "      <td>346</td>\n",
       "      <td>2000</td>\n",
       "      <td>1157</td>\n",
       "      <td>29.90</td>\n",
       "    </tr>\n",
       "    <tr>\n",
       "      <th>16</th>\n",
       "      <td>2000-01-04</td>\n",
       "      <td>France 3</td>\n",
       "      <td>Culture-loisirs</td>\n",
       "      <td>1</td>\n",
       "      <td>100</td>\n",
       "      <td>2000</td>\n",
       "      <td>1157</td>\n",
       "      <td>8.64</td>\n",
       "    </tr>\n",
       "    <tr>\n",
       "      <th>17</th>\n",
       "      <td>2000-01-04</td>\n",
       "      <td>France 3</td>\n",
       "      <td>Economie</td>\n",
       "      <td>2</td>\n",
       "      <td>207</td>\n",
       "      <td>2000</td>\n",
       "      <td>1157</td>\n",
       "      <td>17.89</td>\n",
       "    </tr>\n",
       "    <tr>\n",
       "      <th>18</th>\n",
       "      <td>2000-01-04</td>\n",
       "      <td>France 3</td>\n",
       "      <td>Environnement</td>\n",
       "      <td>3</td>\n",
       "      <td>225</td>\n",
       "      <td>2000</td>\n",
       "      <td>1157</td>\n",
       "      <td>19.45</td>\n",
       "    </tr>\n",
       "    <tr>\n",
       "      <th>19</th>\n",
       "      <td>2000-01-04</td>\n",
       "      <td>France 3</td>\n",
       "      <td>International</td>\n",
       "      <td>2</td>\n",
       "      <td>152</td>\n",
       "      <td>2000</td>\n",
       "      <td>1157</td>\n",
       "      <td>13.14</td>\n",
       "    </tr>\n",
       "    <tr>\n",
       "      <th>20</th>\n",
       "      <td>2000-01-04</td>\n",
       "      <td>France 3</td>\n",
       "      <td>Santé</td>\n",
       "      <td>1</td>\n",
       "      <td>105</td>\n",
       "      <td>2000</td>\n",
       "      <td>1157</td>\n",
       "      <td>9.08</td>\n",
       "    </tr>\n",
       "    <tr>\n",
       "      <th>21</th>\n",
       "      <td>2000-01-04</td>\n",
       "      <td>France 3</td>\n",
       "      <td>Société</td>\n",
       "      <td>1</td>\n",
       "      <td>22</td>\n",
       "      <td>2000</td>\n",
       "      <td>1157</td>\n",
       "      <td>1.90</td>\n",
       "    </tr>\n",
       "    <tr>\n",
       "      <th>22</th>\n",
       "      <td>2000-01-05</td>\n",
       "      <td>France 3</td>\n",
       "      <td>Catastrophes</td>\n",
       "      <td>3</td>\n",
       "      <td>316</td>\n",
       "      <td>2000</td>\n",
       "      <td>1187</td>\n",
       "      <td>26.62</td>\n",
       "    </tr>\n",
       "    <tr>\n",
       "      <th>23</th>\n",
       "      <td>2000-01-05</td>\n",
       "      <td>France 3</td>\n",
       "      <td>Culture-loisirs</td>\n",
       "      <td>2</td>\n",
       "      <td>106</td>\n",
       "      <td>2000</td>\n",
       "      <td>1187</td>\n",
       "      <td>8.93</td>\n",
       "    </tr>\n",
       "    <tr>\n",
       "      <th>24</th>\n",
       "      <td>2000-01-05</td>\n",
       "      <td>France 3</td>\n",
       "      <td>Economie</td>\n",
       "      <td>2</td>\n",
       "      <td>239</td>\n",
       "      <td>2000</td>\n",
       "      <td>1187</td>\n",
       "      <td>20.13</td>\n",
       "    </tr>\n",
       "    <tr>\n",
       "      <th>25</th>\n",
       "      <td>2000-01-05</td>\n",
       "      <td>France 3</td>\n",
       "      <td>Environnement</td>\n",
       "      <td>1</td>\n",
       "      <td>105</td>\n",
       "      <td>2000</td>\n",
       "      <td>1187</td>\n",
       "      <td>8.85</td>\n",
       "    </tr>\n",
       "    <tr>\n",
       "      <th>26</th>\n",
       "      <td>2000-01-05</td>\n",
       "      <td>France 3</td>\n",
       "      <td>Histoire-hommages</td>\n",
       "      <td>1</td>\n",
       "      <td>19</td>\n",
       "      <td>2000</td>\n",
       "      <td>1187</td>\n",
       "      <td>1.60</td>\n",
       "    </tr>\n",
       "    <tr>\n",
       "      <th>27</th>\n",
       "      <td>2000-01-05</td>\n",
       "      <td>France 3</td>\n",
       "      <td>International</td>\n",
       "      <td>1</td>\n",
       "      <td>23</td>\n",
       "      <td>2000</td>\n",
       "      <td>1187</td>\n",
       "      <td>1.94</td>\n",
       "    </tr>\n",
       "    <tr>\n",
       "      <th>28</th>\n",
       "      <td>2000-01-05</td>\n",
       "      <td>France 3</td>\n",
       "      <td>Justice</td>\n",
       "      <td>1</td>\n",
       "      <td>109</td>\n",
       "      <td>2000</td>\n",
       "      <td>1187</td>\n",
       "      <td>9.18</td>\n",
       "    </tr>\n",
       "    <tr>\n",
       "      <th>29</th>\n",
       "      <td>2000-01-05</td>\n",
       "      <td>France 3</td>\n",
       "      <td>Santé</td>\n",
       "      <td>1</td>\n",
       "      <td>80</td>\n",
       "      <td>2000</td>\n",
       "      <td>1187</td>\n",
       "      <td>6.74</td>\n",
       "    </tr>\n",
       "    <tr>\n",
       "      <th>30</th>\n",
       "      <td>2000-01-05</td>\n",
       "      <td>France 3</td>\n",
       "      <td>Société</td>\n",
       "      <td>1</td>\n",
       "      <td>80</td>\n",
       "      <td>2000</td>\n",
       "      <td>1187</td>\n",
       "      <td>6.74</td>\n",
       "    </tr>\n",
       "    <tr>\n",
       "      <th>31</th>\n",
       "      <td>2000-01-05</td>\n",
       "      <td>France 3</td>\n",
       "      <td>Sport</td>\n",
       "      <td>1</td>\n",
       "      <td>110</td>\n",
       "      <td>2000</td>\n",
       "      <td>1187</td>\n",
       "      <td>9.27</td>\n",
       "    </tr>\n",
       "    <tr>\n",
       "      <th>32</th>\n",
       "      <td>2000-01-06</td>\n",
       "      <td>France 3</td>\n",
       "      <td>Catastrophes</td>\n",
       "      <td>1</td>\n",
       "      <td>95</td>\n",
       "      <td>2000</td>\n",
       "      <td>1165</td>\n",
       "      <td>8.15</td>\n",
       "    </tr>\n",
       "    <tr>\n",
       "      <th>33</th>\n",
       "      <td>2000-01-06</td>\n",
       "      <td>France 3</td>\n",
       "      <td>Culture-loisirs</td>\n",
       "      <td>1</td>\n",
       "      <td>21</td>\n",
       "      <td>2000</td>\n",
       "      <td>1165</td>\n",
       "      <td>1.80</td>\n",
       "    </tr>\n",
       "    <tr>\n",
       "      <th>34</th>\n",
       "      <td>2000-01-06</td>\n",
       "      <td>France 3</td>\n",
       "      <td>Economie</td>\n",
       "      <td>3</td>\n",
       "      <td>328</td>\n",
       "      <td>2000</td>\n",
       "      <td>1165</td>\n",
       "      <td>28.15</td>\n",
       "    </tr>\n",
       "    <tr>\n",
       "      <th>35</th>\n",
       "      <td>2000-01-06</td>\n",
       "      <td>France 3</td>\n",
       "      <td>Environnement</td>\n",
       "      <td>1</td>\n",
       "      <td>36</td>\n",
       "      <td>2000</td>\n",
       "      <td>1165</td>\n",
       "      <td>3.09</td>\n",
       "    </tr>\n",
       "    <tr>\n",
       "      <th>36</th>\n",
       "      <td>2000-01-06</td>\n",
       "      <td>France 3</td>\n",
       "      <td>Histoire-hommages</td>\n",
       "      <td>1</td>\n",
       "      <td>120</td>\n",
       "      <td>2000</td>\n",
       "      <td>1165</td>\n",
       "      <td>10.30</td>\n",
       "    </tr>\n",
       "    <tr>\n",
       "      <th>37</th>\n",
       "      <td>2000-01-06</td>\n",
       "      <td>France 3</td>\n",
       "      <td>International</td>\n",
       "      <td>1</td>\n",
       "      <td>90</td>\n",
       "      <td>2000</td>\n",
       "      <td>1165</td>\n",
       "      <td>7.73</td>\n",
       "    </tr>\n",
       "    <tr>\n",
       "      <th>38</th>\n",
       "      <td>2000-01-06</td>\n",
       "      <td>France 3</td>\n",
       "      <td>Justice</td>\n",
       "      <td>1</td>\n",
       "      <td>120</td>\n",
       "      <td>2000</td>\n",
       "      <td>1165</td>\n",
       "      <td>10.30</td>\n",
       "    </tr>\n",
       "    <tr>\n",
       "      <th>39</th>\n",
       "      <td>2000-01-06</td>\n",
       "      <td>France 3</td>\n",
       "      <td>Politique France</td>\n",
       "      <td>1</td>\n",
       "      <td>75</td>\n",
       "      <td>2000</td>\n",
       "      <td>1165</td>\n",
       "      <td>6.44</td>\n",
       "    </tr>\n",
       "    <tr>\n",
       "      <th>40</th>\n",
       "      <td>2000-01-06</td>\n",
       "      <td>France 3</td>\n",
       "      <td>Santé</td>\n",
       "      <td>1</td>\n",
       "      <td>119</td>\n",
       "      <td>2000</td>\n",
       "      <td>1165</td>\n",
       "      <td>10.21</td>\n",
       "    </tr>\n",
       "    <tr>\n",
       "      <th>41</th>\n",
       "      <td>2000-01-06</td>\n",
       "      <td>France 3</td>\n",
       "      <td>Société</td>\n",
       "      <td>1</td>\n",
       "      <td>100</td>\n",
       "      <td>2000</td>\n",
       "      <td>1165</td>\n",
       "      <td>8.58</td>\n",
       "    </tr>\n",
       "    <tr>\n",
       "      <th>42</th>\n",
       "      <td>2000-01-06</td>\n",
       "      <td>France 3</td>\n",
       "      <td>Sport</td>\n",
       "      <td>1</td>\n",
       "      <td>61</td>\n",
       "      <td>2000</td>\n",
       "      <td>1165</td>\n",
       "      <td>5.24</td>\n",
       "    </tr>\n",
       "    <tr>\n",
       "      <th>43</th>\n",
       "      <td>2000-01-07</td>\n",
       "      <td>France 3</td>\n",
       "      <td>Catastrophes</td>\n",
       "      <td>1</td>\n",
       "      <td>115</td>\n",
       "      <td>2000</td>\n",
       "      <td>1151</td>\n",
       "      <td>9.99</td>\n",
       "    </tr>\n",
       "    <tr>\n",
       "      <th>44</th>\n",
       "      <td>2000-01-07</td>\n",
       "      <td>France 3</td>\n",
       "      <td>Environnement</td>\n",
       "      <td>3</td>\n",
       "      <td>206</td>\n",
       "      <td>2000</td>\n",
       "      <td>1151</td>\n",
       "      <td>17.90</td>\n",
       "    </tr>\n",
       "    <tr>\n",
       "      <th>45</th>\n",
       "      <td>2000-01-07</td>\n",
       "      <td>France 3</td>\n",
       "      <td>International</td>\n",
       "      <td>1</td>\n",
       "      <td>53</td>\n",
       "      <td>2000</td>\n",
       "      <td>1151</td>\n",
       "      <td>4.60</td>\n",
       "    </tr>\n",
       "    <tr>\n",
       "      <th>46</th>\n",
       "      <td>2000-01-07</td>\n",
       "      <td>France 3</td>\n",
       "      <td>Santé</td>\n",
       "      <td>1</td>\n",
       "      <td>120</td>\n",
       "      <td>2000</td>\n",
       "      <td>1151</td>\n",
       "      <td>10.43</td>\n",
       "    </tr>\n",
       "    <tr>\n",
       "      <th>47</th>\n",
       "      <td>2000-01-07</td>\n",
       "      <td>France 3</td>\n",
       "      <td>Société</td>\n",
       "      <td>6</td>\n",
       "      <td>564</td>\n",
       "      <td>2000</td>\n",
       "      <td>1151</td>\n",
       "      <td>49.00</td>\n",
       "    </tr>\n",
       "    <tr>\n",
       "      <th>48</th>\n",
       "      <td>2000-01-07</td>\n",
       "      <td>France 3</td>\n",
       "      <td>Sport</td>\n",
       "      <td>1</td>\n",
       "      <td>93</td>\n",
       "      <td>2000</td>\n",
       "      <td>1151</td>\n",
       "      <td>8.08</td>\n",
       "    </tr>\n",
       "    <tr>\n",
       "      <th>49</th>\n",
       "      <td>2000-01-08</td>\n",
       "      <td>France 3</td>\n",
       "      <td>Catastrophes</td>\n",
       "      <td>4</td>\n",
       "      <td>360</td>\n",
       "      <td>2000</td>\n",
       "      <td>1172</td>\n",
       "      <td>30.72</td>\n",
       "    </tr>\n",
       "  </tbody>\n",
       "</table>\n",
       "</div>"
      ],
      "text/plain": [
       "         Date    Chaine              Theme  NbEmissions  Temps  Annee   \n",
       "0  2000-01-02  France 3       Catastrophes            2    235   2000  \\\n",
       "1  2000-01-02  France 3    Culture-loisirs            1    138   2000   \n",
       "2  2000-01-02  France 3      Environnement            3    306   2000   \n",
       "3  2000-01-02  France 3      International            2    241   2000   \n",
       "4  2000-01-02  France 3            Société            2    160   2000   \n",
       "5  2000-01-02  France 3              Sport            2    174   2000   \n",
       "6  2000-01-03  France 3       Catastrophes            3    329   2000   \n",
       "7  2000-01-03  France 3    Culture-loisirs            1     38   2000   \n",
       "8  2000-01-03  France 3           Economie            2    191   2000   \n",
       "9  2000-01-03  France 3          Education            2    224   2000   \n",
       "10 2000-01-03  France 3      Environnement            1    100   2000   \n",
       "11 2000-01-03  France 3      International            1     22   2000   \n",
       "12 2000-01-03  France 3   Politique France            1     18   2000   \n",
       "13 2000-01-03  France 3            Société            2    205   2000   \n",
       "14 2000-01-03  France 3              Sport            1     63   2000   \n",
       "15 2000-01-04  France 3       Catastrophes            4    346   2000   \n",
       "16 2000-01-04  France 3    Culture-loisirs            1    100   2000   \n",
       "17 2000-01-04  France 3           Economie            2    207   2000   \n",
       "18 2000-01-04  France 3      Environnement            3    225   2000   \n",
       "19 2000-01-04  France 3      International            2    152   2000   \n",
       "20 2000-01-04  France 3              Santé            1    105   2000   \n",
       "21 2000-01-04  France 3            Société            1     22   2000   \n",
       "22 2000-01-05  France 3       Catastrophes            3    316   2000   \n",
       "23 2000-01-05  France 3    Culture-loisirs            2    106   2000   \n",
       "24 2000-01-05  France 3           Economie            2    239   2000   \n",
       "25 2000-01-05  France 3      Environnement            1    105   2000   \n",
       "26 2000-01-05  France 3  Histoire-hommages            1     19   2000   \n",
       "27 2000-01-05  France 3      International            1     23   2000   \n",
       "28 2000-01-05  France 3            Justice            1    109   2000   \n",
       "29 2000-01-05  France 3              Santé            1     80   2000   \n",
       "30 2000-01-05  France 3            Société            1     80   2000   \n",
       "31 2000-01-05  France 3              Sport            1    110   2000   \n",
       "32 2000-01-06  France 3       Catastrophes            1     95   2000   \n",
       "33 2000-01-06  France 3    Culture-loisirs            1     21   2000   \n",
       "34 2000-01-06  France 3           Economie            3    328   2000   \n",
       "35 2000-01-06  France 3      Environnement            1     36   2000   \n",
       "36 2000-01-06  France 3  Histoire-hommages            1    120   2000   \n",
       "37 2000-01-06  France 3      International            1     90   2000   \n",
       "38 2000-01-06  France 3            Justice            1    120   2000   \n",
       "39 2000-01-06  France 3   Politique France            1     75   2000   \n",
       "40 2000-01-06  France 3              Santé            1    119   2000   \n",
       "41 2000-01-06  France 3            Société            1    100   2000   \n",
       "42 2000-01-06  France 3              Sport            1     61   2000   \n",
       "43 2000-01-07  France 3       Catastrophes            1    115   2000   \n",
       "44 2000-01-07  France 3      Environnement            3    206   2000   \n",
       "45 2000-01-07  France 3      International            1     53   2000   \n",
       "46 2000-01-07  France 3              Santé            1    120   2000   \n",
       "47 2000-01-07  France 3            Société            6    564   2000   \n",
       "48 2000-01-07  France 3              Sport            1     93   2000   \n",
       "49 2000-01-08  France 3       Catastrophes            4    360   2000   \n",
       "\n",
       "    Temps_Total_Chaine_Journee  Temps_Pourcentage  \n",
       "0                         1254              18.74  \n",
       "1                         1254              11.00  \n",
       "2                         1254              24.40  \n",
       "3                         1254              19.22  \n",
       "4                         1254              12.76  \n",
       "5                         1254              13.88  \n",
       "6                         1190              27.65  \n",
       "7                         1190               3.19  \n",
       "8                         1190              16.05  \n",
       "9                         1190              18.82  \n",
       "10                        1190               8.40  \n",
       "11                        1190               1.85  \n",
       "12                        1190               1.51  \n",
       "13                        1190              17.23  \n",
       "14                        1190               5.29  \n",
       "15                        1157              29.90  \n",
       "16                        1157               8.64  \n",
       "17                        1157              17.89  \n",
       "18                        1157              19.45  \n",
       "19                        1157              13.14  \n",
       "20                        1157               9.08  \n",
       "21                        1157               1.90  \n",
       "22                        1187              26.62  \n",
       "23                        1187               8.93  \n",
       "24                        1187              20.13  \n",
       "25                        1187               8.85  \n",
       "26                        1187               1.60  \n",
       "27                        1187               1.94  \n",
       "28                        1187               9.18  \n",
       "29                        1187               6.74  \n",
       "30                        1187               6.74  \n",
       "31                        1187               9.27  \n",
       "32                        1165               8.15  \n",
       "33                        1165               1.80  \n",
       "34                        1165              28.15  \n",
       "35                        1165               3.09  \n",
       "36                        1165              10.30  \n",
       "37                        1165               7.73  \n",
       "38                        1165              10.30  \n",
       "39                        1165               6.44  \n",
       "40                        1165              10.21  \n",
       "41                        1165               8.58  \n",
       "42                        1165               5.24  \n",
       "43                        1151               9.99  \n",
       "44                        1151              17.90  \n",
       "45                        1151               4.60  \n",
       "46                        1151              10.43  \n",
       "47                        1151              49.00  \n",
       "48                        1151               8.08  \n",
       "49                        1172              30.72  "
      ]
     },
     "execution_count": 5,
     "metadata": {},
     "output_type": "execute_result"
    }
   ],
   "source": [
    "# Calculer le temps total par chaîne\n",
    "df['Temps_Total_Chaine_Journee'] = df.groupby(['Date', 'Chaine'])['Temps'].transform('sum')\n",
    "\n",
    "# Calculer le pourcentage du temps pour chaque thème par chaîne\n",
    "df['Temps_Pourcentage'] = (df['Temps'] / df['Temps_Total_Chaine_Journee']) * 100\n",
    "\n",
    "# Optionnel : Arrondir les pourcentages à deux décimales\n",
    "df['Temps_Pourcentage'] = df['Temps_Pourcentage'].round(2)\n",
    "\n",
    "df.head(50)"
   ]
  },
  {
   "cell_type": "code",
   "execution_count": 6,
   "metadata": {
    "colab": {
     "base_uri": "https://localhost:8080/",
     "height": 0
    },
    "executionInfo": {
     "elapsed": 185,
     "status": "ok",
     "timestamp": 1737104694323,
     "user": {
      "displayName": "Lucas VINCENT",
      "userId": "04357962428259965641"
     },
     "user_tz": -60
    },
    "id": "q0vIQzFeXutL",
    "outputId": "55a37c68-ebce-4e4d-e6f9-78bee2f5cb87"
   },
   "outputs": [
    {
     "data": {
      "text/html": [
       "<div>\n",
       "<style scoped>\n",
       "    .dataframe tbody tr th:only-of-type {\n",
       "        vertical-align: middle;\n",
       "    }\n",
       "\n",
       "    .dataframe tbody tr th {\n",
       "        vertical-align: top;\n",
       "    }\n",
       "\n",
       "    .dataframe thead th {\n",
       "        text-align: right;\n",
       "    }\n",
       "</style>\n",
       "<table border=\"1\" class=\"dataframe\">\n",
       "  <thead>\n",
       "    <tr style=\"text-align: right;\">\n",
       "      <th></th>\n",
       "      <th>Chaine</th>\n",
       "      <th>Theme</th>\n",
       "      <th>Temps_Pourcentage</th>\n",
       "      <th>Temps_Pourcentage_Moyen</th>\n",
       "    </tr>\n",
       "  </thead>\n",
       "  <tbody>\n",
       "    <tr>\n",
       "      <th>0</th>\n",
       "      <td>Arte</td>\n",
       "      <td>Catastrophes</td>\n",
       "      <td>10.262847</td>\n",
       "      <td>10.26</td>\n",
       "    </tr>\n",
       "    <tr>\n",
       "      <th>1</th>\n",
       "      <td>Arte</td>\n",
       "      <td>Culture-loisirs</td>\n",
       "      <td>19.274748</td>\n",
       "      <td>19.27</td>\n",
       "    </tr>\n",
       "    <tr>\n",
       "      <th>2</th>\n",
       "      <td>Arte</td>\n",
       "      <td>Economie</td>\n",
       "      <td>15.867537</td>\n",
       "      <td>15.87</td>\n",
       "    </tr>\n",
       "    <tr>\n",
       "      <th>3</th>\n",
       "      <td>Arte</td>\n",
       "      <td>Education</td>\n",
       "      <td>14.661704</td>\n",
       "      <td>14.66</td>\n",
       "    </tr>\n",
       "    <tr>\n",
       "      <th>4</th>\n",
       "      <td>Arte</td>\n",
       "      <td>Environnement</td>\n",
       "      <td>13.680477</td>\n",
       "      <td>13.68</td>\n",
       "    </tr>\n",
       "    <tr>\n",
       "      <th>5</th>\n",
       "      <td>Arte</td>\n",
       "      <td>Faits divers</td>\n",
       "      <td>9.389227</td>\n",
       "      <td>9.39</td>\n",
       "    </tr>\n",
       "    <tr>\n",
       "      <th>6</th>\n",
       "      <td>Arte</td>\n",
       "      <td>Histoire-hommages</td>\n",
       "      <td>13.215509</td>\n",
       "      <td>13.22</td>\n",
       "    </tr>\n",
       "    <tr>\n",
       "      <th>7</th>\n",
       "      <td>Arte</td>\n",
       "      <td>International</td>\n",
       "      <td>45.644500</td>\n",
       "      <td>45.64</td>\n",
       "    </tr>\n",
       "    <tr>\n",
       "      <th>8</th>\n",
       "      <td>Arte</td>\n",
       "      <td>Justice</td>\n",
       "      <td>11.647704</td>\n",
       "      <td>11.65</td>\n",
       "    </tr>\n",
       "    <tr>\n",
       "      <th>9</th>\n",
       "      <td>Arte</td>\n",
       "      <td>Politique France</td>\n",
       "      <td>14.620030</td>\n",
       "      <td>14.62</td>\n",
       "    </tr>\n",
       "    <tr>\n",
       "      <th>10</th>\n",
       "      <td>Arte</td>\n",
       "      <td>Santé</td>\n",
       "      <td>16.650280</td>\n",
       "      <td>16.65</td>\n",
       "    </tr>\n",
       "    <tr>\n",
       "      <th>11</th>\n",
       "      <td>Arte</td>\n",
       "      <td>Sciences et techniques</td>\n",
       "      <td>10.788922</td>\n",
       "      <td>10.79</td>\n",
       "    </tr>\n",
       "    <tr>\n",
       "      <th>12</th>\n",
       "      <td>Arte</td>\n",
       "      <td>Société</td>\n",
       "      <td>19.596656</td>\n",
       "      <td>19.60</td>\n",
       "    </tr>\n",
       "    <tr>\n",
       "      <th>13</th>\n",
       "      <td>Arte</td>\n",
       "      <td>Sport</td>\n",
       "      <td>12.916627</td>\n",
       "      <td>12.92</td>\n",
       "    </tr>\n",
       "    <tr>\n",
       "      <th>14</th>\n",
       "      <td>France 2</td>\n",
       "      <td>Catastrophes</td>\n",
       "      <td>9.744529</td>\n",
       "      <td>9.74</td>\n",
       "    </tr>\n",
       "    <tr>\n",
       "      <th>15</th>\n",
       "      <td>France 2</td>\n",
       "      <td>Culture-loisirs</td>\n",
       "      <td>11.627475</td>\n",
       "      <td>11.63</td>\n",
       "    </tr>\n",
       "    <tr>\n",
       "      <th>16</th>\n",
       "      <td>France 2</td>\n",
       "      <td>Economie</td>\n",
       "      <td>14.027735</td>\n",
       "      <td>14.03</td>\n",
       "    </tr>\n",
       "    <tr>\n",
       "      <th>17</th>\n",
       "      <td>France 2</td>\n",
       "      <td>Education</td>\n",
       "      <td>8.433239</td>\n",
       "      <td>8.43</td>\n",
       "    </tr>\n",
       "    <tr>\n",
       "      <th>18</th>\n",
       "      <td>France 2</td>\n",
       "      <td>Environnement</td>\n",
       "      <td>8.832544</td>\n",
       "      <td>8.83</td>\n",
       "    </tr>\n",
       "    <tr>\n",
       "      <th>19</th>\n",
       "      <td>France 2</td>\n",
       "      <td>Faits divers</td>\n",
       "      <td>7.103879</td>\n",
       "      <td>7.10</td>\n",
       "    </tr>\n",
       "    <tr>\n",
       "      <th>20</th>\n",
       "      <td>France 2</td>\n",
       "      <td>Histoire-hommages</td>\n",
       "      <td>8.086186</td>\n",
       "      <td>8.09</td>\n",
       "    </tr>\n",
       "    <tr>\n",
       "      <th>21</th>\n",
       "      <td>France 2</td>\n",
       "      <td>International</td>\n",
       "      <td>15.033152</td>\n",
       "      <td>15.03</td>\n",
       "    </tr>\n",
       "    <tr>\n",
       "      <th>22</th>\n",
       "      <td>France 2</td>\n",
       "      <td>Justice</td>\n",
       "      <td>9.086253</td>\n",
       "      <td>9.09</td>\n",
       "    </tr>\n",
       "    <tr>\n",
       "      <th>23</th>\n",
       "      <td>France 2</td>\n",
       "      <td>Politique France</td>\n",
       "      <td>13.682356</td>\n",
       "      <td>13.68</td>\n",
       "    </tr>\n",
       "    <tr>\n",
       "      <th>24</th>\n",
       "      <td>France 2</td>\n",
       "      <td>Santé</td>\n",
       "      <td>11.571795</td>\n",
       "      <td>11.57</td>\n",
       "    </tr>\n",
       "    <tr>\n",
       "      <th>25</th>\n",
       "      <td>France 2</td>\n",
       "      <td>Sciences et techniques</td>\n",
       "      <td>6.773806</td>\n",
       "      <td>6.77</td>\n",
       "    </tr>\n",
       "    <tr>\n",
       "      <th>26</th>\n",
       "      <td>France 2</td>\n",
       "      <td>Société</td>\n",
       "      <td>21.165316</td>\n",
       "      <td>21.17</td>\n",
       "    </tr>\n",
       "    <tr>\n",
       "      <th>27</th>\n",
       "      <td>France 2</td>\n",
       "      <td>Sport</td>\n",
       "      <td>8.449871</td>\n",
       "      <td>8.45</td>\n",
       "    </tr>\n",
       "    <tr>\n",
       "      <th>28</th>\n",
       "      <td>France 3</td>\n",
       "      <td>Catastrophes</td>\n",
       "      <td>12.711370</td>\n",
       "      <td>12.71</td>\n",
       "    </tr>\n",
       "    <tr>\n",
       "      <th>29</th>\n",
       "      <td>France 3</td>\n",
       "      <td>Culture-loisirs</td>\n",
       "      <td>12.809971</td>\n",
       "      <td>12.81</td>\n",
       "    </tr>\n",
       "    <tr>\n",
       "      <th>30</th>\n",
       "      <td>France 3</td>\n",
       "      <td>Economie</td>\n",
       "      <td>15.216543</td>\n",
       "      <td>15.22</td>\n",
       "    </tr>\n",
       "    <tr>\n",
       "      <th>31</th>\n",
       "      <td>France 3</td>\n",
       "      <td>Education</td>\n",
       "      <td>10.769633</td>\n",
       "      <td>10.77</td>\n",
       "    </tr>\n",
       "    <tr>\n",
       "      <th>32</th>\n",
       "      <td>France 3</td>\n",
       "      <td>Environnement</td>\n",
       "      <td>11.074949</td>\n",
       "      <td>11.07</td>\n",
       "    </tr>\n",
       "    <tr>\n",
       "      <th>33</th>\n",
       "      <td>France 3</td>\n",
       "      <td>Faits divers</td>\n",
       "      <td>9.615175</td>\n",
       "      <td>9.62</td>\n",
       "    </tr>\n",
       "    <tr>\n",
       "      <th>34</th>\n",
       "      <td>France 3</td>\n",
       "      <td>Histoire-hommages</td>\n",
       "      <td>11.469592</td>\n",
       "      <td>11.47</td>\n",
       "    </tr>\n",
       "    <tr>\n",
       "      <th>35</th>\n",
       "      <td>France 3</td>\n",
       "      <td>International</td>\n",
       "      <td>17.103356</td>\n",
       "      <td>17.10</td>\n",
       "    </tr>\n",
       "    <tr>\n",
       "      <th>36</th>\n",
       "      <td>France 3</td>\n",
       "      <td>Justice</td>\n",
       "      <td>12.087121</td>\n",
       "      <td>12.09</td>\n",
       "    </tr>\n",
       "    <tr>\n",
       "      <th>37</th>\n",
       "      <td>France 3</td>\n",
       "      <td>Politique France</td>\n",
       "      <td>16.822459</td>\n",
       "      <td>16.82</td>\n",
       "    </tr>\n",
       "    <tr>\n",
       "      <th>38</th>\n",
       "      <td>France 3</td>\n",
       "      <td>Santé</td>\n",
       "      <td>14.473010</td>\n",
       "      <td>14.47</td>\n",
       "    </tr>\n",
       "    <tr>\n",
       "      <th>39</th>\n",
       "      <td>France 3</td>\n",
       "      <td>Sciences et techniques</td>\n",
       "      <td>9.366731</td>\n",
       "      <td>9.37</td>\n",
       "    </tr>\n",
       "    <tr>\n",
       "      <th>40</th>\n",
       "      <td>France 3</td>\n",
       "      <td>Société</td>\n",
       "      <td>21.602755</td>\n",
       "      <td>21.60</td>\n",
       "    </tr>\n",
       "    <tr>\n",
       "      <th>41</th>\n",
       "      <td>France 3</td>\n",
       "      <td>Sport</td>\n",
       "      <td>10.513552</td>\n",
       "      <td>10.51</td>\n",
       "    </tr>\n",
       "    <tr>\n",
       "      <th>42</th>\n",
       "      <td>M6</td>\n",
       "      <td>Catastrophes</td>\n",
       "      <td>12.564975</td>\n",
       "      <td>12.56</td>\n",
       "    </tr>\n",
       "    <tr>\n",
       "      <th>43</th>\n",
       "      <td>M6</td>\n",
       "      <td>Culture-loisirs</td>\n",
       "      <td>14.414307</td>\n",
       "      <td>14.41</td>\n",
       "    </tr>\n",
       "    <tr>\n",
       "      <th>44</th>\n",
       "      <td>M6</td>\n",
       "      <td>Economie</td>\n",
       "      <td>13.812440</td>\n",
       "      <td>13.81</td>\n",
       "    </tr>\n",
       "    <tr>\n",
       "      <th>45</th>\n",
       "      <td>M6</td>\n",
       "      <td>Education</td>\n",
       "      <td>12.345047</td>\n",
       "      <td>12.35</td>\n",
       "    </tr>\n",
       "    <tr>\n",
       "      <th>46</th>\n",
       "      <td>M6</td>\n",
       "      <td>Environnement</td>\n",
       "      <td>10.880104</td>\n",
       "      <td>10.88</td>\n",
       "    </tr>\n",
       "    <tr>\n",
       "      <th>47</th>\n",
       "      <td>M6</td>\n",
       "      <td>Faits divers</td>\n",
       "      <td>11.566402</td>\n",
       "      <td>11.57</td>\n",
       "    </tr>\n",
       "    <tr>\n",
       "      <th>48</th>\n",
       "      <td>M6</td>\n",
       "      <td>Histoire-hommages</td>\n",
       "      <td>11.626118</td>\n",
       "      <td>11.63</td>\n",
       "    </tr>\n",
       "    <tr>\n",
       "      <th>49</th>\n",
       "      <td>M6</td>\n",
       "      <td>International</td>\n",
       "      <td>13.329945</td>\n",
       "      <td>13.33</td>\n",
       "    </tr>\n",
       "  </tbody>\n",
       "</table>\n",
       "</div>"
      ],
      "text/plain": [
       "      Chaine                   Theme  Temps_Pourcentage   \n",
       "0       Arte            Catastrophes          10.262847  \\\n",
       "1       Arte         Culture-loisirs          19.274748   \n",
       "2       Arte                Economie          15.867537   \n",
       "3       Arte               Education          14.661704   \n",
       "4       Arte           Environnement          13.680477   \n",
       "5       Arte            Faits divers           9.389227   \n",
       "6       Arte       Histoire-hommages          13.215509   \n",
       "7       Arte           International          45.644500   \n",
       "8       Arte                 Justice          11.647704   \n",
       "9       Arte        Politique France          14.620030   \n",
       "10      Arte                   Santé          16.650280   \n",
       "11      Arte  Sciences et techniques          10.788922   \n",
       "12      Arte                 Société          19.596656   \n",
       "13      Arte                   Sport          12.916627   \n",
       "14  France 2            Catastrophes           9.744529   \n",
       "15  France 2         Culture-loisirs          11.627475   \n",
       "16  France 2                Economie          14.027735   \n",
       "17  France 2               Education           8.433239   \n",
       "18  France 2           Environnement           8.832544   \n",
       "19  France 2            Faits divers           7.103879   \n",
       "20  France 2       Histoire-hommages           8.086186   \n",
       "21  France 2           International          15.033152   \n",
       "22  France 2                 Justice           9.086253   \n",
       "23  France 2        Politique France          13.682356   \n",
       "24  France 2                   Santé          11.571795   \n",
       "25  France 2  Sciences et techniques           6.773806   \n",
       "26  France 2                 Société          21.165316   \n",
       "27  France 2                   Sport           8.449871   \n",
       "28  France 3            Catastrophes          12.711370   \n",
       "29  France 3         Culture-loisirs          12.809971   \n",
       "30  France 3                Economie          15.216543   \n",
       "31  France 3               Education          10.769633   \n",
       "32  France 3           Environnement          11.074949   \n",
       "33  France 3            Faits divers           9.615175   \n",
       "34  France 3       Histoire-hommages          11.469592   \n",
       "35  France 3           International          17.103356   \n",
       "36  France 3                 Justice          12.087121   \n",
       "37  France 3        Politique France          16.822459   \n",
       "38  France 3                   Santé          14.473010   \n",
       "39  France 3  Sciences et techniques           9.366731   \n",
       "40  France 3                 Société          21.602755   \n",
       "41  France 3                   Sport          10.513552   \n",
       "42        M6            Catastrophes          12.564975   \n",
       "43        M6         Culture-loisirs          14.414307   \n",
       "44        M6                Economie          13.812440   \n",
       "45        M6               Education          12.345047   \n",
       "46        M6           Environnement          10.880104   \n",
       "47        M6            Faits divers          11.566402   \n",
       "48        M6       Histoire-hommages          11.626118   \n",
       "49        M6           International          13.329945   \n",
       "\n",
       "    Temps_Pourcentage_Moyen  \n",
       "0                     10.26  \n",
       "1                     19.27  \n",
       "2                     15.87  \n",
       "3                     14.66  \n",
       "4                     13.68  \n",
       "5                      9.39  \n",
       "6                     13.22  \n",
       "7                     45.64  \n",
       "8                     11.65  \n",
       "9                     14.62  \n",
       "10                    16.65  \n",
       "11                    10.79  \n",
       "12                    19.60  \n",
       "13                    12.92  \n",
       "14                     9.74  \n",
       "15                    11.63  \n",
       "16                    14.03  \n",
       "17                     8.43  \n",
       "18                     8.83  \n",
       "19                     7.10  \n",
       "20                     8.09  \n",
       "21                    15.03  \n",
       "22                     9.09  \n",
       "23                    13.68  \n",
       "24                    11.57  \n",
       "25                     6.77  \n",
       "26                    21.17  \n",
       "27                     8.45  \n",
       "28                    12.71  \n",
       "29                    12.81  \n",
       "30                    15.22  \n",
       "31                    10.77  \n",
       "32                    11.07  \n",
       "33                     9.62  \n",
       "34                    11.47  \n",
       "35                    17.10  \n",
       "36                    12.09  \n",
       "37                    16.82  \n",
       "38                    14.47  \n",
       "39                     9.37  \n",
       "40                    21.60  \n",
       "41                    10.51  \n",
       "42                    12.56  \n",
       "43                    14.41  \n",
       "44                    13.81  \n",
       "45                    12.35  \n",
       "46                    10.88  \n",
       "47                    11.57  \n",
       "48                    11.63  \n",
       "49                    13.33  "
      ]
     },
     "execution_count": 6,
     "metadata": {},
     "output_type": "execute_result"
    }
   ],
   "source": [
    "# Calculer le temps moyen en pourcentage par thème et par chaîne\n",
    "df_moyenne = df.groupby(['Chaine', 'Theme'])['Temps_Pourcentage'].mean().reset_index()\n",
    "\n",
    "df_moyenne['Temps_Pourcentage_Moyen'] = df_moyenne['Temps_Pourcentage'].round(2)\n",
    "df_moyenne.head(50)"
   ]
  },
  {
   "cell_type": "markdown",
   "metadata": {
    "id": "WVJbQGynJ-SR"
   },
   "source": [
    "# Dashboard V1"
   ]
  },
  {
   "cell_type": "code",
   "execution_count": 7,
   "metadata": {
    "executionInfo": {
     "elapsed": 1307,
     "status": "ok",
     "timestamp": 1737104695628,
     "user": {
      "displayName": "Lucas VINCENT",
      "userId": "04357962428259965641"
     },
     "user_tz": -60
    },
    "id": "0E1sQ75WPRCZ"
   },
   "outputs": [],
   "source": [
    "df['Date'] = pd.to_datetime(df['Date'])\n",
    "df['Date_ordinal'] = df['Date'].map(pd.Timestamp.toordinal)\n",
    "\n",
    "\n",
    "# Calculer le temps total en heures par chaîne\n",
    "df_total = df.groupby('Chaine')['Temps'].sum().reset_index()\n",
    "df_total['Temps_heures'] = (df_total['Temps'] / 3600).round(2)  # Convertir en heures et arrondir\n",
    "\n",
    "chaines = df['Chaine'].unique().tolist()\n",
    "themes = df['Theme'].unique().tolist()\n",
    "\n",
    "# Préparer les données pour le graphique en ligne\n",
    "df_line = df.groupby(['Annee', 'Theme'])['Temps'].sum().reset_index()\n",
    "df_line['Temps_heures'] = (df_line['Temps'] / 3600).round(2)  # Convertir en heures et arrondir\n"
   ]
  },
  {
   "cell_type": "code",
   "execution_count": 8,
   "metadata": {
    "executionInfo": {
     "elapsed": 3,
     "status": "ok",
     "timestamp": 1737104695628,
     "user": {
      "displayName": "Lucas VINCENT",
      "userId": "04357962428259965641"
     },
     "user_tz": -60
    },
    "id": "K3GNG__0PND3"
   },
   "outputs": [],
   "source": [
    "def create_pie(selected_chaines, selected_themes, start_year, end_year):\n",
    "    # Filtrer les données en fonction de la plage d'années\n",
    "    mask = (df['Annee'] >= start_year) & (df['Annee'] <= end_year)\n",
    "    df_filtered = df[mask]\n",
    "\n",
    "    # Filtrer par thèmes s'il y en a de sélectionnés\n",
    "    if selected_themes:\n",
    "        df_filtered = df_filtered[df_filtered['Theme'].isin(selected_themes)]\n",
    "\n",
    "    # Filtrer par chaînes si une sélection est faite, sinon garder toutes\n",
    "    if selected_chaines:\n",
    "        df_filtered = df_filtered[df_filtered['Chaine'].isin(selected_chaines)]\n",
    "\n",
    "    # Calculer le temps total en secondes par chaîne, puis le convertir en heures\n",
    "    df_total = df_filtered.groupby('Chaine')['Temps'].sum().reset_index()\n",
    "    df_total['Temps_heures'] = (df_total['Temps'] / 3600).round(2)\n",
    "\n",
    "    # Créer le diagramme camembert\n",
    "    fig = px.pie(\n",
    "        df_total,\n",
    "        names='Chaine',\n",
    "        values='Temps_heures',\n",
    "        title=\"Temps d'émission par chaîne (en heures)\",\n",
    "        hole=0.3\n",
    "    )\n",
    "    fig.update_traces(textposition='inside', textinfo='percent+label')\n",
    "\n",
    "    return fig\n"
   ]
  },
  {
   "cell_type": "code",
   "execution_count": 9,
   "metadata": {
    "executionInfo": {
     "elapsed": 2,
     "status": "ok",
     "timestamp": 1737104695628,
     "user": {
      "displayName": "Lucas VINCENT",
      "userId": "04357962428259965641"
     },
     "user_tz": -60
    },
    "id": "t0LJtn87Qt74"
   },
   "outputs": [],
   "source": [
    "def create_line_chart(selected_chaines, selected_themes, start_year, end_year):\n",
    "    # Filtrer d'abord par année\n",
    "    mask = (df['Annee'] >= start_year) & (df['Annee'] <= end_year)\n",
    "    df_filtered = df[mask]\n",
    "\n",
    "    # Appliquer le filtre sur les chaînes (si des chaînes sont sélectionnées)\n",
    "    if selected_chaines:\n",
    "        df_filtered = df_filtered[df_filtered['Chaine'].isin(selected_chaines)]\n",
    "\n",
    "    # Regrouper les données par Annee et Theme\n",
    "    df_line = df_filtered.groupby(['Annee', 'Theme'])['Temps'].sum().reset_index()\n",
    "    df_line['Temps_heures'] = (df_line['Temps'] / 3600).round(2)  # Conversion en heures\n",
    "\n",
    "    # Appliquer le filtre sur les thèmes (si sélectionnés)\n",
    "    if selected_themes:\n",
    "        df_line = df_line[df_line['Theme'].isin(selected_themes)]\n",
    "\n",
    "    # Créer le graphique en ligne\n",
    "    fig = px.line(\n",
    "        df_line,\n",
    "        x='Annee',\n",
    "        y='Temps_heures',\n",
    "        color='Theme',\n",
    "        markers=True,\n",
    "        title=\"Évolution des Thèmes Traités par Année (en heures)\"\n",
    "    )\n",
    "    fig.update_layout(xaxis_title='Année', yaxis_title='Temps Total d\\'Émission (heures)')\n",
    "    return fig\n"
   ]
  },
  {
   "cell_type": "code",
   "execution_count": 10,
   "metadata": {
    "executionInfo": {
     "elapsed": 2,
     "status": "ok",
     "timestamp": 1737104695628,
     "user": {
      "displayName": "Lucas VINCENT",
      "userId": "04357962428259965641"
     },
     "user_tz": -60
    },
    "id": "S8txVAPhXco0"
   },
   "outputs": [],
   "source": [
    "# Fonction pour générer le graphique en bulles avec filtrage par année\n",
    "def create_bubble_chart(selected_chaines, selected_themes, start_year, end_year):\n",
    "    # Filtrer les données en fonction des années sélectionnées\n",
    "    mask = (df['Annee'] >= start_year) & (df['Annee'] <= end_year)\n",
    "    df_filtered = df[mask]\n",
    "\n",
    "    # Calculer le temps moyen en pourcentage par thème et par chaîne\n",
    "    df_moyenne = df_filtered.groupby(['Chaine', 'Theme'])['Temps_Pourcentage'].mean().reset_index()\n",
    "    df_moyenne['Temps_Pourcentage_Moyen'] = df_moyenne['Temps_Pourcentage'].round(2)\n",
    "\n",
    "    # Filtrer les données en fonction des chaînes sélectionnées\n",
    "    if not selected_chaines:\n",
    "        filtered_df = df_moyenne\n",
    "    else:\n",
    "        filtered_df = df_moyenne[df_moyenne['Chaine'].isin(selected_chaines)]\n",
    "\n",
    "    # Filtrer les données en fonction des thèmes sélectionnés\n",
    "    if not selected_themes:\n",
    "        # Si aucun thème n'est sélectionné, afficher tous les thèmes\n",
    "        pass  # Aucun filtrage supplémentaire nécessaire\n",
    "    else:\n",
    "        filtered_df = filtered_df[filtered_df['Theme'].isin(selected_themes)]\n",
    "\n",
    "    # Créer le graphique en bulles\n",
    "    fig = px.scatter(\n",
    "        filtered_df,\n",
    "        x='Chaine',\n",
    "        y='Theme',\n",
    "        size='Temps_Pourcentage_Moyen',\n",
    "        color='Theme',\n",
    "        hover_name='Theme',\n",
    "        size_max=60,\n",
    "        title=\"Thèmes les Plus Abordés par Chaîne (Temps Moyen d'Émission)\"\n",
    "    )\n",
    "\n",
    "    # Ajustements de la mise en page pour espacer les thèmes et agrandir le visuel\n",
    "    fig.update_layout(\n",
    "        height=800,  # Augmenter la hauteur du graphique\n",
    "        xaxis_title='Chaîne',\n",
    "        yaxis_title='Thème',\n",
    "        legend_title='Thème',\n",
    "        title_x=0.5,  # Centrer le titre\n",
    "        yaxis=dict(\n",
    "            automargin=True,\n",
    "            tickmode='array',\n",
    "            tickfont=dict(size=12),  # Augmenter la taille de la police des ticks\n",
    "        ),\n",
    "        margin=dict(l=100, r=100, t=100, b=100),  # Ajouter des marges pour éviter le chevauchement\n",
    "    )\n",
    "\n",
    "    # Optionnel : Ajuster l'espacement entre les catégories sur l'axe Y\n",
    "    unique_themes = sorted(filtered_df['Theme'].unique())\n",
    "    fig.update_yaxes(categoryorder='array', categoryarray=unique_themes)\n",
    "\n",
    "    return fig\n"
   ]
  },
  {
   "cell_type": "code",
   "execution_count": 11,
   "metadata": {
    "executionInfo": {
     "elapsed": 700,
     "status": "ok",
     "timestamp": 1737104696326,
     "user": {
      "displayName": "Lucas VINCENT",
      "userId": "04357962428259965641"
     },
     "user_tz": -60
    },
    "id": "K1xTVFugEfQI"
   },
   "outputs": [],
   "source": [
    "import itertools\n",
    "from sklearn.metrics.pairwise import cosine_similarity\n",
    "\n",
    "def create_top5_similarity(selected_chaines, selected_themes, start_year, end_year):\n",
    "    # Filtrer les données en fonction des années sélectionnées\n",
    "    df_filtered = df[(df['Annee'] >= start_year) & (df['Annee'] <= end_year)]\n",
    "\n",
    "    # Filtrer par chaînes sélectionnées, si des chaînes sont choisies\n",
    "    if selected_chaines:\n",
    "        df_filtered = df_filtered[df_filtered['Chaine'].isin(selected_chaines)]\n",
    "\n",
    "    # Filtrer par thèmes sélectionnés, si des thèmes sont choisis\n",
    "    if selected_themes:\n",
    "        df_filtered = df_filtered[df_filtered['Theme'].isin(selected_themes)]\n",
    "\n",
    "    # Vérifier qu'il y a suffisamment de données après le filtrage\n",
    "    if df_filtered.empty:\n",
    "        return pd.DataFrame(columns=[\"Chaîne 1\", \"Chaîne 2\", \"Cosine Similarity\"])\n",
    "\n",
    "    # Calculer les proportions d'émissions par thème pour chaque chaîne\n",
    "    proportions = df_filtered.groupby(['Chaine', 'Theme'])['Temps_Pourcentage'].sum().reset_index()\n",
    "    proportions_total = proportions.groupby('Chaine')['Temps_Pourcentage'].sum().reset_index().rename(columns={'Temps_Pourcentage': 'Total_Temps_Pourcentage'})\n",
    "    proportions = proportions.merge(proportions_total, on='Chaine')\n",
    "    proportions['Proportion'] = proportions['Temps_Pourcentage'] / proportions['Total_Temps_Pourcentage']\n",
    "\n",
    "    # Créer un pivot table pour avoir les proportions par thème en colonnes\n",
    "    pivot = proportions.pivot(index='Chaine', columns='Theme', values='Proportion').fillna(0)\n",
    "\n",
    "    # Calculer la Cosine Similarity entre chaque paire de chaînes\n",
    "    similarity_matrix = cosine_similarity(pivot)\n",
    "    similarity_df = pd.DataFrame(similarity_matrix, index=pivot.index, columns=pivot.index)\n",
    "\n",
    "    # Générer toutes les paires de chaînes sans duplication\n",
    "    pairs = list(itertools.combinations(pivot.index, 2))\n",
    "    similarity_list = []\n",
    "\n",
    "    for chain1, chain2 in pairs:\n",
    "        similarity = similarity_df.loc[chain1, chain2]\n",
    "        similarity_list.append({\n",
    "            'Chaîne 1': chain1,\n",
    "            'Chaîne 2': chain2,\n",
    "            'Cosine Similarity': round(similarity, 4)\n",
    "        })\n",
    "\n",
    "    similarity_df_final = pd.DataFrame(similarity_list)\n",
    "\n",
    "    # Trier par Cosine Similarity décroissante et prendre le top 5\n",
    "    top5 = similarity_df_final.sort_values(by='Cosine Similarity', ascending=False).head(5).reset_index(drop=True)\n",
    "\n",
    "    return top5\n"
   ]
  },
  {
   "cell_type": "code",
   "execution_count": 12,
   "metadata": {
    "colab": {
     "base_uri": "https://localhost:8080/",
     "height": 611
    },
    "executionInfo": {
     "elapsed": 5045,
     "status": "ok",
     "timestamp": 1737104701370,
     "user": {
      "displayName": "Lucas VINCENT",
      "userId": "04357962428259965641"
     },
     "user_tz": -60
    },
    "id": "9VdJDQV7J9uo",
    "outputId": "a3d8f3dd-0be5-45cd-9a7b-777d96efa274"
   },
   "outputs": [
    {
     "name": "stdout",
     "output_type": "stream",
     "text": [
      "* Running on local URL:  http://127.0.0.1:7860\n",
      "* Running on public URL: https://34a1d571dabcf7acf8.gradio.live\n",
      "\n",
      "This share link expires in 72 hours. For free permanent hosting and GPU upgrades, run `gradio deploy` from the terminal in the working directory to deploy to Hugging Face Spaces (https://huggingface.co/spaces)\n"
     ]
    },
    {
     "data": {
      "text/html": [
       "<div><iframe src=\"https://34a1d571dabcf7acf8.gradio.live\" width=\"100%\" height=\"500\" allow=\"autoplay; camera; microphone; clipboard-read; clipboard-write;\" frameborder=\"0\" allowfullscreen></iframe></div>"
      ],
      "text/plain": [
       "<IPython.core.display.HTML object>"
      ]
     },
     "metadata": {},
     "output_type": "display_data"
    },
    {
     "data": {
      "text/plain": []
     },
     "execution_count": 12,
     "metadata": {},
     "output_type": "execute_result"
    }
   ],
   "source": [
    "# Définir l'interface Gradio\n",
    "with gr.Blocks() as demo:\n",
    "    gr.Markdown(\"## Analyse thématique des sujets de journeaux télévisés\")\n",
    "\n",
    "    # Première ligne : Sliders de sélection des années\n",
    "    with gr.Row():\n",
    "        start_year_slider = gr.Slider(\n",
    "            minimum=df['Annee'].min(),\n",
    "            maximum=df['Annee'].max(),\n",
    "            step=1,\n",
    "            label=\"Année de début\",\n",
    "            value=df['Annee'].min()\n",
    "        )\n",
    "        end_year_slider = gr.Slider(\n",
    "            minimum=df['Annee'].min(),\n",
    "            maximum=df['Annee'].max(),\n",
    "            step=1,\n",
    "            label=\"Année de fin\",\n",
    "            value=df['Annee'].max()\n",
    "        )\n",
    "\n",
    "    # Deuxième ligne : Filtre des chaînes\n",
    "    with gr.Row():\n",
    "        chaine_selection = gr.CheckboxGroup(\n",
    "            label=\"Sélectionnez les chaînes\",\n",
    "            choices=chaines,\n",
    "            value=chaines  # Par défaut, toutes les chaînes sont sélectionnées\n",
    "        )\n",
    "\n",
    "    # Troisième ligne : Filtre des thèmes\n",
    "    with gr.Row():\n",
    "        theme_selection = gr.CheckboxGroup(\n",
    "            label=\"Sélectionnez les thèmes\",\n",
    "            choices=themes,\n",
    "            value=themes  # Par défaut, tous les thèmes sont sélectionnés\n",
    "        )\n",
    "\n",
    "    # Quatrième ligne : Les deux visuels côte à côte\n",
    "    with gr.Row():\n",
    "        pie_chart = gr.Plot(value=create_pie(chaines, themes, start_year_slider.value, end_year_slider.value))\n",
    "        line_chart = gr.Plot(value=create_line_chart(chaines, themes, start_year_slider.value, end_year_slider.value))\n",
    "\n",
    "    # Cinquième ligne : Bubble Chart\n",
    "    with gr.Row():\n",
    "        bubble_chart = gr.Plot(value=create_bubble_chart(chaines, themes, start_year_slider.value, end_year_slider.value))\n",
    "\n",
    "    with gr.Row():\n",
    "        top5_table = gr.Dataframe(\n",
    "            headers=[\"Chaîne 1\", \"Chaîne 2\", \"Cosinus similarity\"],\n",
    "            label=\"Top 5 des Ressemblances entre Chaînes\",\n",
    "            interactive=False,\n",
    "            value=create_top5_similarity(chaines, themes, start_year_slider.value, end_year_slider.value)\n",
    "        )\n",
    "\n",
    "    # Lier les filtres et les sliders aux visuels existants\n",
    "    chaine_selection.change(\n",
    "      fn=create_pie,\n",
    "      inputs=[chaine_selection, theme_selection, start_year_slider, end_year_slider],\n",
    "      outputs=pie_chart\n",
    "    )\n",
    "\n",
    "    theme_selection.change(\n",
    "        fn=create_pie,\n",
    "        inputs=[chaine_selection, theme_selection, start_year_slider, end_year_slider],\n",
    "        outputs=pie_chart\n",
    "    )\n",
    "\n",
    "    start_year_slider.change(\n",
    "        fn=create_pie,\n",
    "        inputs=[chaine_selection, theme_selection, start_year_slider, end_year_slider],\n",
    "        outputs=pie_chart\n",
    "    )\n",
    "\n",
    "    end_year_slider.change(\n",
    "        fn=create_pie,\n",
    "        inputs=[chaine_selection, theme_selection, start_year_slider, end_year_slider],\n",
    "        outputs=pie_chart\n",
    "    )\n",
    "\n",
    "    # Liaison pour le graphique en ligne\n",
    "    chaine_selection.change(\n",
    "        fn=create_line_chart,\n",
    "        inputs=[chaine_selection, theme_selection, start_year_slider, end_year_slider],\n",
    "        outputs=line_chart\n",
    "    )\n",
    "\n",
    "    theme_selection.change(\n",
    "        fn=create_line_chart,\n",
    "        inputs=[chaine_selection, theme_selection, start_year_slider, end_year_slider],\n",
    "        outputs=line_chart\n",
    "    )\n",
    "\n",
    "    start_year_slider.change(\n",
    "        fn=create_line_chart,\n",
    "        inputs=[chaine_selection, theme_selection, start_year_slider, end_year_slider],\n",
    "        outputs=line_chart\n",
    "    )\n",
    "\n",
    "    end_year_slider.change(\n",
    "        fn=create_line_chart,\n",
    "        inputs=[chaine_selection, theme_selection, start_year_slider, end_year_slider],\n",
    "        outputs=line_chart\n",
    "    )\n",
    "\n",
    "    # Liaison pour le Bubble Chart\n",
    "    chaine_selection.change(\n",
    "        fn=create_bubble_chart,\n",
    "        inputs=[chaine_selection, theme_selection, start_year_slider, end_year_slider],\n",
    "        outputs=bubble_chart\n",
    "    )\n",
    "\n",
    "    theme_selection.change(\n",
    "        fn=create_bubble_chart,\n",
    "        inputs=[chaine_selection, theme_selection, start_year_slider, end_year_slider],\n",
    "        outputs=bubble_chart\n",
    "    )\n",
    "\n",
    "    start_year_slider.change(\n",
    "        fn=create_bubble_chart,\n",
    "        inputs=[chaine_selection, theme_selection, start_year_slider, end_year_slider],\n",
    "        outputs=bubble_chart\n",
    "    )\n",
    "\n",
    "    end_year_slider.change(\n",
    "        fn=create_bubble_chart,\n",
    "        inputs=[chaine_selection, theme_selection, start_year_slider, end_year_slider],\n",
    "        outputs=bubble_chart\n",
    "    )\n",
    "\n",
    "    chaine_selection.change(\n",
    "        fn=create_top5_similarity,\n",
    "        inputs=[chaine_selection, theme_selection, start_year_slider, end_year_slider],\n",
    "        outputs=top5_table\n",
    "    )\n",
    "\n",
    "    theme_selection.change(\n",
    "        fn=create_top5_similarity,\n",
    "        inputs=[chaine_selection, theme_selection, start_year_slider, end_year_slider],\n",
    "        outputs=top5_table\n",
    "    )\n",
    "\n",
    "    start_year_slider.change(\n",
    "        fn=create_top5_similarity,\n",
    "        inputs=[chaine_selection, theme_selection, start_year_slider, end_year_slider],\n",
    "        outputs=top5_table\n",
    "    )\n",
    "\n",
    "    end_year_slider.change(\n",
    "        fn=create_top5_similarity,\n",
    "        inputs=[chaine_selection, theme_selection, start_year_slider, end_year_slider],\n",
    "        outputs=top5_table\n",
    "    )\n",
    "\n",
    "    gr.Markdown(\"\"\"\n",
    "    **Instructions :**\n",
    "    - Utilisez les sliders de sélection des années ci-dessus pour définir la plage de dates des données à visualiser.\n",
    "    - Utilisez les cases à cocher suivantes pour filtrer les chaînes et les thèmes que vous souhaitez visualiser.\n",
    "    - Le diagramme camembert affiche le temps d'émission par chaîne sélectionnée dans la plage de dates définie.\n",
    "    - Le graphique en ligne montre l'évolution des thèmes sélectionnés au fil des années en termes de temps total d'émission dans la plage de dates définie.\n",
    "    - Le graphique en bulles représente les thèmes les plus abordés par chaîne avec le temps moyen d'émissions dans la plage de dates définie.\n",
    "    - Le tableau \"Top 5 des Ressemblances entre Chaînes\" affiche les paires de chaînes les plus similaires basées sur la MSE de leurs proportions d'émissions par thème.\n",
    "    \"\"\")\n",
    "\n",
    "# Lancer l'interface\n",
    "demo.launch(share=True, inline=True)"
   ]
  },
  {
   "cell_type": "code",
   "execution_count": 13,
   "metadata": {
    "colab": {
     "base_uri": "https://localhost:8080/",
     "height": 542
    },
    "executionInfo": {
     "elapsed": 190,
     "status": "ok",
     "timestamp": 1737105449181,
     "user": {
      "displayName": "Lucas VINCENT",
      "userId": "04357962428259965641"
     },
     "user_tz": -60
    },
    "id": "ErBSTsZRe9kA",
    "outputId": "743ffe0b-7a93-43c8-ae5f-a55d89db7cc8"
   },
   "outputs": [
    {
     "data": {
      "application/vnd.plotly.v1+json": {
       "config": {
        "plotlyServerURL": "https://plot.ly"
       },
       "data": [
        {
         "hovertemplate": "Annee=%{x}<br>Temps_heures=%{y}<extra></extra>",
         "legendgroup": "",
         "line": {
          "color": "#636efa",
          "dash": "solid"
         },
         "marker": {
          "symbol": "circle"
         },
         "mode": "lines+markers",
         "name": "",
         "orientation": "v",
         "showlegend": false,
         "type": "scatter",
         "x": [
          2000,
          2001,
          2002,
          2003,
          2004,
          2005,
          2006,
          2007,
          2008,
          2009,
          2010,
          2011,
          2012,
          2013,
          2014,
          2015,
          2016,
          2017,
          2018,
          2019,
          2020
         ],
         "xaxis": "x",
         "y": [
          31.79,
          35.89,
          29.88,
          32.3,
          33.03,
          57.38,
          18.91,
          23.81,
          23.81,
          36.33,
          60.04,
          31.31,
          33.38,
          42.71,
          49.24,
          43.72,
          35.87,
          38.22,
          46.23,
          43.61,
          28.53
         ],
         "yaxis": "y"
        }
       ],
       "layout": {
        "annotations": [
         {
          "arrowcolor": "red",
          "arrowhead": 2,
          "ax": 30,
          "ay": -40,
          "bgcolor": "rgba(255, 255, 255, 0.7)",
          "showarrow": true,
          "text": "<b>Séisme du Gujarat (26/01/2001, Inde)</b><br>≈20 000 victimes",
          "x": 2001,
          "y": 35.89
         },
         {
          "arrowcolor": "red",
          "arrowhead": 2,
          "ax": 30,
          "ay": -40,
          "bgcolor": "rgba(255, 255, 255, 0.7)",
          "showarrow": true,
          "text": "<b>Séisme du Cachemire (8/10/2005, Pakistan)</b><br>≈80 000 victimes",
          "x": 2005,
          "y": 57.38
         },
         {
          "arrowcolor": "red",
          "arrowhead": 2,
          "ax": 30,
          "ay": -40,
          "bgcolor": "rgba(255, 255, 255, 0.7)",
          "showarrow": true,
          "text": "<b>Cyclone Nargis (Birmanie)</b><br>≈140 000 victimes",
          "x": 2008,
          "y": 23.81
         },
         {
          "arrowcolor": "red",
          "arrowhead": 2,
          "ax": 30,
          "ay": -40,
          "bgcolor": "rgba(255, 255, 255, 0.7)",
          "showarrow": true,
          "text": "<b>Séisme en Haïti (12/01/2010)</b><br>≈280 000 victimes",
          "x": 2010,
          "y": 60.04
         },
         {
          "arrowcolor": "red",
          "arrowhead": 2,
          "ax": 30,
          "ay": -40,
          "bgcolor": "rgba(255, 255, 255, 0.7)",
          "showarrow": true,
          "text": "<b>Typhon Rammasun (Philippines/Chine/Vietnam)</b><br>≈225 victimes",
          "x": 2014,
          "y": 49.24
         },
         {
          "arrowcolor": "red",
          "arrowhead": 2,
          "ax": 30,
          "ay": -40,
          "bgcolor": "rgba(255, 255, 255, 0.7)",
          "showarrow": true,
          "text": "<b>Séisme & Tsunami de Sulawesi (Indonésie)</b><br>≈4 300 victimes",
          "x": 2018,
          "y": 46.23
         }
        ],
        "legend": {
         "tracegroupgap": 0
        },
        "shapes": [
         {
          "line": {
           "color": "red",
           "dash": "dot"
          },
          "type": "line",
          "x0": 2001,
          "x1": 2001,
          "y0": 0,
          "y1": 35.89
         },
         {
          "line": {
           "color": "red",
           "dash": "dot"
          },
          "type": "line",
          "x0": 2005,
          "x1": 2005,
          "y0": 0,
          "y1": 57.38
         },
         {
          "line": {
           "color": "red",
           "dash": "dot"
          },
          "type": "line",
          "x0": 2008,
          "x1": 2008,
          "y0": 0,
          "y1": 23.81
         },
         {
          "line": {
           "color": "red",
           "dash": "dot"
          },
          "type": "line",
          "x0": 2010,
          "x1": 2010,
          "y0": 0,
          "y1": 60.04
         },
         {
          "line": {
           "color": "red",
           "dash": "dot"
          },
          "type": "line",
          "x0": 2014,
          "x1": 2014,
          "y0": 0,
          "y1": 49.24
         },
         {
          "line": {
           "color": "red",
           "dash": "dot"
          },
          "type": "line",
          "x0": 2018,
          "x1": 2018,
          "y0": 0,
          "y1": 46.23
         }
        ],
        "template": {
         "data": {
          "bar": [
           {
            "error_x": {
             "color": "#2a3f5f"
            },
            "error_y": {
             "color": "#2a3f5f"
            },
            "marker": {
             "line": {
              "color": "white",
              "width": 0.5
             },
             "pattern": {
              "fillmode": "overlay",
              "size": 10,
              "solidity": 0.2
             }
            },
            "type": "bar"
           }
          ],
          "barpolar": [
           {
            "marker": {
             "line": {
              "color": "white",
              "width": 0.5
             },
             "pattern": {
              "fillmode": "overlay",
              "size": 10,
              "solidity": 0.2
             }
            },
            "type": "barpolar"
           }
          ],
          "carpet": [
           {
            "aaxis": {
             "endlinecolor": "#2a3f5f",
             "gridcolor": "#C8D4E3",
             "linecolor": "#C8D4E3",
             "minorgridcolor": "#C8D4E3",
             "startlinecolor": "#2a3f5f"
            },
            "baxis": {
             "endlinecolor": "#2a3f5f",
             "gridcolor": "#C8D4E3",
             "linecolor": "#C8D4E3",
             "minorgridcolor": "#C8D4E3",
             "startlinecolor": "#2a3f5f"
            },
            "type": "carpet"
           }
          ],
          "choropleth": [
           {
            "colorbar": {
             "outlinewidth": 0,
             "ticks": ""
            },
            "type": "choropleth"
           }
          ],
          "contour": [
           {
            "colorbar": {
             "outlinewidth": 0,
             "ticks": ""
            },
            "colorscale": [
             [
              0,
              "#0d0887"
             ],
             [
              0.1111111111111111,
              "#46039f"
             ],
             [
              0.2222222222222222,
              "#7201a8"
             ],
             [
              0.3333333333333333,
              "#9c179e"
             ],
             [
              0.4444444444444444,
              "#bd3786"
             ],
             [
              0.5555555555555556,
              "#d8576b"
             ],
             [
              0.6666666666666666,
              "#ed7953"
             ],
             [
              0.7777777777777778,
              "#fb9f3a"
             ],
             [
              0.8888888888888888,
              "#fdca26"
             ],
             [
              1,
              "#f0f921"
             ]
            ],
            "type": "contour"
           }
          ],
          "contourcarpet": [
           {
            "colorbar": {
             "outlinewidth": 0,
             "ticks": ""
            },
            "type": "contourcarpet"
           }
          ],
          "heatmap": [
           {
            "colorbar": {
             "outlinewidth": 0,
             "ticks": ""
            },
            "colorscale": [
             [
              0,
              "#0d0887"
             ],
             [
              0.1111111111111111,
              "#46039f"
             ],
             [
              0.2222222222222222,
              "#7201a8"
             ],
             [
              0.3333333333333333,
              "#9c179e"
             ],
             [
              0.4444444444444444,
              "#bd3786"
             ],
             [
              0.5555555555555556,
              "#d8576b"
             ],
             [
              0.6666666666666666,
              "#ed7953"
             ],
             [
              0.7777777777777778,
              "#fb9f3a"
             ],
             [
              0.8888888888888888,
              "#fdca26"
             ],
             [
              1,
              "#f0f921"
             ]
            ],
            "type": "heatmap"
           }
          ],
          "heatmapgl": [
           {
            "colorbar": {
             "outlinewidth": 0,
             "ticks": ""
            },
            "colorscale": [
             [
              0,
              "#0d0887"
             ],
             [
              0.1111111111111111,
              "#46039f"
             ],
             [
              0.2222222222222222,
              "#7201a8"
             ],
             [
              0.3333333333333333,
              "#9c179e"
             ],
             [
              0.4444444444444444,
              "#bd3786"
             ],
             [
              0.5555555555555556,
              "#d8576b"
             ],
             [
              0.6666666666666666,
              "#ed7953"
             ],
             [
              0.7777777777777778,
              "#fb9f3a"
             ],
             [
              0.8888888888888888,
              "#fdca26"
             ],
             [
              1,
              "#f0f921"
             ]
            ],
            "type": "heatmapgl"
           }
          ],
          "histogram": [
           {
            "marker": {
             "pattern": {
              "fillmode": "overlay",
              "size": 10,
              "solidity": 0.2
             }
            },
            "type": "histogram"
           }
          ],
          "histogram2d": [
           {
            "colorbar": {
             "outlinewidth": 0,
             "ticks": ""
            },
            "colorscale": [
             [
              0,
              "#0d0887"
             ],
             [
              0.1111111111111111,
              "#46039f"
             ],
             [
              0.2222222222222222,
              "#7201a8"
             ],
             [
              0.3333333333333333,
              "#9c179e"
             ],
             [
              0.4444444444444444,
              "#bd3786"
             ],
             [
              0.5555555555555556,
              "#d8576b"
             ],
             [
              0.6666666666666666,
              "#ed7953"
             ],
             [
              0.7777777777777778,
              "#fb9f3a"
             ],
             [
              0.8888888888888888,
              "#fdca26"
             ],
             [
              1,
              "#f0f921"
             ]
            ],
            "type": "histogram2d"
           }
          ],
          "histogram2dcontour": [
           {
            "colorbar": {
             "outlinewidth": 0,
             "ticks": ""
            },
            "colorscale": [
             [
              0,
              "#0d0887"
             ],
             [
              0.1111111111111111,
              "#46039f"
             ],
             [
              0.2222222222222222,
              "#7201a8"
             ],
             [
              0.3333333333333333,
              "#9c179e"
             ],
             [
              0.4444444444444444,
              "#bd3786"
             ],
             [
              0.5555555555555556,
              "#d8576b"
             ],
             [
              0.6666666666666666,
              "#ed7953"
             ],
             [
              0.7777777777777778,
              "#fb9f3a"
             ],
             [
              0.8888888888888888,
              "#fdca26"
             ],
             [
              1,
              "#f0f921"
             ]
            ],
            "type": "histogram2dcontour"
           }
          ],
          "mesh3d": [
           {
            "colorbar": {
             "outlinewidth": 0,
             "ticks": ""
            },
            "type": "mesh3d"
           }
          ],
          "parcoords": [
           {
            "line": {
             "colorbar": {
              "outlinewidth": 0,
              "ticks": ""
             }
            },
            "type": "parcoords"
           }
          ],
          "pie": [
           {
            "automargin": true,
            "type": "pie"
           }
          ],
          "scatter": [
           {
            "fillpattern": {
             "fillmode": "overlay",
             "size": 10,
             "solidity": 0.2
            },
            "type": "scatter"
           }
          ],
          "scatter3d": [
           {
            "line": {
             "colorbar": {
              "outlinewidth": 0,
              "ticks": ""
             }
            },
            "marker": {
             "colorbar": {
              "outlinewidth": 0,
              "ticks": ""
             }
            },
            "type": "scatter3d"
           }
          ],
          "scattercarpet": [
           {
            "marker": {
             "colorbar": {
              "outlinewidth": 0,
              "ticks": ""
             }
            },
            "type": "scattercarpet"
           }
          ],
          "scattergeo": [
           {
            "marker": {
             "colorbar": {
              "outlinewidth": 0,
              "ticks": ""
             }
            },
            "type": "scattergeo"
           }
          ],
          "scattergl": [
           {
            "marker": {
             "colorbar": {
              "outlinewidth": 0,
              "ticks": ""
             }
            },
            "type": "scattergl"
           }
          ],
          "scattermapbox": [
           {
            "marker": {
             "colorbar": {
              "outlinewidth": 0,
              "ticks": ""
             }
            },
            "type": "scattermapbox"
           }
          ],
          "scatterpolar": [
           {
            "marker": {
             "colorbar": {
              "outlinewidth": 0,
              "ticks": ""
             }
            },
            "type": "scatterpolar"
           }
          ],
          "scatterpolargl": [
           {
            "marker": {
             "colorbar": {
              "outlinewidth": 0,
              "ticks": ""
             }
            },
            "type": "scatterpolargl"
           }
          ],
          "scatterternary": [
           {
            "marker": {
             "colorbar": {
              "outlinewidth": 0,
              "ticks": ""
             }
            },
            "type": "scatterternary"
           }
          ],
          "surface": [
           {
            "colorbar": {
             "outlinewidth": 0,
             "ticks": ""
            },
            "colorscale": [
             [
              0,
              "#0d0887"
             ],
             [
              0.1111111111111111,
              "#46039f"
             ],
             [
              0.2222222222222222,
              "#7201a8"
             ],
             [
              0.3333333333333333,
              "#9c179e"
             ],
             [
              0.4444444444444444,
              "#bd3786"
             ],
             [
              0.5555555555555556,
              "#d8576b"
             ],
             [
              0.6666666666666666,
              "#ed7953"
             ],
             [
              0.7777777777777778,
              "#fb9f3a"
             ],
             [
              0.8888888888888888,
              "#fdca26"
             ],
             [
              1,
              "#f0f921"
             ]
            ],
            "type": "surface"
           }
          ],
          "table": [
           {
            "cells": {
             "fill": {
              "color": "#EBF0F8"
             },
             "line": {
              "color": "white"
             }
            },
            "header": {
             "fill": {
              "color": "#C8D4E3"
             },
             "line": {
              "color": "white"
             }
            },
            "type": "table"
           }
          ]
         },
         "layout": {
          "annotationdefaults": {
           "arrowcolor": "#2a3f5f",
           "arrowhead": 0,
           "arrowwidth": 1
          },
          "autotypenumbers": "strict",
          "coloraxis": {
           "colorbar": {
            "outlinewidth": 0,
            "ticks": ""
           }
          },
          "colorscale": {
           "diverging": [
            [
             0,
             "#8e0152"
            ],
            [
             0.1,
             "#c51b7d"
            ],
            [
             0.2,
             "#de77ae"
            ],
            [
             0.3,
             "#f1b6da"
            ],
            [
             0.4,
             "#fde0ef"
            ],
            [
             0.5,
             "#f7f7f7"
            ],
            [
             0.6,
             "#e6f5d0"
            ],
            [
             0.7,
             "#b8e186"
            ],
            [
             0.8,
             "#7fbc41"
            ],
            [
             0.9,
             "#4d9221"
            ],
            [
             1,
             "#276419"
            ]
           ],
           "sequential": [
            [
             0,
             "#0d0887"
            ],
            [
             0.1111111111111111,
             "#46039f"
            ],
            [
             0.2222222222222222,
             "#7201a8"
            ],
            [
             0.3333333333333333,
             "#9c179e"
            ],
            [
             0.4444444444444444,
             "#bd3786"
            ],
            [
             0.5555555555555556,
             "#d8576b"
            ],
            [
             0.6666666666666666,
             "#ed7953"
            ],
            [
             0.7777777777777778,
             "#fb9f3a"
            ],
            [
             0.8888888888888888,
             "#fdca26"
            ],
            [
             1,
             "#f0f921"
            ]
           ],
           "sequentialminus": [
            [
             0,
             "#0d0887"
            ],
            [
             0.1111111111111111,
             "#46039f"
            ],
            [
             0.2222222222222222,
             "#7201a8"
            ],
            [
             0.3333333333333333,
             "#9c179e"
            ],
            [
             0.4444444444444444,
             "#bd3786"
            ],
            [
             0.5555555555555556,
             "#d8576b"
            ],
            [
             0.6666666666666666,
             "#ed7953"
            ],
            [
             0.7777777777777778,
             "#fb9f3a"
            ],
            [
             0.8888888888888888,
             "#fdca26"
            ],
            [
             1,
             "#f0f921"
            ]
           ]
          },
          "colorway": [
           "#636efa",
           "#EF553B",
           "#00cc96",
           "#ab63fa",
           "#FFA15A",
           "#19d3f3",
           "#FF6692",
           "#B6E880",
           "#FF97FF",
           "#FECB52"
          ],
          "font": {
           "color": "#2a3f5f"
          },
          "geo": {
           "bgcolor": "white",
           "lakecolor": "white",
           "landcolor": "white",
           "showlakes": true,
           "showland": true,
           "subunitcolor": "#C8D4E3"
          },
          "hoverlabel": {
           "align": "left"
          },
          "hovermode": "closest",
          "mapbox": {
           "style": "light"
          },
          "paper_bgcolor": "white",
          "plot_bgcolor": "white",
          "polar": {
           "angularaxis": {
            "gridcolor": "#EBF0F8",
            "linecolor": "#EBF0F8",
            "ticks": ""
           },
           "bgcolor": "white",
           "radialaxis": {
            "gridcolor": "#EBF0F8",
            "linecolor": "#EBF0F8",
            "ticks": ""
           }
          },
          "scene": {
           "xaxis": {
            "backgroundcolor": "white",
            "gridcolor": "#DFE8F3",
            "gridwidth": 2,
            "linecolor": "#EBF0F8",
            "showbackground": true,
            "ticks": "",
            "zerolinecolor": "#EBF0F8"
           },
           "yaxis": {
            "backgroundcolor": "white",
            "gridcolor": "#DFE8F3",
            "gridwidth": 2,
            "linecolor": "#EBF0F8",
            "showbackground": true,
            "ticks": "",
            "zerolinecolor": "#EBF0F8"
           },
           "zaxis": {
            "backgroundcolor": "white",
            "gridcolor": "#DFE8F3",
            "gridwidth": 2,
            "linecolor": "#EBF0F8",
            "showbackground": true,
            "ticks": "",
            "zerolinecolor": "#EBF0F8"
           }
          },
          "shapedefaults": {
           "line": {
            "color": "#2a3f5f"
           }
          },
          "ternary": {
           "aaxis": {
            "gridcolor": "#DFE8F3",
            "linecolor": "#A2B1C6",
            "ticks": ""
           },
           "baxis": {
            "gridcolor": "#DFE8F3",
            "linecolor": "#A2B1C6",
            "ticks": ""
           },
           "bgcolor": "white",
           "caxis": {
            "gridcolor": "#DFE8F3",
            "linecolor": "#A2B1C6",
            "ticks": ""
           }
          },
          "title": {
           "x": 0.05
          },
          "xaxis": {
           "automargin": true,
           "gridcolor": "#EBF0F8",
           "linecolor": "#EBF0F8",
           "ticks": "",
           "title": {
            "standoff": 15
           },
           "zerolinecolor": "#EBF0F8",
           "zerolinewidth": 2
          },
          "yaxis": {
           "automargin": true,
           "gridcolor": "#EBF0F8",
           "linecolor": "#EBF0F8",
           "ticks": "",
           "title": {
            "standoff": 15
           },
           "zerolinecolor": "#EBF0F8",
           "zerolinewidth": 2
          }
         }
        },
        "title": {
         "text": "Évolution de la couverture médiatique par thème 'Catastrophes' chaque Année"
        },
        "xaxis": {
         "anchor": "y",
         "domain": [
          0,
          1
         ],
         "title": {
          "text": "Année"
         }
        },
        "yaxis": {
         "anchor": "x",
         "domain": [
          0,
          1
         ],
         "title": {
          "text": "Temps Total d'Émission (heures)"
         }
        }
       }
      }
     },
     "metadata": {},
     "output_type": "display_data"
    }
   ],
   "source": [
    "import plotly.express as px\n",
    "\n",
    "\n",
    "df_cat = df[df['Theme'] == \"Catastrophes\"].copy()\n",
    "\n",
    "df_cat_line = df_cat.groupby('Annee')['Temps'].sum().reset_index()\n",
    "df_cat_line['Temps_heures'] = (df_cat_line['Temps'] / 3600).round(2)\n",
    "\n",
    "\n",
    "fig = px.line(\n",
    "    df_cat_line,\n",
    "    x='Annee',\n",
    "    y='Temps_heures',\n",
    "    markers=True,\n",
    "    title=\"Évolution de la couverture médiatique par thème 'Catastrophes' chaque Année\"\n",
    ")\n",
    "\n",
    "fig.update_layout(\n",
    "    xaxis_title='Année',\n",
    "    yaxis_title='Temps Total d\\'Émission (heures)',\n",
    "    template='plotly_white'\n",
    ")\n",
    "\n",
    "events = [\n",
    "    {\n",
    "        \"annee\": 2001,\n",
    "        \"label\": \"Séisme du Gujarat (26/01/2001, Inde)\",\n",
    "        \"victimes\": \"≈20 000\"\n",
    "    },\n",
    "    {\n",
    "        \"annee\": 2005,\n",
    "        \"label\": \"Séisme du Cachemire (8/10/2005, Pakistan)\",\n",
    "        \"victimes\": \"≈80 000\"\n",
    "    },\n",
    "    {\n",
    "        \"annee\": 2008,\n",
    "        \"label\": \"Cyclone Nargis (Birmanie)\",\n",
    "        \"victimes\": \"≈140 000\"\n",
    "    },\n",
    "    {\n",
    "        \"annee\": 2010,\n",
    "        \"label\": \"Séisme en Haïti (12/01/2010)\",\n",
    "        \"victimes\": \"≈280 000\"\n",
    "    },\n",
    "    {\n",
    "        \"annee\": 2014,\n",
    "        \"label\": \"Typhon Rammasun (Philippines/Chine/Vietnam)\",\n",
    "        \"victimes\": \"≈225\"\n",
    "    },\n",
    "    {\n",
    "        \"annee\": 2018,\n",
    "        \"label\": \"Séisme & Tsunami de Sulawesi (Indonésie)\",\n",
    "        \"victimes\": \"≈4 300\"\n",
    "    }\n",
    "]\n",
    "\n",
    "# 6) Ajouter les annotations pour chaque année ciblée\n",
    "for evt in events:\n",
    "    annee_evt = evt[\"annee\"]\n",
    "    df_event = df_cat_line[df_cat_line['Annee'] == annee_evt]\n",
    "    if not df_event.empty:\n",
    "        # Récupère la valeur de Temps_heures pour l'année concernée\n",
    "        y_value = df_event['Temps_heures'].iloc[0]\n",
    "\n",
    "        fig.add_annotation(\n",
    "        x=annee_evt,\n",
    "        y=y_value,\n",
    "        text=f\"<b>{evt['label']}</b><br>{evt['victimes']} victimes\",\n",
    "        showarrow=True,\n",
    "        arrowhead=2,\n",
    "        arrowcolor=\"red\",\n",
    "        ax=30,   # Décalage sur l'axe X pour la flèche\n",
    "        ay=-40,  # Décalage sur l'axe Y\n",
    "        bgcolor=\"rgba(255, 255, 255, 0.7)\"\n",
    "        )\n",
    "\n",
    "\n",
    "\n",
    "        # (Optionnel) Ligne verticale pointillée pour marquer l'année\n",
    "        fig.add_shape(\n",
    "            type=\"line\",\n",
    "            x0=annee_evt,\n",
    "            x1=annee_evt,\n",
    "            y0=0,\n",
    "            y1=y_value,\n",
    "            line=dict(color=\"red\", dash=\"dot\")\n",
    "        )\n",
    "\n",
    "# 7) Afficher la figure\n",
    "fig.show()"
   ]
  }
 ],
 "metadata": {
  "colab": {
   "collapsed_sections": [
    "nQ6vPZcLCPx4"
   ],
   "provenance": []
  },
  "kernelspec": {
   "display_name": "Python 3",
   "name": "python3"
  },
  "language_info": {
   "codemirror_mode": {
    "name": "ipython",
    "version": 3
   },
   "file_extension": ".py",
   "mimetype": "text/x-python",
   "name": "python",
   "nbconvert_exporter": "python",
   "pygments_lexer": "ipython3",
   "version": "3.11.0"
  }
 },
 "nbformat": 4,
 "nbformat_minor": 0
}
