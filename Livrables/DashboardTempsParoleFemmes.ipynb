{
  "cells": [
    {
      "cell_type": "markdown",
      "metadata": {},
      "source": [
        "L'objectif de ce notebook est la création d'un dashboard décrivant les inégalités de temps de parole dans les médias entre les femmes et les hommes"
      ]
    },
    {
      "cell_type": "markdown",
      "metadata": {
        "id": "X8XSo9ay30j0"
      },
      "source": [
        "# Imports"
      ]
    },
    {
      "cell_type": "code",
      "execution_count": 1,
      "metadata": {
        "colab": {
          "base_uri": "https://localhost:8080/"
        },
        "collapsed": true,
        "id": "vyt3LVs3qiuQ",
        "outputId": "a20d90f7-535c-4ba0-de26-24bac9c53d54"
      },
      "outputs": [
        {
          "name": "stdout",
          "output_type": "stream",
          "text": [
            "Requirement already satisfied: streamlit in c:\\users\\loual\\appdata\\local\\programs\\python\\python311\\lib\\site-packages (1.41.1)\n",
            "Requirement already satisfied: altair<6,>=4.0 in c:\\users\\loual\\appdata\\local\\programs\\python\\python311\\lib\\site-packages (from streamlit) (5.5.0)\n",
            "Requirement already satisfied: blinker<2,>=1.0.0 in c:\\users\\loual\\appdata\\local\\programs\\python\\python311\\lib\\site-packages (from streamlit) (1.9.0)\n",
            "Requirement already satisfied: cachetools<6,>=4.0 in c:\\users\\loual\\appdata\\local\\programs\\python\\python311\\lib\\site-packages (from streamlit) (5.3.0)\n",
            "Requirement already satisfied: click<9,>=7.0 in c:\\users\\loual\\appdata\\local\\programs\\python\\python311\\lib\\site-packages (from streamlit) (8.1.3)\n",
            "Requirement already satisfied: numpy<3,>=1.23 in c:\\users\\loual\\appdata\\local\\programs\\python\\python311\\lib\\site-packages (from streamlit) (1.23.5)\n",
            "Requirement already satisfied: packaging<25,>=20 in c:\\users\\loual\\appdata\\local\\programs\\python\\python311\\lib\\site-packages (from streamlit) (24.2)\n",
            "Requirement already satisfied: pandas<3,>=1.4.0 in c:\\users\\loual\\appdata\\local\\programs\\python\\python311\\lib\\site-packages (from streamlit) (2.0.0)\n",
            "Requirement already satisfied: pillow<12,>=7.1.0 in c:\\users\\loual\\appdata\\local\\programs\\python\\python311\\lib\\site-packages (from streamlit) (9.3.0)\n",
            "Requirement already satisfied: protobuf<6,>=3.20 in c:\\users\\loual\\appdata\\local\\programs\\python\\python311\\lib\\site-packages (from streamlit) (4.22.1)\n",
            "Requirement already satisfied: pyarrow>=7.0 in c:\\users\\loual\\appdata\\local\\programs\\python\\python311\\lib\\site-packages (from streamlit) (19.0.0)\n",
            "Requirement already satisfied: requests<3,>=2.27 in c:\\users\\loual\\appdata\\local\\programs\\python\\python311\\lib\\site-packages (from streamlit) (2.28.2)\n",
            "Requirement already satisfied: rich<14,>=10.14.0 in c:\\users\\loual\\appdata\\local\\programs\\python\\python311\\lib\\site-packages (from streamlit) (13.9.4)\n",
            "Requirement already satisfied: tenacity<10,>=8.1.0 in c:\\users\\loual\\appdata\\local\\programs\\python\\python311\\lib\\site-packages (from streamlit) (9.0.0)\n",
            "Requirement already satisfied: toml<2,>=0.10.1 in c:\\users\\loual\\appdata\\local\\programs\\python\\python311\\lib\\site-packages (from streamlit) (0.10.2)\n",
            "Requirement already satisfied: typing-extensions<5,>=4.3.0 in c:\\users\\loual\\appdata\\local\\programs\\python\\python311\\lib\\site-packages (from streamlit) (4.12.2)\n",
            "Requirement already satisfied: watchdog<7,>=2.1.5 in c:\\users\\loual\\appdata\\local\\programs\\python\\python311\\lib\\site-packages (from streamlit) (6.0.0)\n",
            "Requirement already satisfied: gitpython!=3.1.19,<4,>=3.0.7 in c:\\users\\loual\\appdata\\local\\programs\\python\\python311\\lib\\site-packages (from streamlit) (3.1.44)\n",
            "Requirement already satisfied: pydeck<1,>=0.8.0b4 in c:\\users\\loual\\appdata\\local\\programs\\python\\python311\\lib\\site-packages (from streamlit) (0.9.1)\n",
            "Requirement already satisfied: tornado<7,>=6.0.3 in c:\\users\\loual\\appdata\\local\\programs\\python\\python311\\lib\\site-packages (from streamlit) (6.2)\n",
            "Requirement already satisfied: jinja2 in c:\\users\\loual\\appdata\\local\\programs\\python\\python311\\lib\\site-packages (from altair<6,>=4.0->streamlit) (3.1.2)\n",
            "Requirement already satisfied: jsonschema>=3.0 in c:\\users\\loual\\appdata\\local\\programs\\python\\python311\\lib\\site-packages (from altair<6,>=4.0->streamlit) (4.17.3)\n",
            "Requirement already satisfied: narwhals>=1.14.2 in c:\\users\\loual\\appdata\\local\\programs\\python\\python311\\lib\\site-packages (from altair<6,>=4.0->streamlit) (1.22.0)\n",
            "Requirement already satisfied: colorama in c:\\users\\loual\\appdata\\local\\programs\\python\\python311\\lib\\site-packages (from click<9,>=7.0->streamlit) (0.4.6)\n",
            "Requirement already satisfied: gitdb<5,>=4.0.1 in c:\\users\\loual\\appdata\\local\\programs\\python\\python311\\lib\\site-packages (from gitpython!=3.1.19,<4,>=3.0.7->streamlit) (4.0.12)\n",
            "Requirement already satisfied: python-dateutil>=2.8.2 in c:\\users\\loual\\appdata\\local\\programs\\python\\python311\\lib\\site-packages (from pandas<3,>=1.4.0->streamlit) (2.8.2)\n",
            "Requirement already satisfied: pytz>=2020.1 in c:\\users\\loual\\appdata\\local\\programs\\python\\python311\\lib\\site-packages (from pandas<3,>=1.4.0->streamlit) (2023.3)\n",
            "Requirement already satisfied: tzdata>=2022.1 in c:\\users\\loual\\appdata\\local\\programs\\python\\python311\\lib\\site-packages (from pandas<3,>=1.4.0->streamlit) (2023.3)\n",
            "Requirement already satisfied: charset-normalizer<4,>=2 in c:\\users\\loual\\appdata\\local\\programs\\python\\python311\\lib\\site-packages (from requests<3,>=2.27->streamlit) (3.0.1)\n",
            "Requirement already satisfied: idna<4,>=2.5 in c:\\users\\loual\\appdata\\local\\programs\\python\\python311\\lib\\site-packages (from requests<3,>=2.27->streamlit) (3.4)\n",
            "Requirement already satisfied: urllib3<1.27,>=1.21.1 in c:\\users\\loual\\appdata\\local\\programs\\python\\python311\\lib\\site-packages (from requests<3,>=2.27->streamlit) (1.26.14)\n",
            "Requirement already satisfied: certifi>=2017.4.17 in c:\\users\\loual\\appdata\\local\\programs\\python\\python311\\lib\\site-packages (from requests<3,>=2.27->streamlit) (2022.12.7)\n",
            "Requirement already satisfied: markdown-it-py>=2.2.0 in c:\\users\\loual\\appdata\\local\\programs\\python\\python311\\lib\\site-packages (from rich<14,>=10.14.0->streamlit) (3.0.0)\n",
            "Requirement already satisfied: pygments<3.0.0,>=2.13.0 in c:\\users\\loual\\appdata\\local\\programs\\python\\python311\\lib\\site-packages (from rich<14,>=10.14.0->streamlit) (2.13.0)\n",
            "Requirement already satisfied: smmap<6,>=3.0.1 in c:\\users\\loual\\appdata\\local\\programs\\python\\python311\\lib\\site-packages (from gitdb<5,>=4.0.1->gitpython!=3.1.19,<4,>=3.0.7->streamlit) (5.0.2)\n",
            "Requirement already satisfied: MarkupSafe>=2.0 in c:\\users\\loual\\appdata\\local\\programs\\python\\python311\\lib\\site-packages (from jinja2->altair<6,>=4.0->streamlit) (2.1.1)\n",
            "Requirement already satisfied: attrs>=17.4.0 in c:\\users\\loual\\appdata\\local\\programs\\python\\python311\\lib\\site-packages (from jsonschema>=3.0->altair<6,>=4.0->streamlit) (22.1.0)\n",
            "Requirement already satisfied: pyrsistent!=0.17.0,!=0.17.1,!=0.17.2,>=0.14.0 in c:\\users\\loual\\appdata\\local\\programs\\python\\python311\\lib\\site-packages (from jsonschema>=3.0->altair<6,>=4.0->streamlit) (0.19.2)\n",
            "Requirement already satisfied: mdurl~=0.1 in c:\\users\\loual\\appdata\\local\\programs\\python\\python311\\lib\\site-packages (from markdown-it-py>=2.2.0->rich<14,>=10.14.0->streamlit) (0.1.2)\n",
            "Requirement already satisfied: six>=1.5 in c:\\users\\loual\\appdata\\local\\programs\\python\\python311\\lib\\site-packages (from python-dateutil>=2.8.2->pandas<3,>=1.4.0->streamlit) (1.16.0)\n"
          ]
        },
        {
          "name": "stderr",
          "output_type": "stream",
          "text": [
            "\n",
            "[notice] A new release of pip available: 22.3.1 -> 24.3.1\n",
            "[notice] To update, run: python.exe -m pip install --upgrade pip\n"
          ]
        },
        {
          "name": "stdout",
          "output_type": "stream",
          "text": [
            "Requirement already satisfied: gradio in c:\\users\\loual\\appdata\\local\\programs\\python\\python311\\lib\\site-packages (5.12.0)\n",
            "Requirement already satisfied: aiofiles<24.0,>=22.0 in c:\\users\\loual\\appdata\\local\\programs\\python\\python311\\lib\\site-packages (from gradio) (23.2.1)\n",
            "Requirement already satisfied: anyio<5.0,>=3.0 in c:\\users\\loual\\appdata\\local\\programs\\python\\python311\\lib\\site-packages (from gradio) (3.6.2)\n",
            "Requirement already satisfied: fastapi<1.0,>=0.115.2 in c:\\users\\loual\\appdata\\local\\programs\\python\\python311\\lib\\site-packages (from gradio) (0.115.6)\n",
            "Requirement already satisfied: ffmpy in c:\\users\\loual\\appdata\\local\\programs\\python\\python311\\lib\\site-packages (from gradio) (0.5.0)\n",
            "Requirement already satisfied: gradio-client==1.5.4 in c:\\users\\loual\\appdata\\local\\programs\\python\\python311\\lib\\site-packages (from gradio) (1.5.4)\n",
            "Requirement already satisfied: httpx>=0.24.1 in c:\\users\\loual\\appdata\\local\\programs\\python\\python311\\lib\\site-packages (from gradio) (0.28.1)\n",
            "Requirement already satisfied: huggingface-hub>=0.25.1 in c:\\users\\loual\\appdata\\local\\programs\\python\\python311\\lib\\site-packages (from gradio) (0.27.1)\n",
            "Requirement already satisfied: jinja2<4.0 in c:\\users\\loual\\appdata\\local\\programs\\python\\python311\\lib\\site-packages (from gradio) (3.1.2)\n",
            "Requirement already satisfied: markupsafe~=2.0 in c:\\users\\loual\\appdata\\local\\programs\\python\\python311\\lib\\site-packages (from gradio) (2.1.1)\n",
            "Requirement already satisfied: numpy<3.0,>=1.0 in c:\\users\\loual\\appdata\\local\\programs\\python\\python311\\lib\\site-packages (from gradio) (1.23.5)\n",
            "Requirement already satisfied: orjson~=3.0 in c:\\users\\loual\\appdata\\local\\programs\\python\\python311\\lib\\site-packages (from gradio) (3.10.14)\n",
            "Requirement already satisfied: packaging in c:\\users\\loual\\appdata\\local\\programs\\python\\python311\\lib\\site-packages (from gradio) (24.2)\n",
            "Requirement already satisfied: pandas<3.0,>=1.0 in c:\\users\\loual\\appdata\\local\\programs\\python\\python311\\lib\\site-packages (from gradio) (2.0.0)\n",
            "Requirement already satisfied: pillow<12.0,>=8.0 in c:\\users\\loual\\appdata\\local\\programs\\python\\python311\\lib\\site-packages (from gradio) (9.3.0)\n",
            "Requirement already satisfied: pydantic>=2.0 in c:\\users\\loual\\appdata\\local\\programs\\python\\python311\\lib\\site-packages (from gradio) (2.10.5)\n",
            "Requirement already satisfied: pydub in c:\\users\\loual\\appdata\\local\\programs\\python\\python311\\lib\\site-packages (from gradio) (0.25.1)\n",
            "Requirement already satisfied: python-multipart>=0.0.18 in c:\\users\\loual\\appdata\\local\\programs\\python\\python311\\lib\\site-packages (from gradio) (0.0.20)\n",
            "Requirement already satisfied: pyyaml<7.0,>=5.0 in c:\\users\\loual\\appdata\\local\\programs\\python\\python311\\lib\\site-packages (from gradio) (6.0)\n",
            "Requirement already satisfied: ruff>=0.2.2 in c:\\users\\loual\\appdata\\local\\programs\\python\\python311\\lib\\site-packages (from gradio) (0.9.2)\n",
            "Requirement already satisfied: safehttpx<0.2.0,>=0.1.6 in c:\\users\\loual\\appdata\\local\\programs\\python\\python311\\lib\\site-packages (from gradio) (0.1.6)\n",
            "Requirement already satisfied: semantic-version~=2.0 in c:\\users\\loual\\appdata\\local\\programs\\python\\python311\\lib\\site-packages (from gradio) (2.10.0)\n",
            "Requirement already satisfied: starlette<1.0,>=0.40.0 in c:\\users\\loual\\appdata\\local\\programs\\python\\python311\\lib\\site-packages (from gradio) (0.41.3)\n",
            "Requirement already satisfied: tomlkit<0.14.0,>=0.12.0 in c:\\users\\loual\\appdata\\local\\programs\\python\\python311\\lib\\site-packages (from gradio) (0.13.2)\n",
            "Requirement already satisfied: typer<1.0,>=0.12 in c:\\users\\loual\\appdata\\local\\programs\\python\\python311\\lib\\site-packages (from gradio) (0.15.1)\n",
            "Requirement already satisfied: typing-extensions~=4.0 in c:\\users\\loual\\appdata\\local\\programs\\python\\python311\\lib\\site-packages (from gradio) (4.12.2)\n",
            "Requirement already satisfied: uvicorn>=0.14.0 in c:\\users\\loual\\appdata\\local\\programs\\python\\python311\\lib\\site-packages (from gradio) (0.34.0)\n",
            "Requirement already satisfied: fsspec in c:\\users\\loual\\appdata\\local\\programs\\python\\python311\\lib\\site-packages (from gradio-client==1.5.4->gradio) (2024.9.0)\n",
            "Requirement already satisfied: websockets<15.0,>=10.0 in c:\\users\\loual\\appdata\\local\\programs\\python\\python311\\lib\\site-packages (from gradio-client==1.5.4->gradio) (14.1)\n",
            "Requirement already satisfied: idna>=2.8 in c:\\users\\loual\\appdata\\local\\programs\\python\\python311\\lib\\site-packages (from anyio<5.0,>=3.0->gradio) (3.4)\n",
            "Requirement already satisfied: sniffio>=1.1 in c:\\users\\loual\\appdata\\local\\programs\\python\\python311\\lib\\site-packages (from anyio<5.0,>=3.0->gradio) (1.3.0)\n",
            "Requirement already satisfied: certifi in c:\\users\\loual\\appdata\\local\\programs\\python\\python311\\lib\\site-packages (from httpx>=0.24.1->gradio) (2022.12.7)\n",
            "Requirement already satisfied: httpcore==1.* in c:\\users\\loual\\appdata\\local\\programs\\python\\python311\\lib\\site-packages (from httpx>=0.24.1->gradio) (1.0.7)\n",
            "Requirement already satisfied: h11<0.15,>=0.13 in c:\\users\\loual\\appdata\\local\\programs\\python\\python311\\lib\\site-packages (from httpcore==1.*->httpx>=0.24.1->gradio) (0.14.0)\n",
            "Requirement already satisfied: filelock in c:\\users\\loual\\appdata\\local\\programs\\python\\python311\\lib\\site-packages (from huggingface-hub>=0.25.1->gradio) (3.16.1)\n",
            "Requirement already satisfied: requests in c:\\users\\loual\\appdata\\local\\programs\\python\\python311\\lib\\site-packages (from huggingface-hub>=0.25.1->gradio) (2.28.2)\n",
            "Requirement already satisfied: tqdm>=4.42.1 in c:\\users\\loual\\appdata\\local\\programs\\python\\python311\\lib\\site-packages (from huggingface-hub>=0.25.1->gradio) (4.67.1)\n",
            "Requirement already satisfied: python-dateutil>=2.8.2 in c:\\users\\loual\\appdata\\local\\programs\\python\\python311\\lib\\site-packages (from pandas<3.0,>=1.0->gradio) (2.8.2)\n",
            "Requirement already satisfied: pytz>=2020.1 in c:\\users\\loual\\appdata\\local\\programs\\python\\python311\\lib\\site-packages (from pandas<3.0,>=1.0->gradio) (2023.3)\n",
            "Requirement already satisfied: tzdata>=2022.1 in c:\\users\\loual\\appdata\\local\\programs\\python\\python311\\lib\\site-packages (from pandas<3.0,>=1.0->gradio) (2023.3)\n",
            "Requirement already satisfied: annotated-types>=0.6.0 in c:\\users\\loual\\appdata\\local\\programs\\python\\python311\\lib\\site-packages (from pydantic>=2.0->gradio) (0.7.0)\n",
            "Requirement already satisfied: pydantic-core==2.27.2 in c:\\users\\loual\\appdata\\local\\programs\\python\\python311\\lib\\site-packages (from pydantic>=2.0->gradio) (2.27.2)\n",
            "Requirement already satisfied: click>=8.0.0 in c:\\users\\loual\\appdata\\local\\programs\\python\\python311\\lib\\site-packages (from typer<1.0,>=0.12->gradio) (8.1.3)\n",
            "Requirement already satisfied: shellingham>=1.3.0 in c:\\users\\loual\\appdata\\local\\programs\\python\\python311\\lib\\site-packages (from typer<1.0,>=0.12->gradio) (1.5.4)\n",
            "Requirement already satisfied: rich>=10.11.0 in c:\\users\\loual\\appdata\\local\\programs\\python\\python311\\lib\\site-packages (from typer<1.0,>=0.12->gradio) (13.9.4)\n",
            "Requirement already satisfied: colorama in c:\\users\\loual\\appdata\\local\\programs\\python\\python311\\lib\\site-packages (from click>=8.0.0->typer<1.0,>=0.12->gradio) (0.4.6)\n",
            "Requirement already satisfied: six>=1.5 in c:\\users\\loual\\appdata\\local\\programs\\python\\python311\\lib\\site-packages (from python-dateutil>=2.8.2->pandas<3.0,>=1.0->gradio) (1.16.0)\n",
            "Requirement already satisfied: markdown-it-py>=2.2.0 in c:\\users\\loual\\appdata\\local\\programs\\python\\python311\\lib\\site-packages (from rich>=10.11.0->typer<1.0,>=0.12->gradio) (3.0.0)\n",
            "Requirement already satisfied: pygments<3.0.0,>=2.13.0 in c:\\users\\loual\\appdata\\local\\programs\\python\\python311\\lib\\site-packages (from rich>=10.11.0->typer<1.0,>=0.12->gradio) (2.13.0)\n",
            "Requirement already satisfied: charset-normalizer<4,>=2 in c:\\users\\loual\\appdata\\local\\programs\\python\\python311\\lib\\site-packages (from requests->huggingface-hub>=0.25.1->gradio) (3.0.1)\n",
            "Requirement already satisfied: urllib3<1.27,>=1.21.1 in c:\\users\\loual\\appdata\\local\\programs\\python\\python311\\lib\\site-packages (from requests->huggingface-hub>=0.25.1->gradio) (1.26.14)\n",
            "Requirement already satisfied: mdurl~=0.1 in c:\\users\\loual\\appdata\\local\\programs\\python\\python311\\lib\\site-packages (from markdown-it-py>=2.2.0->rich>=10.11.0->typer<1.0,>=0.12->gradio) (0.1.2)\n"
          ]
        },
        {
          "name": "stderr",
          "output_type": "stream",
          "text": [
            "\n",
            "[notice] A new release of pip available: 22.3.1 -> 24.3.1\n",
            "[notice] To update, run: python.exe -m pip install --upgrade pip\n"
          ]
        },
        {
          "name": "stdout",
          "output_type": "stream",
          "text": [
            "Requirement already satisfied: squarify in c:\\users\\loual\\appdata\\local\\programs\\python\\python311\\lib\\site-packages (0.4.4)\n"
          ]
        },
        {
          "name": "stderr",
          "output_type": "stream",
          "text": [
            "\n",
            "[notice] A new release of pip available: 22.3.1 -> 24.3.1\n",
            "[notice] To update, run: python.exe -m pip install --upgrade pip\n"
          ]
        }
      ],
      "source": [
        "!pip install streamlit\n",
        "!pip install gradio\n",
        "!pip install squarify"
      ]
    },
    {
      "cell_type": "code",
      "execution_count": 2,
      "metadata": {
        "id": "CqfD2Tzg3z_s"
      },
      "outputs": [],
      "source": [
        "\n",
        "import matplotlib.pyplot as plt\n",
        "import os\n",
        "import pandas as pd\n",
        "import gradio as gr\n",
        "import io\n",
        "import seaborn as sns\n",
        "import squarify\n",
        "import plotly.express as px\n",
        "import pandas as pd\n",
        "import plotly.express as px\n",
        "import plotly.graph_objects as go\n",
        "import shutil\n",
        "import os\n",
        "import numpy as np\n",
        "from sklearn.linear_model import LinearRegression\n"
      ]
    },
    {
      "cell_type": "markdown",
      "metadata": {
        "id": "J8fFjI52U4tZ"
      },
      "source": [
        "# Chargement des données"
      ]
    },
    {
      "cell_type": "code",
      "execution_count": 5,
      "metadata": {
        "id": "v0zS299eE_C5"
      },
      "outputs": [],
      "source": [
        "# Chemin des fichiers\n",
        "\n",
        "chemin_donnees = os.path.join(\"..\", \"Data\")\n",
        "\n",
        "dossier_fichier_hoursatall= os.path.join(chemin_donnees, \"Temps de parole des hommes et des femmes à la Tv et radio\", \"20190308-hourstatall.csv\")\n",
        "\n",
        "dossier_fichier_years=os.path.join(chemin_donnees, \"Temps de parole des hommes et des femmes à la Tv et radio\", \"20190308-years.csv\")\n",
        "\n",
        "dossier_fichier_declarations = os.path.join(chemin_donnees, \"Temps de parole des hommes et femmes pour les programmes CSA\", \"ina-csa-parole-femmes-chaines.csv\")\n",
        "\n",
        "df_hours_at_all = pd.read_csv(dossier_fichier_hoursatall, encoding='utf-8',sep=',')\n",
        "df_hours_at_all['is_public_channel'] = df_hours_at_all['is_public_channel'].replace({True: 'Publique', False: 'Privé'})\n",
        "\n",
        "df_years=pd.read_csv(dossier_fichier_years,encoding='utf-8',sep=',')\n",
        "df_years['is_public_channel'] = df_years['is_public_channel'].replace({True: 'Publique', False: 'Privé'})\n",
        "\n",
        "df_declarations = pd.read_csv(dossier_fichier_declarations, encoding='utf-8',sep=',')\n"
      ]
    },
    {
      "cell_type": "code",
      "execution_count": 6,
      "metadata": {
        "id": "tjoyFvmRSNaR"
      },
      "outputs": [],
      "source": [
        "#On construit ici le dictionnaire qui associe pour chaque radio présente dans le csv df_declarations, la valeur \"Publique\" (média public) et \"Privé\" (média privé)\n",
        "#On va l'utiliser dans la fonction assign_themes afin de constuire la colonne is_public_channel dans le csv df_declarations\n",
        "is_public_channel = {\n",
        "    \"Europe 1\": \"Privé\",\n",
        "    \"Fip\": \"Publique\",\n",
        "    \"France Culture\": \"Publique\",\n",
        "    \"France Info\": \"Publique\",\n",
        "    \"France Inter\": \"Publique\",\n",
        "    \"France Musique\": \"Publique\",\n",
        "    \"FunRadio\": \"Privé\",\n",
        "    \"Mouv\": \"Publique\",\n",
        "    \"NOSTALGIE\": \"Privé\",\n",
        "    \"NRJ\": \"Privé\",\n",
        "    \"RFI\": \"Publique\",\n",
        "    \"RMC\": \"Privé\",\n",
        "    \"RTL\": \"Privé\",\n",
        "    \"6TER\": \"Privé\",\n",
        "    \"BFMTV\": \"Privé\",\n",
        "    \"C8\": \"Privé\",\n",
        "    \"CANAL PLUS\": \"Privé\",\n",
        "    \"CNEWS\": \"Privé\",\n",
        "    \"Chérie 25\": \"Privé\",\n",
        "    \"FRANCE 2\": \"Publique\",\n",
        "    \"FRANCE 3\": \"Publique\",\n",
        "    \"FRANCE 4\": \"Publique\",\n",
        "    \"FRANCE 5\": \"Publique\",\n",
        "    \"France 24\": \"Publique\",\n",
        "    \"L'Equipe\": \"Privé\",\n",
        "    \"LCI\": \"Privé\",\n",
        "    \"M6\": \"Privé\",\n",
        "    \"NRJ 12\": \"Privé\",\n",
        "    \"RMC Découverte\": \"Privé\",\n",
        "    \"RMC Story\": \"Privé\",\n",
        "    \"TF1\": \"Privé\",\n",
        "    \"TFX\": \"Privé\",\n",
        "    \"TMC\": \"Privé\",\n",
        "    \"W9\": \"Privé\",\n",
        "    \"franceinfo\": \"Publique\",\n",
        "    \"Virgin Radio \": \"Privé\",\n",
        "    \"CSTAR\": \"Privé\",\n",
        "    \"France ô\": \"Publique\",\n",
        "    \"GULLI\": \"Privé\",\n",
        "    \"Paris Première\": \"Privé\"\n",
        "}"
      ]
    },
    {
      "cell_type": "code",
      "execution_count": 7,
      "metadata": {
        "id": "qVchd__x8E0g"
      },
      "outputs": [],
      "source": [
        "# Dictionnaire des thèmes et des chaînes associées\n",
        "themes = {\n",
        "    'Sport': ['canal+ sport', 'eurosport france', \"l'equipe 21\", \"l'equipe\"],\n",
        "    'Musique': ['chérie fm', 'france musique', 'fun radio', 'funradio', 'mouv', 'nrj', 'nostalgie', 'rfm',\n",
        "                'rtl 2', 'radio classique', 'skyrock', 'virgin radio', 'virgin radio ', 'cstar'],\n",
        "    'Information': ['europe 1', 'france info', 'franceinfo', 'rfi', 'rmc', 'sud radio', 'bfm tv', 'euronews', 'france 24',\n",
        "                    'i-télé/cnews', 'cnews', 'lci', 'lcp/public sénat', 'la chaîne météo', 'bfmtv'],\n",
        "    'Culture': ['france bleu', 'france culture', 'animaux', 'chasse et pêche', 'france 5', 'histoire',\n",
        "                'planète+', 'tv5 monde', \"toute l'histoire\", 'voyage', 'france 4'],\n",
        "    'Tout': ['france inter', 'rtl', 'arte', 'canal+', 'canal plus', 'd8/c8', 'c8', 'france 2', 'france 3', 'france o', 'm6', 'nrj 12', 'tf1', 'tv breizh', 'rmc story', 'tfx'],\n",
        "    'Divertissement': ['rire et chansons', 'chérie 25', 'comédie+', 'paris première', 'téva', 'w9', 'fip', '6ter', 'rmc découverte', 'tmc', 'monte carlo tmc', 'gulli']\n",
        "}\n",
        "\n",
        "import unicodedata\n",
        "\n",
        "# Fonction pour normaliser les chaînes (supprimer les accents et caractères spéciaux)\n",
        "def normalize_string(s):\n",
        "    if isinstance(s, str):\n",
        "        return ''.join(\n",
        "            c for c in unicodedata.normalize('NFD', s)\n",
        "            if unicodedata.category(c) != 'Mn'\n",
        "        ).lower()\n",
        "    return s\n",
        "\n",
        "# Fonction pour affecter les thèmes en utilisant le dictionnaire\n",
        "def assign_themes(df, themes):\n",
        "    # Trouver la colonne contenant les noms des chaînes\n",
        "    column_name = None\n",
        "    for possible_name in ['channel_name', 'Editeur']:\n",
        "        if possible_name in df.columns:\n",
        "            column_name = possible_name\n",
        "            break\n",
        "\n",
        "    if not column_name:\n",
        "        raise ValueError(\"Aucune colonne pour les noms des chaînes n'a été trouvée dans le DataFrame.\")\n",
        "\n",
        "    # Normaliser la colonne contenant les noms des chaînes\n",
        "    df['channel_name_normalized'] = df[column_name].apply(normalize_string)\n",
        "\n",
        "    # Initialiser la colonne 'thème de la chaine' à None\n",
        "    df['thème de la chaine'] = None\n",
        "\n",
        "    # Normaliser les chaînes du dictionnaire et affecter les thèmes\n",
        "    for theme, channels in themes.items():\n",
        "        normalized_channels = [normalize_string(channel) for channel in channels]\n",
        "        index_theme = df.index[df['channel_name_normalized'].isin(normalized_channels)].tolist()\n",
        "        df.loc[index_theme, 'thème de la chaine'] = theme\n",
        "\n",
        "    # Cas spécifique pour le csv du nombre de déclarations par chaine : la colonne is_public_channel n'est pas présente : on doit la reconstruire à partir du dictionnaire\n",
        "    if column_name == \"Editeur\":\n",
        "      df['is_public_channel'] = None\n",
        "      # Utiliser le dictionnaire is_public_channel pour affecter les valeurs\n",
        "      normalized_public_channel_dict = {normalize_string(k): v for k, v in is_public_channel.items()}\n",
        "      df['is_public_channel'] = df['channel_name_normalized'].map(normalized_public_channel_dict)\n",
        "\n",
        "    # Supprimer la colonne intermédiaire utilisée pour la correspondance\n",
        "    df.drop(columns=['channel_name_normalized'], inplace=True)\n",
        "    return df\n",
        "\n",
        "# Appliquer la fonction aux DataFrames\n",
        "df_years = assign_themes(df_years, themes)\n",
        "df_hours_at_all = assign_themes(df_hours_at_all, themes)\n",
        "df_declarations = assign_themes(df_declarations, themes)\n",
        "\n"
      ]
    },
    {
      "cell_type": "code",
      "execution_count": 8,
      "metadata": {
        "id": "MIaLZ9V3seUO"
      },
      "outputs": [],
      "source": [
        "#Ajout de la colonne représantant l'evolution ddu women speech rate dans le csv df_declarations\n",
        "df_declarations[\"evolution_women_expression_rate_2019_2020\"] = df_declarations['women_expression_rate_2020'] - df_declarations['women_expression_rate_2019']\n",
        "df_declarations['nb_declarations_2019'] = df_declarations['nb_declarations_2019'].fillna(0)"
      ]
    },
    {
      "cell_type": "markdown",
      "metadata": {
        "id": "zX_SZWIZrBtF"
      },
      "source": [
        "# Définition des filtres"
      ]
    },
    {
      "cell_type": "code",
      "execution_count": 9,
      "metadata": {
        "id": "maEp8D-13IGt"
      },
      "outputs": [],
      "source": [
        "#Définition des filtres qui seront utilisés dans le dashboard\n",
        "liste_themes=df_years[\"thème de la chaine\"].unique().tolist()\n",
        "liste_public_prive=df_years[\"is_public_channel\"].unique().tolist()\n",
        "liste_types_media=df_years[\"media_type\"].unique().tolist()\n",
        "liste_types_media.append(\"Cumulé\")\n",
        "liste_public_prive.append(\"Cumulé\")\n",
        "liste_themes.append(\"Cumulé\")"
      ]
    },
    {
      "cell_type": "markdown",
      "metadata": {
        "id": "9hIvqsgjX0Q_"
      },
      "source": [
        "# Définition des fonctions pour générer les graphiques du dashboard"
      ]
    },
    {
      "cell_type": "markdown",
      "metadata": {
        "id": "ETnsfB26pdLI"
      },
      "source": [
        "## Graphique camembert du taux d'expression des femmes pour une année"
      ]
    },
    {
      "cell_type": "code",
      "execution_count": 10,
      "metadata": {
        "id": "8eiHbColpb23"
      },
      "outputs": [],
      "source": [
        "# Fonction pour générer le camembert\n",
        "def generer_women_rate_by_year(year_selection):\n",
        "    if year_selection == \"Moyenne\":\n",
        "        # Calculer la moyenne du taux pour toutes les années pour hommes et femmes\n",
        "        women_mean = df_years[\"women_expression_rate\"].mean()\n",
        "        men_mean = 100-women_mean\n",
        "        grouped = pd.DataFrame({\n",
        "            \"Category\": [\"Femmes\", \"Hommes\"],\n",
        "            \"Rate\": [women_mean, men_mean]\n",
        "        })\n",
        "    else:\n",
        "        # Filtrer les données pour l'année sélectionnée\n",
        "        df_filtered = df_years[df_years[\"year\"] == int(year_selection)]\n",
        "        if df_filtered.empty:\n",
        "            return \"Aucune donnée disponible\"\n",
        "\n",
        "        # Organiser les données pour le camembert\n",
        "        women_rate = df_filtered[\"women_expression_rate\"].mean()\n",
        "        men_rate = 100 - women_rate\n",
        "        grouped=pd.DataFrame({\n",
        "            \"Category\": [\"Femmes\", \"Hommes\"],\n",
        "            \"Rate\": [women_rate, men_rate]\n",
        "        })\n",
        "\n",
        "    # Création du diagramme camembert avec Plotly\n",
        "    fig = px.pie(\n",
        "        grouped,\n",
        "        names=\"Category\",\n",
        "        values=\"Rate\",\n",
        "        title=f\"Comparaison du taux d'expression dans les médias radio et tv des hommes et des femmes {'Moyenne' if year_selection == 'Moyenne' else f'en {year_selection}'}\",\n",
        "        #color_discrete_sequence=px.colors.qualitative.Pastel\n",
        "        #color_discrete_sequence=[\"#0223df\", \"#f90123\"]\n",
        "        color_discrete_sequence=[\"#BC8CF9\", \"#44D6B3\"]\n",
        "    )\n",
        "    fig.update_traces(textinfo=\"percent+label\", hole=0.3)\n",
        "\n",
        "    return fig\n"
      ]
    },
    {
      "cell_type": "markdown",
      "metadata": {
        "id": "046-0CEJuRVQ"
      },
      "source": [
        "## Graphique du taux de parole des femmes en fonctions des années"
      ]
    },
    {
      "cell_type": "code",
      "execution_count": 11,
      "metadata": {
        "id": "eAqNv2BGuQFn"
      },
      "outputs": [],
      "source": [
        "def generer_women_rate_years(media_type_selection, public_prive_selection, themes_selection):\n",
        "    # Vérifier que les sélections ne sont pas vides\n",
        "    if not themes_selection or not public_prive_selection or not media_type_selection:\n",
        "        return \"Veuillez sélectionner au moins une valeur dans chaque filtre.\"\n",
        "\n",
        "    # Cas où \"Cumulé\" est sélectionné dans tous les filtres\n",
        "    if \"Cumulé\" in themes_selection and \"Cumulé\" in public_prive_selection and \"Cumulé\" in media_type_selection:\n",
        "        grouped = df_years.groupby(['year'])[['women_expression_rate']].mean().reset_index()\n",
        "        grouped['thème de la chaine'] = \"Cumulé\"\n",
        "        grouped['is_public_channel'] = \"Cumulé\"\n",
        "        grouped['media_type'] = \"Cumulé\"\n",
        "\n",
        "    # Cas où \"Cumulé\" est sélectionné dans themes_selection et public_prive_selection\n",
        "    elif \"Cumulé\" in themes_selection and \"Cumulé\" in public_prive_selection:\n",
        "        grouped = df_years.groupby(['year', 'media_type'])[['women_expression_rate']].mean().reset_index()\n",
        "        grouped = grouped[grouped['media_type'].isin(media_type_selection)]\n",
        "        grouped['thème de la chaine'] = \"Cumulé\"\n",
        "        grouped['is_public_channel'] = \"Cumulé\"\n",
        "\n",
        "    # Cas où \"Cumulé\" est sélectionné dans themes_selection et media_type_selection\n",
        "    elif \"Cumulé\" in themes_selection and \"Cumulé\" in media_type_selection:\n",
        "        grouped = df_years.groupby(['year', 'is_public_channel'])[['women_expression_rate']].mean().reset_index()\n",
        "        grouped = grouped[grouped['is_public_channel'].isin(public_prive_selection)]\n",
        "        grouped['thème de la chaine'] = \"Cumulé\"\n",
        "        grouped['media_type'] = \"Cumulé\"\n",
        "\n",
        "    # Cas où \"Cumulé\" est sélectionné dans media_type_selection et public_prive_selection\n",
        "    elif \"Cumulé\" in media_type_selection and \"Cumulé\" in public_prive_selection:\n",
        "        grouped = df_years.groupby(['year', 'thème de la chaine'])[['women_expression_rate']].mean().reset_index()\n",
        "        grouped = grouped[grouped['thème de la chaine'].isin(themes_selection)]\n",
        "        grouped['is_public_channel'] = \"Cumulé\"\n",
        "        grouped['media_type'] = \"Cumulé\"\n",
        "\n",
        "    # Cas où \"Cumulé\" est sélectionné dans themes_selection uniquement\n",
        "    elif \"Cumulé\" in themes_selection:\n",
        "        grouped = df_years.groupby(['year', 'is_public_channel', 'media_type'])[['women_expression_rate']].mean().reset_index()\n",
        "        grouped = grouped[\n",
        "            grouped['is_public_channel'].isin(public_prive_selection) &\n",
        "            grouped['media_type'].isin(media_type_selection)\n",
        "        ]\n",
        "        grouped['thème de la chaine'] = \"Cumulé\"\n",
        "\n",
        "    # Cas où \"Cumulé\" est sélectionné dans public_prive_selection uniquement\n",
        "    elif \"Cumulé\" in public_prive_selection:\n",
        "        grouped = df_years.groupby(['year', 'thème de la chaine', 'media_type'])[['women_expression_rate']].mean().reset_index()\n",
        "        grouped = grouped[\n",
        "            grouped['thème de la chaine'].isin(themes_selection) &\n",
        "            grouped['media_type'].isin(media_type_selection)\n",
        "        ]\n",
        "        grouped['is_public_channel'] = \"Cumulé\"\n",
        "\n",
        "    # Cas où \"Cumulé\" est sélectionné dans media_type_selection uniquement\n",
        "    elif \"Cumulé\" in media_type_selection:\n",
        "        grouped = df_years.groupby(['year', 'thème de la chaine', 'is_public_channel'])[['women_expression_rate']].mean().reset_index()\n",
        "        grouped = grouped[\n",
        "            grouped['thème de la chaine'].isin(themes_selection) &\n",
        "            grouped['is_public_channel'].isin(public_prive_selection)\n",
        "        ]\n",
        "        grouped['media_type'] = \"Cumulé\"\n",
        "\n",
        "    # Cas général : aucun \"Cumulé\" sélectionné\n",
        "    else:\n",
        "        df_filtered = df_years[\n",
        "            (df_years[\"thème de la chaine\"].isin(themes_selection)) &\n",
        "            (df_years[\"is_public_channel\"].isin(public_prive_selection)) &\n",
        "            (df_years[\"media_type\"].isin(media_type_selection))\n",
        "        ]\n",
        "        if df_filtered.empty:\n",
        "            return px.scatter(title=\"Aucune donnée disponible\", x=[], y=[])\n",
        "        grouped = df_filtered.groupby(['year', 'thème de la chaine', 'is_public_channel', 'media_type'])[['women_expression_rate']].mean().reset_index()\n",
        "\n",
        "    if grouped.empty:\n",
        "        return px.scatter(title=\"Aucune donnée disponible\", x=[], y=[])\n",
        "\n",
        "    # Création du graphique avec Plotly\n",
        "    fig = px.line(\n",
        "        grouped,\n",
        "        x='year',\n",
        "        y='women_expression_rate',\n",
        "        color='thème de la chaine',          # Différencier par thème\n",
        "        line_dash='is_public_channel',      # Différencier par catégorie\n",
        "        symbol='media_type',                # Différencier par type\n",
        "        markers=True,                       # Ajouter des marqueurs\n",
        "        labels={\n",
        "            \"year\": \"Année\",\n",
        "            \"women_expression_rate\": \"Taux d'expression des femmes (%)\",\n",
        "            \"thème de la chaine\": \"Thème\",\n",
        "            \"is_public_channel\": \"Catégorie\",\n",
        "            \"media_type\": \"Type de média\"\n",
        "        },\n",
        "        title=\"Taux d'expression des femmes en fonction des années\"\n",
        "    )\n",
        "\n",
        "    # Personnalisation des axes\n",
        "    fig.update_layout(\n",
        "        xaxis=dict(tickmode='linear', tick0=grouped['year'].min(), dtick=1),\n",
        "        legend_title=\"\",\n",
        "        title_x=0.5\n",
        "    )\n",
        "\n",
        "    return fig"
      ]
    },
    {
      "cell_type": "markdown",
      "metadata": {
        "id": "F44qZlL-aoUZ"
      },
      "source": [
        "## Graphique du taux de parole des femmes en fonction des tranches horaires"
      ]
    },
    {
      "cell_type": "code",
      "execution_count": 12,
      "metadata": {
        "id": "vu3_cn4sayVs"
      },
      "outputs": [],
      "source": [
        "def generer_tranches_horaires(media_type_selection, public_prive_selection, themes_selection):\n",
        "\n",
        "    if not themes_selection or not public_prive_selection or not media_type_selection:\n",
        "        return \"Veuillez sélectionner au moins une valeur dans chaque filtre.\"\n",
        "\n",
        "    # Cas où \"Cumulé\" est sélectionné dans tous les filtres\n",
        "    if \"Cumulé\" in themes_selection and \"Cumulé\" in public_prive_selection and \"Cumulé\" in media_type_selection:\n",
        "        grouped = df_hours_at_all.groupby(['hour'])[['women_expression_rate']].mean().reset_index()\n",
        "        grouped['thème de la chaine'] = \"Cumulé\"\n",
        "        grouped['is_public_channel'] = \"Cumulé\"\n",
        "        grouped['media_type'] = \"Cumulé\"\n",
        "\n",
        "    # Cas où \"Cumulé\" est sélectionné dans themes_selection et public_prive_selection\n",
        "    elif \"Cumulé\" in themes_selection and \"Cumulé\" in public_prive_selection:\n",
        "        grouped = df_hours_at_all.groupby(['hour', 'media_type'])[['women_expression_rate']].mean().reset_index()\n",
        "        grouped = grouped[grouped['media_type'].isin(media_type_selection)]\n",
        "        grouped['thème de la chaine'] = \"Cumulé\"\n",
        "        grouped['is_public_channel'] = \"Cumulé\"\n",
        "\n",
        "    # Cas où \"Cumulé\" est sélectionné dans themes_selection et media_type_selection\n",
        "    elif \"Cumulé\" in themes_selection and \"Cumulé\" in media_type_selection:\n",
        "        grouped = df_hours_at_all.groupby(['hour', 'is_public_channel'])[['women_expression_rate']].mean().reset_index()\n",
        "        grouped = grouped[grouped['is_public_channel'].isin(public_prive_selection)]\n",
        "        grouped['thème de la chaine'] = \"Cumulé\"\n",
        "        grouped['media_type'] = \"Cumulé\"\n",
        "\n",
        "    # Cas où \"Cumulé\" est sélectionné dans media_type_selection et public_prive_selection\n",
        "    elif \"Cumulé\" in media_type_selection and \"Cumulé\" in public_prive_selection:\n",
        "        grouped = df_hours_at_all.groupby(['hour', 'thème de la chaine'])[['women_expression_rate']].mean().reset_index()\n",
        "        grouped = grouped[grouped['thème de la chaine'].isin(themes_selection)]\n",
        "        grouped['is_public_channel'] = \"Cumulé\"\n",
        "        grouped['media_type'] = \"Cumulé\"\n",
        "\n",
        "    # Cas où \"Cumulé\" est sélectionné dans themes_selection uniquement\n",
        "    elif \"Cumulé\" in themes_selection:\n",
        "        grouped = df_hours_at_all.groupby(['hour', 'is_public_channel', 'media_type'])[['women_expression_rate']].mean().reset_index()\n",
        "        grouped = grouped[\n",
        "            grouped['is_public_channel'].isin(public_prive_selection) &\n",
        "            grouped['media_type'].isin(media_type_selection)\n",
        "        ]\n",
        "        grouped['thème de la chaine'] = \"Cumulé\"\n",
        "\n",
        "    # Cas où \"Cumulé\" est sélectionné dans public_prive_selection uniquement\n",
        "    elif \"Cumulé\" in public_prive_selection:\n",
        "        grouped = df_hours_at_all.groupby(['hour', 'thème de la chaine', 'media_type'])[['women_expression_rate']].mean().reset_index()\n",
        "        grouped = grouped[\n",
        "            grouped['thème de la chaine'].isin(themes_selection) &\n",
        "            grouped['media_type'].isin(media_type_selection)\n",
        "        ]\n",
        "        grouped['is_public_channel'] = \"Cumulé\"\n",
        "\n",
        "    # Cas où \"Cumulé\" est sélectionné dans media_type_selection uniquement\n",
        "    elif \"Cumulé\" in media_type_selection:\n",
        "        grouped = df_hours_at_all.groupby(['hour', 'thème de la chaine', 'is_public_channel'])[['women_expression_rate']].mean().reset_index()\n",
        "        grouped = grouped[\n",
        "            grouped['thème de la chaine'].isin(themes_selection) &\n",
        "            grouped['is_public_channel'].isin(public_prive_selection)\n",
        "        ]\n",
        "        grouped['media_type'] = \"Cumulé\"\n",
        "\n",
        "    # Cas général : aucun \"Cumulé\" sélectionné\n",
        "    else:\n",
        "        df_filtered = df_hours_at_all[\n",
        "            (df_hours_at_all[\"thème de la chaine\"].isin(themes_selection)) &\n",
        "            (df_hours_at_all[\"is_public_channel\"].isin(public_prive_selection)) &\n",
        "            (df_hours_at_all[\"media_type\"].isin(media_type_selection))\n",
        "        ]\n",
        "        if df_filtered.empty:\n",
        "            return px.scatter(title=\"Aucune donnée disponible\", x=[], y=[])\n",
        "        grouped = df_filtered.groupby(['hour', 'thème de la chaine', 'is_public_channel', 'media_type'])[['women_expression_rate']].mean().reset_index()\n",
        "\n",
        "    if grouped.empty:\n",
        "        return px.scatter(title=\"Aucune donnée disponible\", x=[], y=[])\n",
        "\n",
        "    # Création du graphique avec Plotly\n",
        "    fig = px.line(\n",
        "        grouped,\n",
        "        x='hour',\n",
        "        y='women_expression_rate',\n",
        "        color='thème de la chaine',          # Différencier par thème\n",
        "        line_dash='is_public_channel',      # Différencier par catégorie\n",
        "        symbol='media_type',\n",
        "        markers=True,                # Ajouter des marqueurs sur les lignes\n",
        "        labels={\n",
        "            \"hour\": \"Tranche horaire\",\n",
        "            \"women_expression_rate\": \"Taux d'expression des femmes (%)\",\n",
        "            \"thème de la chaine\" : \"Thème\",\n",
        "            \"media_type\": \"Type de média\",  # Personnaliser le titre de la légende\n",
        "            \"is_public_channel\": \"Catégorie\",  # Personnaliser le titre de la légende\n",
        "        },\n",
        "        title=\"Taux d'expression des femmes en fonction des tranches horaires\"\n",
        "    )\n",
        "\n",
        "    # Personnalisation des axes\n",
        "    fig.update_layout(\n",
        "        xaxis=dict(tickmode='linear', tick0=grouped['hour'].min(), dtick=1),  # Ticks pour les heures\n",
        "        legend_title=\"\",\n",
        "        title_x=0.5  # Centrer le titre\n",
        "    )\n",
        "\n",
        "    return fig"
      ]
    },
    {
      "cell_type": "markdown",
      "metadata": {
        "id": "UHwLMue0ZtR3"
      },
      "source": [
        "## Graphique du taux de parole des femmes en fonction du taux de parole global (100 - taux de musique)"
      ]
    },
    {
      "cell_type": "code",
      "execution_count": 13,
      "metadata": {
        "id": "1TU9B2CTa8mm"
      },
      "outputs": [],
      "source": [
        "def generer_graphe_women_rate_speech_rate(media_type_selection, themes_selection):\n",
        "    # Filtrage pour exclure \"Cumulé\"\n",
        "    if \"Cumulé\" in media_type_selection:\n",
        "        media_type_selection = [item for item in media_type_selection if item != \"Cumulé\"]\n",
        "\n",
        "    if \"Cumulé\" in themes_selection:\n",
        "        themes_selection = [item for item in themes_selection if item != \"Cumulé\"]\n",
        "\n",
        "    # Filtrage des données en fonction des sélections\n",
        "    df_filtered = df_years[\n",
        "        (df_years[\"media_type\"].isin(media_type_selection)) &\n",
        "        (df_years[\"thème de la chaine\"].isin(themes_selection))\n",
        "    ]\n",
        "\n",
        "    if df_filtered.empty:\n",
        "        return px.scatter(title=\"Aucune donnée disponible\", x=[], y=[])\n",
        "\n",
        "    # Regrouper les données par `channel_name` pour calculer les moyennes\n",
        "    grouped = df_filtered.groupby(['channel_name', 'thème de la chaine', 'media_type']).agg({\n",
        "        'women_expression_rate': 'mean',\n",
        "        'speech_rate': 'mean',\n",
        "        'nb_hours_analyzed': 'sum'  # Somme des heures analysées pour la taille des points\n",
        "    }).reset_index()\n",
        "\n",
        "    # Vérifier si `grouped` est vide après le regroupement\n",
        "    if grouped.empty:\n",
        "        return px.scatter(title=\"Aucune donnée disponible\", x=[], y=[])\n",
        "\n",
        "    # Création du graphique scatter avec Plotly Express\n",
        "    fig = px.scatter(\n",
        "        grouped,\n",
        "        x=\"speech_rate\",  # Axe des X : Moyenne du taux de parole (100 - musique)\n",
        "        y=\"women_expression_rate\",  # Axe des Y : Moyenne du taux de parole des femmes\n",
        "        size=\"nb_hours_analyzed\",  # Taille des points (basée sur le nombre total d'heures analysées)\n",
        "        color=\"thème de la chaine\",  # Couleur des points par type de média\n",
        "        symbol=\"media_type\",  # Forme des points par public/privé\n",
        "        hover_name=\"channel_name\",  # Nom de la chaîne au survol\n",
        "        labels={\n",
        "            \"speech_rate\": \"Pourcentage de parole (100 - musique)\",\n",
        "            \"women_expression_rate\": \"Pourcentage de parole des femmes\",\n",
        "            \"thème de la chaine\": \"Thème\",\n",
        "            \"media_type\": \"Type de média\"\n",
        "        },\n",
        "        title=\"Taux de paroles des femmes en fonction du pourcentage <br> de parole global (100- pourcentage de musique)\"\n",
        "    )\n",
        "\n",
        "    # Personnalisation du style des points\n",
        "    fig.update_traces(marker=dict(line=dict(width=2)))  # Ajout d'un contour autour des points\n",
        "\n",
        "    # Mise à jour des titres des axes et ajustement de l'apparence générale\n",
        "    fig.update_layout(\n",
        "        xaxis_title=\"Pourcentage de parole (100 - pourcentage de musique)\",\n",
        "        yaxis_title=\"Pourcentage de parole des femmes\",\n",
        "        legend_title=\"Légende\",\n",
        "        title_x=0.5  # Centrer le titre\n",
        "    )\n",
        "\n",
        "    # Retourner la figure\n",
        "    return fig"
      ]
    },
    {
      "cell_type": "markdown",
      "metadata": {
        "id": "_Bmb21anZwHG"
      },
      "source": [
        "## Graphique du taux de parole des femmes des chaînes ayant fait l'objet de déclarations au CSA"
      ]
    },
    {
      "cell_type": "code",
      "execution_count": 14,
      "metadata": {
        "id": "Nc50Al0OcsHd"
      },
      "outputs": [],
      "source": [
        "def generer_women_rate_nbr_decla(media_type_selection, public_prive_selection, themes_selection):\n",
        "\n",
        "    if \"Cumulé\" in media_type_selection:\n",
        "        media_type_selection = [item for item in media_type_selection if item != \"Cumulé\"]\n",
        "\n",
        "    if \"Cumulé\" in public_prive_selection:\n",
        "        public_prive_selection = [item for item in public_prive_selection if item != \"Cumulé\"]\n",
        "\n",
        "    if \"Cumulé\" in themes_selection:\n",
        "        themes_selection = [item for item in themes_selection if item != \"Cumulé\"]\n",
        "\n",
        "    data_filtered = df_declarations[\n",
        "        (df_declarations[\"media\"].isin(media_type_selection))&\n",
        "        (df_declarations[\"is_public_channel\"].isin(public_prive_selection)) &\n",
        "        (df_declarations[\"thème de la chaine\"].isin(themes_selection))\n",
        "    ]\n",
        "\n",
        "    if data_filtered.empty:\n",
        "       return px.scatter(title=\"Aucune donnée disponible\", x=[], y=[])\n",
        "\n",
        "\n",
        "    # Création du nuage de points\n",
        "    fig = px.scatter(\n",
        "    data_filtered,\n",
        "    x=\"nb_declarations_2019\",\n",
        "    y=\"evolution_women_expression_rate_2019_2020\",\n",
        "    color=\"thème de la chaine\",  # Différencie les éditeurs par couleur\n",
        "    hover_data={\n",
        "        \"nb_declarations_2019\": True,\n",
        "        \"evolution_women_expression_rate_2019_2020\": True,\n",
        "        \"Editeur\": True,\n",
        "    },\n",
        "    title=\"Évolution du temps de parole des femmes (2019-2020) <br> en fonction du nombre de déclarations en 2019\",\n",
        "    labels={\n",
        "        \"nb_declarations_2019\": \"Nombre de déclarations en 2019\",\n",
        "        \"evolution_women_expression_rate_2019_2020\": \"Évolution du temps de parole en pourcentage\",\n",
        "        \"Editeur\": \"Chaine\",\n",
        "        \"thème de la chaine\": \"Thèmes\"\n",
        "        }\n",
        "    )\n",
        "    return fig"
      ]
    },
    {
      "cell_type": "markdown",
      "metadata": {
        "id": "muXjh42AZxz6"
      },
      "source": [
        "## Graphique du nombre de déclarations en 2019 en fonction du nombre de déclarations en 2020"
      ]
    },
    {
      "cell_type": "code",
      "execution_count": 15,
      "metadata": {
        "id": "wycBZIBDdLj-"
      },
      "outputs": [],
      "source": [
        "def generer_nbr_decla_2019_nbr_decla_2020(themes_selection):\n",
        "\n",
        "  if \"Cumulé\" in themes_selection:\n",
        "      themes_selection = [item for item in themes_selection if item != \"Cumulé\"]\n",
        "\n",
        "  data_filtered = df_declarations[(df_declarations[\"thème de la chaine\"].isin(themes_selection))]\n",
        "\n",
        "  if data_filtered.empty:\n",
        "        return px.scatter(title=\"Aucune donnée disponible\", x=[], y=[])\n",
        "\n",
        "  fig = px.scatter(\n",
        "    data_filtered,\n",
        "    x=\"nb_declarations_2019\",\n",
        "    y=\"nb_declarations_2020\",\n",
        "    color=\"thème de la chaine\",  # Différencie les éditeurs par couleur\n",
        "    hover_data={\n",
        "        \"nb_declarations_2019\": True,\n",
        "        \"nb_declarations_2020\": True,\n",
        "        \"Editeur\": True,\n",
        "        \"is_public_channel\": True\n",
        "    },\n",
        "    title=\"Comparaison du nombre de déclarations entre 2019 et 2020\",\n",
        "    labels={\n",
        "        \"nb_declarations_2019\": \"Nombre de déclarations en 2019\",\n",
        "        \"nb_declarations_2020\": \"Nombre de déclarations en 2020\",\n",
        "        \"Editeur\": \"Chaine\",\n",
        "        \"thème de la chaine\": \"Thèmes\"\n",
        "        }\n",
        "    )\n",
        "\n",
        "  return fig"
      ]
    },
    {
      "cell_type": "markdown",
      "metadata": {
        "id": "knNsZif8XnXz"
      },
      "source": [
        "# Graphique Prédiction de la Parité par chaine"
      ]
    },
    {
      "cell_type": "code",
      "execution_count": 16,
      "metadata": {
        "id": "636Zm1EJXrtf"
      },
      "outputs": [],
      "source": [
        "# Filtrer les chaînes télé et radio\n",
        "tv_channels = df_years[df_years[\"media_type\"] == \"tv\"][\"channel_name\"].unique()\n",
        "radio_channels = df_years[df_years[\"media_type\"] == \"radio\"][\"channel_name\"].unique()\n",
        "\n",
        "# Trier chaque groupe par ordre alphabétique\n",
        "sorted_tv_channels = sorted(tv_channels)\n",
        "sorted_radio_channels = sorted(radio_channels)\n",
        "\n",
        "# Combiner les deux listes\n",
        "liste_channel = sorted_tv_channels + sorted_radio_channels"
      ]
    },
    {
      "cell_type": "code",
      "execution_count": 17,
      "metadata": {
        "id": "k0kj9yoiXw1u"
      },
      "outputs": [],
      "source": [
        "def graphe_prediction_parite(channel_selection):\n",
        "    # Filtrage des données\n",
        "    df_filtered = df_years\n",
        "    if channel_selection != \"Moyenne\":\n",
        "        df_filtered = df_years[df_years[\"channel_name\"] == channel_selection]\n",
        "\n",
        "    # Gestion du cas vide\n",
        "    if df_filtered.empty:\n",
        "        fig = go.Figure()\n",
        "        fig.update_layout(title=\"Aucune donnée disponible\", xaxis_title=\"Année\", yaxis_title=\"Taux d'expression\")\n",
        "        return fig\n",
        "\n",
        "    # Vérification de la corrélation linéaire\n",
        "    correlation = df_filtered['year'].corr(df_filtered['women_expression_rate'])\n",
        "    print(correlation)\n",
        "    if abs(correlation*correlation) < 0.5:\n",
        "        return go.Figure().update_layout(title=\"Pas de relation linéaire détectée. Régression impossible.\")\n",
        "\n",
        "    # Régression linéaire\n",
        "    X = df_filtered[['year']]\n",
        "    y = df_filtered['women_expression_rate']\n",
        "\n",
        "    model = LinearRegression()\n",
        "    model.fit(X, y)\n",
        "\n",
        "    # Calcul du coefficient R²\n",
        "    r_squared = model.score(X, y)\n",
        "\n",
        "    premiere_annee = sorted(X['year'].unique().tolist())[0]\n",
        "    # Prédictions\n",
        "    parite = (50 - model.intercept_) / model.coef_[0]\n",
        "    zero = None\n",
        "    if parite >= premiere_annee:\n",
        "      x_min = df_filtered['year'].min()  # Début de la période d'étude\n",
        "      x_max = int(parite) + 1 if parite >= x_min else df_filtered['year'].max()\n",
        "      x = np.arange(int(x_min), x_max, 1)  # Prédictions limitées à cette période\n",
        "    else:\n",
        "      x_min = premiere_annee  # Début de la période d'étude\n",
        "      zero = (0 - model.intercept_) / model.coef_[0]\n",
        "      x_max = int(zero) + 1 if zero >= x_min else df_filtered['year'].max()\n",
        "      x = np.arange(int(x_min), x_max, 1)  # Prédictions limitées à cette période\n",
        "    y_pred = model.predict(x.reshape(-1, 1))\n",
        "\n",
        "    # Création du graphique Plotly\n",
        "    fig = go.Figure()\n",
        "    fig.add_trace(go.Scatter(\n",
        "    x=x,\n",
        "    y=y_pred,\n",
        "    mode='lines',\n",
        "    name='Prédiction',\n",
        "    line=dict(color='#60dfa8')  # Définir la couleur de la ligne\n",
        "))\n",
        "    fig.add_trace(go.Scatter(\n",
        "        x=df_filtered['year'],\n",
        "        y=df_filtered['women_expression_rate'],\n",
        "        mode='markers',\n",
        "        name='Données réelles',\n",
        "        marker=dict(color='#2d295a')\n",
        "    ))\n",
        "\n",
        "    # Ajout de la droite verticale à x = parité\n",
        "    if x_min <= parite <= x_max:\n",
        "        # Annotation sur l'axe des abscisses\n",
        "        fig.add_annotation(\n",
        "            x=int(parite),\n",
        "            y=50,\n",
        "            text=f\"Parité ({int(parite)})\",\n",
        "            showarrow=True,\n",
        "            arrowhead=2,\n",
        "            ax=40,  # Ajustez la position du texte si nécessaire\n",
        "            ay=-40,\n",
        "            font=dict(\n",
        "            family=\"Arial\",  # Police de caractères (optionnelle)\n",
        "            size=12,         # Taille de la police (optionnelle)\n",
        "            color=\"red\"      # Couleur du texte\n",
        "        ),\n",
        "        arrowcolor=\"red\"  # Couleur de la flèche\n",
        "        )\n",
        "    if zero!= None:\n",
        "        # Annotation sur l'axe des abscisses\n",
        "        fig.add_annotation(\n",
        "            x=int(zero),\n",
        "            y=0,\n",
        "            text=f\"Zéro ({int(zero)})\",\n",
        "            showarrow=True,\n",
        "            arrowhead=2,\n",
        "            ax=40,  # Ajustez la position du texte si nécessaire\n",
        "            ay=-40,\n",
        "            font=dict(\n",
        "            family=\"Arial\",  # Police de caractères (optionnelle)\n",
        "            size=12,         # Taille de la police (optionnelle)\n",
        "            color=\"red\"      # Couleur du texte\n",
        "        ),\n",
        "        arrowcolor=\"red\"  # Couleur de la flèche\n",
        "        )\n",
        "\n",
        "    fig.add_annotation(\n",
        "      x=df_filtered['year'].min(),  # Position en bas à gauche sur l'axe des x\n",
        "      y=df_filtered['women_expression_rate'].min() if zero is not None else df_filtered['women_expression_rate'].max(),  # Bas si zero != None, haut sinon\n",
        "      text=f\"r = {correlation:.2f}<br>R² = {r_squared:.2f}\",\n",
        "      showarrow=False,\n",
        "      font=dict(family=\"Arial\", size=12, color=\"blue\"),\n",
        "      align=\"left\",\n",
        "      bordercolor=\"blue\",\n",
        "      borderwidth=1\n",
        "    )\n",
        "    fig.update_layout(\n",
        "        title=f\"Prédiction du taux de parole | {channel_selection}\",\n",
        "        xaxis_title=\"Année\",\n",
        "        yaxis_title=\"Taux d'expression (%)\"\n",
        "    )\n",
        "    return fig"
      ]
    },
    {
      "cell_type": "markdown",
      "metadata": {
        "id": "JzTwzrE9fHzU"
      },
      "source": [
        "# Dashboard"
      ]
    },
    {
      "cell_type": "code",
      "execution_count": 18,
      "metadata": {
        "colab": {
          "base_uri": "https://localhost:8080/",
          "height": 687
        },
        "id": "yGGBH3Iae_DP",
        "outputId": "fe18f1c2-f2e0-4946-f1e5-5838b7a5fa54"
      },
      "outputs": [
        {
          "name": "stderr",
          "output_type": "stream",
          "text": [
            "c:\\Users\\loual\\AppData\\Local\\Programs\\Python\\Python311\\Lib\\site-packages\\gradio\\components\\dropdown.py:226: UserWarning: The value passed into gr.Dropdown() is not in the list of choices. Please update the list of choices to include: Moyenne or set allow_custom_value=True.\n",
            "  warnings.warn(\n"
          ]
        },
        {
          "name": "stdout",
          "output_type": "stream",
          "text": [
            "* Running on local URL:  http://127.0.0.1:7860\n",
            "\n",
            "To create a public link, set `share=True` in `launch()`.\n"
          ]
        },
        {
          "data": {
            "text/html": [
              "<div><iframe src=\"http://127.0.0.1:7860/\" width=\"100%\" height=\"500\" allow=\"autoplay; camera; microphone; clipboard-read; clipboard-write;\" frameborder=\"0\" allowfullscreen></iframe></div>"
            ],
            "text/plain": [
              "<IPython.core.display.HTML object>"
            ]
          },
          "metadata": {},
          "output_type": "display_data"
        },
        {
          "data": {
            "text/plain": []
          },
          "execution_count": 18,
          "metadata": {},
          "output_type": "execute_result"
        }
      ],
      "source": [
        "# Interface utilisateur Gradio\n",
        "with gr.Blocks() as demo:\n",
        "\n",
        "    with gr.Row():\n",
        "        with gr.Column():\n",
        "            # Composant Dropdown pour sélectionner l'année ou \"Moyenne\"\n",
        "          gr.Markdown(\"### Répartition du temps de parole Hommes/Femmes pour chaque Année\")\n",
        "          # Bouton pour générer le camembert\n",
        "          btn1 = gr.Button(\"Générer le camembert\")\n",
        "          year_input = gr.Dropdown(\n",
        "          label=\"Sélectionnez l'année :\",\n",
        "          choices=[\"Moyenne\"] + sorted(df_years[\"year\"].unique().astype(str).tolist()),\n",
        "          value=\"Moyenne\"  # Valeur par défaut\n",
        "          )\n",
        "          output_women_rate_by_year = gr.Plot()\n",
        "\n",
        "    btn1.click(\n",
        "        fn=generer_women_rate_by_year,\n",
        "        inputs=[year_input],\n",
        "        outputs=[output_women_rate_by_year]\n",
        "    )\n",
        "\n",
        "    media_input = gr.CheckboxGroup(\n",
        "      label=\"Sélectionnez le type de média :\",\n",
        "      choices=liste_types_media,\n",
        "      value=liste_types_media\n",
        "    )\n",
        "\n",
        "    is_publique_input = gr.CheckboxGroup(\n",
        "      label=\"Sélectionnez la catégorie de média :\",\n",
        "      choices=liste_public_prive,  # Exemple : [True, False]\n",
        "      value=liste_public_prive\n",
        "    )\n",
        "\n",
        "    themes_input = gr.CheckboxGroup(\n",
        "        label=\"Sélectionnez le thème des chaînes:\",\n",
        "        choices=liste_themes,  # Exemple : [True, False]\n",
        "        value=liste_themes\n",
        "    )\n",
        "\n",
        "    #Bouton pour générer les autres graphiques\n",
        "    btn2 = gr.Button(\"Générer les graphiques\")\n",
        "\n",
        "    with gr.Row():\n",
        "        with gr.Column():\n",
        "            gr.Markdown(\"### Taux de parole des femmes au fil des années\")\n",
        "            output_women_rate_years = gr.Plot()\n",
        "\n",
        "    with gr.Row():\n",
        "        with gr.Column():\n",
        "            gr.Markdown(\"### Taux de parole des femmes en fonction des tranches horaires\")\n",
        "            output_tranches_horaires = gr.Plot()\n",
        "    with gr.Row():\n",
        "        with gr.Column():\n",
        "            gr.Markdown(\"### Taux de paroles des femmes en fonction du taux de parole (100 - taux de musique)\")\n",
        "            output_taux_parole = gr.Plot()\n",
        "        with gr.Column():\n",
        "            gr.Markdown(\"### Taux de parole des femmes concernant les chaines ayant fait l'objet de déclarations au CSA\")\n",
        "            output_csa = gr.Plot()\n",
        "    with gr.Row():\n",
        "        with gr.Column():\n",
        "            gr.Markdown(\"### Comparaison du nombre de déclaration entre 2019 et 2020 pour chaque chaîne\")\n",
        "            output_decla = gr.Plot()\n",
        "\n",
        "    channel_input = gr.Dropdown(\n",
        "        label=\"Sélectionnez la chaîne :\",\n",
        "        choices=liste_channel,\n",
        "        value=\"Moyenne\"\n",
        "    )\n",
        "\n",
        "    with gr.Row():\n",
        "       with gr.Column():\n",
        "            gr.Markdown(\"### Prédiction de la parité par chaînes\")\n",
        "            btn3 = gr.Button(\"Générer la prédiction\")\n",
        "            output_parite = gr.Plot()\n",
        "\n",
        "\n",
        "    # Définir les actions lors du clic sur le bouton\n",
        "    def generer_tous_les_graphiques(media_type_selection, public_prive_selection, themes_selection):\n",
        "      # Appeler les fonctions de génération des graphiques\n",
        "      fig_tranches_horaires = generer_tranches_horaires(media_type_selection, public_prive_selection, themes_selection)\n",
        "      fig_taux_parole = generer_graphe_women_rate_speech_rate(media_type_selection, themes_selection)\n",
        "      fig_csa = generer_women_rate_nbr_decla(media_type_selection, public_prive_selection, themes_selection)\n",
        "      fig_decla = generer_nbr_decla_2019_nbr_decla_2020(themes_selection)\n",
        "      fig_women_rate_years = generer_women_rate_years(media_type_selection, public_prive_selection, themes_selection)\n",
        "\n",
        "      # Retourner les figures\n",
        "      return fig_tranches_horaires, fig_taux_parole, fig_csa, fig_decla, fig_women_rate_years\n",
        "\n",
        "\n",
        "    btn2.click(\n",
        "    fn = generer_tous_les_graphiques,\n",
        "    inputs=[media_input, is_publique_input, themes_input],\n",
        "    outputs=[output_tranches_horaires, output_taux_parole, output_csa, output_decla, output_women_rate_years]\n",
        "    )\n",
        "\n",
        "    btn3.click(\n",
        "    fn = graphe_prediction_parite,\n",
        "    inputs=channel_input,\n",
        "    outputs= output_parite\n",
        "    )\n",
        "\n",
        "demo.launch()"
      ]
    },
    {
      "cell_type": "markdown",
      "metadata": {
        "id": "1sOI24VtMVMf"
      },
      "source": [
        "# Graphique Evolution du taux d'expression des femmes des chaînes"
      ]
    },
    {
      "cell_type": "code",
      "execution_count": 19,
      "metadata": {
        "id": "aZ4FCMrzMSkl"
      },
      "outputs": [],
      "source": [
        "first_last_years = df_years.loc[df_years.groupby('channel_name')['year'].idxmin().values]\n",
        "first_last_years = first_last_years[['channel_name', 'women_expression_rate','media_type']]\n",
        "first_last_years.columns = ['channel_name', 'first_year_women_rate','media_type']\n",
        "\n",
        "first_last_years_max = df_years.loc[df_years.groupby('channel_name')['year'].idxmax().values]\n",
        "first_last_years_max = first_last_years_max[['channel_name', 'women_expression_rate','media_type']]\n",
        "first_last_years_max.columns = ['channel_name', 'last_year_women_rate','media_type']\n",
        "\n",
        "first_last_years=pd.merge(first_last_years,first_last_years_max)\n",
        "first_last_years[\"evolution\"]=first_last_years[\"last_year_women_rate\"]-first_last_years[\"first_year_women_rate\"]\n",
        "\n",
        "evolutiontv=first_last_years[first_last_years['media_type'] == 'tv']\n",
        "evolutionradio=first_last_years[first_last_years['media_type'] == 'radio']"
      ]
    },
    {
      "cell_type": "code",
      "execution_count": 20,
      "metadata": {
        "colab": {
          "base_uri": "https://localhost:8080/",
          "height": 1000
        },
        "id": "mzRWfnNdMfxO",
        "outputId": "5f2d7d33-75ab-43ce-9886-22c1b1bf9160"
      },
      "outputs": [
        {
          "data": {
            "text/plain": [
              "<Figure size 1000x600 with 1 Axes>"
            ]
          },
          "metadata": {},
          "output_type": "display_data"
        },
        {
          "data": {
            "text/plain": [
              "<Figure size 1000x600 with 1 Axes>"
            ]
          },
          "metadata": {},
          "output_type": "display_data"
        }
      ],
      "source": [
        "plt.figure(figsize=(10, 6))\n",
        "plt.bar(evolutiontv['channel_name'], evolutiontv['evolution'],color='#5c538b' )\n",
        "plt.xlabel(\"Nom de la chaîne\")\n",
        "plt.ylabel(\"Evolution\")\n",
        "plt.title(\"Evolution du temps de parole par chaîne tv\")\n",
        "plt.xticks(rotation=75)\n",
        "plt.tight_layout()\n",
        "plt.show()\n",
        "\n",
        "plt.figure(figsize=(10, 6))  # Ajuster la taille si nécessaire\n",
        "plt.bar(evolutionradio['channel_name'], evolutionradio['evolution'],color=\"#5c538b\")\n",
        "plt.xlabel(\"Nom de la chaîne\")\n",
        "plt.ylabel(\"Evolution\")\n",
        "plt.title(\"Evolution du temps de parole des femmes par chaîne radio\")\n",
        "plt.xticks(rotation=75)\n",
        "plt.tight_layout()\n",
        "plt.show()"
      ]
    }
  ],
  "metadata": {
    "colab": {
      "collapsed_sections": [
        "ETnsfB26pdLI",
        "F44qZlL-aoUZ",
        "UHwLMue0ZtR3",
        "_Bmb21anZwHG"
      ],
      "provenance": []
    },
    "kernelspec": {
      "display_name": "Python 3",
      "name": "python3"
    },
    "language_info": {
      "codemirror_mode": {
        "name": "ipython",
        "version": 3
      },
      "file_extension": ".py",
      "mimetype": "text/x-python",
      "name": "python",
      "nbconvert_exporter": "python",
      "pygments_lexer": "ipython3",
      "version": "3.11.0"
    }
  },
  "nbformat": 4,
  "nbformat_minor": 0
}
