{
 "cells": [
  {
   "cell_type": "code",
   "execution_count": 2,
   "metadata": {},
   "outputs": [],
   "source": [
    "import pandas as pd\n",
    "import numpy as np"
   ]
  },
  {
   "cell_type": "markdown",
   "metadata": {},
   "source": [
    "## AFC thématiques\n",
    "\n",
    "On commence par charger les données sur les thématiques des chaînes."
   ]
  },
  {
   "cell_type": "code",
   "execution_count": 3,
   "metadata": {},
   "outputs": [
    {
     "data": {
      "text/html": [
       "<div>\n",
       "<style scoped>\n",
       "    .dataframe tbody tr th:only-of-type {\n",
       "        vertical-align: middle;\n",
       "    }\n",
       "\n",
       "    .dataframe tbody tr th {\n",
       "        vertical-align: top;\n",
       "    }\n",
       "\n",
       "    .dataframe thead th {\n",
       "        text-align: right;\n",
       "    }\n",
       "</style>\n",
       "<table border=\"1\" class=\"dataframe\">\n",
       "  <thead>\n",
       "    <tr style=\"text-align: right;\">\n",
       "      <th></th>\n",
       "      <th>2</th>\n",
       "      <th>4</th>\n",
       "      <th>5</th>\n",
       "    </tr>\n",
       "  </thead>\n",
       "  <tbody>\n",
       "    <tr>\n",
       "      <th>count</th>\n",
       "      <td>0.0</td>\n",
       "      <td>268424.000000</td>\n",
       "      <td>268424.000000</td>\n",
       "    </tr>\n",
       "    <tr>\n",
       "      <th>mean</th>\n",
       "      <td>NaN</td>\n",
       "      <td>2.184745</td>\n",
       "      <td>194.009098</td>\n",
       "    </tr>\n",
       "    <tr>\n",
       "      <th>std</th>\n",
       "      <td>NaN</td>\n",
       "      <td>1.917227</td>\n",
       "      <td>203.621299</td>\n",
       "    </tr>\n",
       "    <tr>\n",
       "      <th>min</th>\n",
       "      <td>NaN</td>\n",
       "      <td>1.000000</td>\n",
       "      <td>1.000000</td>\n",
       "    </tr>\n",
       "    <tr>\n",
       "      <th>25%</th>\n",
       "      <td>NaN</td>\n",
       "      <td>1.000000</td>\n",
       "      <td>89.000000</td>\n",
       "    </tr>\n",
       "    <tr>\n",
       "      <th>50%</th>\n",
       "      <td>NaN</td>\n",
       "      <td>2.000000</td>\n",
       "      <td>134.000000</td>\n",
       "    </tr>\n",
       "    <tr>\n",
       "      <th>75%</th>\n",
       "      <td>NaN</td>\n",
       "      <td>3.000000</td>\n",
       "      <td>242.000000</td>\n",
       "    </tr>\n",
       "    <tr>\n",
       "      <th>max</th>\n",
       "      <td>NaN</td>\n",
       "      <td>102.000000</td>\n",
       "      <td>16125.000000</td>\n",
       "    </tr>\n",
       "  </tbody>\n",
       "</table>\n",
       "</div>"
      ],
      "text/plain": [
       "         2              4              5\n",
       "count  0.0  268424.000000  268424.000000\n",
       "mean   NaN       2.184745     194.009098\n",
       "std    NaN       1.917227     203.621299\n",
       "min    NaN       1.000000       1.000000\n",
       "25%    NaN       1.000000      89.000000\n",
       "50%    NaN       2.000000     134.000000\n",
       "75%    NaN       3.000000     242.000000\n",
       "max    NaN     102.000000   16125.000000"
      ]
     },
     "execution_count": 3,
     "metadata": {},
     "output_type": "execute_result"
    }
   ],
   "source": [
    "path = \"Data/Classement thématique des sujets de journeaux télévisés/ina-barometre-jt-tv-donnees-quotidiennes-2000-2020-nbre-sujets-durees-202410.csv\" \n",
    "df = pd.read_csv(path, encoding=\"latin-1\", sep=\";\", header=None)\n",
    "df.describe()\n"
   ]
  },
  {
   "cell_type": "markdown",
   "metadata": {},
   "source": [
    "On construit la table de contingence."
   ]
  },
  {
   "cell_type": "code",
   "execution_count": 4,
   "metadata": {},
   "outputs": [],
   "source": [
    "themes = df[3].unique()\n",
    "chaines = df[1].unique()\n",
    "df_eff = pd.DataFrame(columns=themes, index=chaines)\n",
    "\n",
    "for th in themes:\n",
    "    for ch in chaines:\n",
    "        temps = df[(df[1]==ch) & (df[3]==th)][5].sum()\n",
    "        df_eff.loc[ch, th] = temps\n",
    "\n",
    "df_eff = df_eff.astype(float)"
   ]
  },
  {
   "cell_type": "markdown",
   "metadata": {},
   "source": [
    "On applique l'AFC à celle-ci pour observer les corrélations entre chaîne et thématique abordée."
   ]
  },
  {
   "cell_type": "code",
   "execution_count": 37,
   "metadata": {},
   "outputs": [],
   "source": [
    "import numpy as np\n",
    "import pandas as pd\n",
    "import matplotlib.pyplot as plt\n",
    "from typing import Tuple\n",
    "\n",
    "class AFC():\n",
    "    \n",
    "    def __init__(self):\n",
    "        return None\n",
    "        \n",
    "    def fit(self, df_contingence:pd.DataFrame):\n",
    "        \"\"\"Calcule l'AFC de la matrice de contingeance donnée en entrée et affiche le résultat.\n",
    "\n",
    "        Args:\n",
    "            df_contingence (pd.DataFrame): une matrice de contingeance entre deux variables qualitatives\n",
    "\n",
    "        Returns:\n",
    "            Tuple[np.ndarray, np.ndarray, np.ndarray]: le triplet (U, s, Vt) issu de la SVD de la matrice d'inertie.\n",
    "        \"\"\"\n",
    "        \n",
    "        # Calcul des fréquences relatives\n",
    "        self.contingence = df_contingence\n",
    "        n_total = self.contingence.values.sum()\n",
    "        P = self.contingence / n_total  # Matrice de fréquences\n",
    "        row_sums = P.sum(axis=1)  # Totaux des lignes\n",
    "        col_sums = P.sum(axis=0)  # Totaux des colonnes\n",
    "\n",
    "        # Matrice centrée et réduite (matrice de résidus)\n",
    "        E = np.outer(row_sums, col_sums).astype(float)  # Matrice attendue sous hypothèse d'indépendance\n",
    "        Z = (P - E) / np.sqrt(E)  # Matrice des résidus du Chi2\n",
    "\n",
    "        # Décomposition en valeurs singulières (SVD)\n",
    "        self.U, self.s, self.Vt = np.linalg.svd(Z, full_matrices=False)\n",
    "        \n",
    "        # Calcul des coordonnées factorielles & de l'inertie expliquée par les axes\n",
    "        self.row_coordinates = self.U * self.s  # Coordonnées des lignes\n",
    "        self.col_coordinates = self.Vt.T * self.s  # Coordonnées des colonnes\n",
    "        self.explained_inertia = 100*(self.s ** 2) / np.sum(self.s ** 2)\n",
    "        \n",
    "        # Qualité de représetation\n",
    "        cos2_row = (self.row_coordinates**2) / np.sum(self.row_coordinates**2, axis=1)[:, np.newaxis]\n",
    "        cos2_col = (self.col_coordinates**2) / np.sum(self.col_coordinates**2, axis=1)[:, np.newaxis]\n",
    "        self.cos2_row = pd.DataFrame(cos2_row, \n",
    "                                     columns=[f'Axe {i+1}' for i in range(cos2_row.shape[1])],\n",
    "                                     index = self.contingence.index)\n",
    "        self.cos2_col = pd.DataFrame(cos2_col, \n",
    "                                     columns=[f'Axe {i+1}' for i in range(cos2_row.shape[1])],\n",
    "                                     index = self.contingence.columns)\n",
    "        \n",
    "        # Contribution des lignes\n",
    "        contrib_row = (self.row_coordinates**2 / self.s**2) * row_sums.values[:, np.newaxis]\n",
    "        contrib_row = contrib_row / contrib_row.sum(axis=0)\n",
    "        self.contrib_row = pd.DataFrame(contrib_row, \n",
    "                                     columns=[f'Axe {i+1}' for i in range(contrib_row.shape[1])],\n",
    "                                     index = self.contingence.index)\n",
    "        \n",
    "        # Contribution des colonnes\n",
    "        contrib_col = (self.col_coordinates**2 / self.s**2) * col_sums.values[:, np.newaxis]\n",
    "        contrib_col = contrib_col / contrib_col.sum(axis=0)\n",
    "        self.contrib_col = pd.DataFrame(contrib_col, \n",
    "                                     columns=[f'Axe {i+1}' for i in range(contrib_col.shape[1])],\n",
    "                                     index = self.contingence.columns)\n",
    "        \n",
    "    def plot(self, title: str = ''):\n",
    "        \"\"\" Trace le graphe de l'AFC.\"\"\"\n",
    "        \n",
    "        # Étape 5 : Visualisation des résultats\n",
    "        plt.figure(figsize=(8, 8))\n",
    "        plt.axhline(0, linestyle='--', color='grey')\n",
    "        plt.axvline(0, linestyle='--', color='grey')\n",
    "\n",
    "        # Coordonnées des lignes\n",
    "        for i, (x, y) in enumerate(zip(self.row_coordinates[:, 0], self.row_coordinates[:, 1])):\n",
    "            plt.scatter(x, y, label=self.contingence.index[i], color='blue')\n",
    "            plt.text(x, y, self.contingence.index[i], color='blue')\n",
    "\n",
    "        # Coordonnées des colonnes\n",
    "        for i, (x, y) in enumerate(zip(self.col_coordinates[:, 0], self.col_coordinates[:, 1])):\n",
    "            plt.scatter(x, y, label=self.contingence.columns[i], color='red')\n",
    "            plt.text(x, y, self.contingence.columns[i], color='red')\n",
    "\n",
    "        plt.title(title)\n",
    "        plt.xlabel(f'Axe 1 ({np.round(self.explained_inertia[0],2)} %)')\n",
    "        plt.ylabel(f'Axe 2 ({np.round(self.explained_inertia[1],2)} %)')\n",
    "        plt.grid()\n",
    "        plt.show()\n",
    "        \n",
    "    def qualite(self):\n",
    "        \"\"\"Affiche les qualités de représentations de chaque modalités sur les axes\"\"\"\n",
    "        \n",
    "        print(\"Qualité de représentation des modalités lignes\")\n",
    "        print(self.cos2_row)\n",
    "        print(\"-----------------------------------------------------------------\")\n",
    "        print(\"Qualité de représentation des modalités colonnes\")\n",
    "        print (self.cos2_col)\n",
    "        \n",
    "    def contribution(self):\n",
    "        \"\"\"Affiche la contribution de chaque modalité aux axes\"\"\"\n",
    "        \n",
    "        print(\"Contibutions des modalités lignes\")\n",
    "        print(self.contrib_row)\n",
    "        print(\"-----------------------------------------------------------------\")\n",
    "        print(\"Contributions des modalités colonnes\")\n",
    "        print (self.contrib_col)\n"
   ]
  },
  {
   "cell_type": "code",
   "execution_count": 38,
   "metadata": {},
   "outputs": [
    {
     "data": {
      "image/png": "[encoded data removed]",
      "text/plain": [
       "<Figure size 800x800 with 1 Axes>"
      ]
     },
     "metadata": {},
     "output_type": "display_data"
    }
   ],
   "source": [
    "afc = AFC()\n",
    "afc.fit(df_eff)\n",
    "afc.plot(\"AFC: proximité entre thèmes et chaînes\")"
   ]
  },
  {
   "cell_type": "code",
   "execution_count": 39,
   "metadata": {},
   "outputs": [
    {
     "name": "stdout",
     "output_type": "stream",
     "text": [
      "Qualité de représentation des modalités lignes\n",
      "             Axe 1     Axe 2     Axe 3     Axe 4         Axe 5\n",
      "France 3  0.483461  0.033539  0.440907  0.042093  4.825953e-31\n",
      "Arte      0.999421  0.000229  0.000340  0.000010  1.215525e-32\n",
      "M6        0.598341  0.374028  0.026282  0.001349  1.172123e-31\n",
      "France 2  0.629815  0.196668  0.069353  0.104163  9.070586e-31\n",
      "TF1       0.797200  0.102474  0.091461  0.008865  2.477100e-31\n",
      "-----------------------------------------------------------------\n",
      "Qualité de représentation des modalités colonnes\n",
      "                           Axe 1     Axe 2         Axe 3     Axe 4  \\\n",
      "Catastrophes            0.979307  0.000612  7.899034e-04  0.019291   \n",
      "Culture-loisirs         0.458348  0.416455  7.708320e-02  0.048113   \n",
      "Environnement           0.339384  0.551363  8.371018e-02  0.025543   \n",
      "International           0.999783  0.000095  1.281835e-07  0.000122   \n",
      "Société                 0.987614  0.002733  3.575965e-03  0.006077   \n",
      "Sport                   0.968204  0.001249  3.019301e-02  0.000354   \n",
      "Economie                0.512697  0.409506  4.228246e-02  0.035515   \n",
      "Education               0.935990  0.003261  5.410533e-02  0.006643   \n",
      "Politique France        0.765702  0.007977  2.246896e-01  0.001631   \n",
      "Santé                   0.962849  0.001024  3.450874e-02  0.001618   \n",
      "Histoire-hommages       0.576696  0.003048  4.050398e-01  0.015217   \n",
      "Justice                 0.300030  0.263071  3.573509e-01  0.079548   \n",
      "Faits divers            0.696772  0.301905  5.197833e-07  0.001322   \n",
      "Sciences et techniques  0.467677  0.067901  4.289894e-01  0.035432   \n",
      "\n",
      "                               Axe 5  \n",
      "Catastrophes            4.327703e-32  \n",
      "Culture-loisirs         5.503972e-31  \n",
      "Environnement           7.101901e-31  \n",
      "International           1.050544e-32  \n",
      "Société                 1.088022e-31  \n",
      "Sport                   1.201495e-32  \n",
      "Economie                7.249752e-31  \n",
      "Education               1.665331e-33  \n",
      "Politique France        9.971032e-32  \n",
      "Santé                   2.746438e-31  \n",
      "Histoire-hommages       1.226576e-31  \n",
      "Justice                 6.438987e-31  \n",
      "Faits divers            9.986325e-32  \n",
      "Sciences et techniques  1.885732e-31  \n"
     ]
    }
   ],
   "source": [
    "afc.qualite()"
   ]
  },
  {
   "cell_type": "code",
   "execution_count": 36,
   "metadata": {},
   "outputs": [
    {
     "name": "stdout",
     "output_type": "stream",
     "text": [
      "Contibutions des modalités lignes\n",
      "             Axe 1     Axe 2     Axe 3     Axe 4     Axe 5\n",
      "France 3  0.017702  0.021397  0.443797  0.195838  0.149682\n",
      "Arte      0.776930  0.003102  0.007267  0.001001  0.080044\n",
      "M6        0.048864  0.532214  0.059004  0.013997  0.081085\n",
      "France 2  0.028977  0.157661  0.087720  0.608966  0.353518\n",
      "TF1       0.127528  0.285626  0.402212  0.180198  0.335670\n",
      "-----------------------------------------------------------------\n",
      "Contributions des modalités colonnes\n",
      "                           Axe 1     Axe 2         Axe 3     Axe 4     Axe 5\n",
      "Catastrophes            0.011520  0.000337  7.789761e-04  0.094308  0.010994\n",
      "Culture-loisirs         0.007019  0.298197  9.896061e-02  0.306210  0.182017\n",
      "Environnement           0.001827  0.138782  3.777840e-02  0.057146  0.082561\n",
      "International           0.870061  0.003877  9.351415e-06  0.044022  0.197421\n",
      "Société                 0.030135  0.003899  9.147145e-03  0.077059  0.071691\n",
      "Sport                   0.026429  0.001594  6.909163e-02  0.004016  0.007082\n",
      "Economie                0.007687  0.287059  5.314213e-02  0.221277  0.234712\n",
      "Education               0.002625  0.000428  1.272062e-02  0.007742  0.000101\n",
      "Politique France        0.021015  0.010237  5.169573e-01  0.018601  0.059094\n",
      "Santé                   0.009894  0.000492  2.972727e-02  0.006909  0.060944\n",
      "Histoire-hommages       0.000116  0.000029  6.857964e-03  0.001277  0.000535\n",
      "Justice                 0.001243  0.050957  1.241054e-01  0.136955  0.057603\n",
      "Faits divers            0.009898  0.200518  6.189736e-07  0.007804  0.030633\n",
      "Sciences et techniques  0.000530  0.003595  4.072265e-02  0.016674  0.004611\n"
     ]
    }
   ],
   "source": [
    "afc.contribution()"
   ]
  }
 ],
 "metadata": {
  "kernelspec": {
   "display_name": "base",
   "language": "python",
   "name": "python3"
  },
  "language_info": {
   "codemirror_mode": {
    "name": "ipython",
    "version": 3
   },
   "file_extension": ".py",
   "mimetype": "text/x-python",
   "name": "python",
   "nbconvert_exporter": "python",
   "pygments_lexer": "ipython3",
   "version": "3.11.5"
  }
 },
 "nbformat": 4,
 "nbformat_minor": 2
}
